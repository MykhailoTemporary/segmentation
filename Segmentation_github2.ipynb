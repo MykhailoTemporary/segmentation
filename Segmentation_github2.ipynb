{
  "nbformat": 4,
  "nbformat_minor": 0,
  "metadata": {
    "colab": {
      "name": "Segmentation_github.ipynb",
      "provenance": [],
      "collapsed_sections": [],
      "toc_visible": true,
      "mount_file_id": "1cu-a4XKFuvvtFX3RRYeBPScsF-G_aIf1",
      "authorship_tag": "ABX9TyPxRA0XxwyAXfd+BeQoBJTe",
      "include_colab_link": true
    },
    "kernelspec": {
      "name": "python3",
      "display_name": "Python 3"
    }
  },
  "cells": [
    {
      "cell_type": "markdown",
      "metadata": {
        "id": "view-in-github",
        "colab_type": "text"
      },
      "source": [
        "<a href=\"https://colab.research.google.com/github/MykhailoFokin/segmentation/blob/master/Segmentation_github2.ipynb\" target=\"_parent\"><img src=\"https://colab.research.google.com/assets/colab-badge.svg\" alt=\"Open In Colab\"/></a>"
      ]
    },
    {
      "cell_type": "code",
      "metadata": {
        "id": "B1CBw10OGmAU",
        "colab_type": "code",
        "outputId": "d6506b87-d15d-45ea-a7ca-417cf3aa9b9c",
        "colab": {
          "base_uri": "https://localhost:8080/",
          "height": 136
        }
      },
      "source": [
        "!git clone https://github.com/MykhailoFokin/segmentation"
      ],
      "execution_count": 1,
      "outputs": [
        {
          "output_type": "stream",
          "text": [
            "Cloning into 'segmentation'...\n",
            "remote: Enumerating objects: 127, done.\u001b[K\n",
            "remote: Counting objects: 100% (127/127), done.\u001b[K\n",
            "remote: Compressing objects: 100% (31/31), done.\u001b[K\n",
            "remote: Total 223 (delta 98), reused 117 (delta 92), pack-reused 96\u001b[K\n",
            "Receiving objects: 100% (223/223), 32.57 MiB | 36.25 MiB/s, done.\n",
            "Resolving deltas: 100% (98/98), done.\n"
          ],
          "name": "stdout"
        }
      ]
    },
    {
      "cell_type": "code",
      "metadata": {
        "id": "i0rkMHaomcE4",
        "colab_type": "code",
        "outputId": "e90e7575-3a1d-4b57-9d00-02f1747a29b5",
        "colab": {
          "base_uri": "https://localhost:8080/",
          "height": 1000
        }
      },
      "source": [
        "!pip install segmentation-models\n",
        "!pip install -U git+https://github.com/albu/albumentations --no-cache-dir\n",
        "\n",
        "#!pip install --upgrade tensorflow tensorflow-tensorboard\n",
        "#!pip uninstall tensorflow-tensorboar\n",
        "\n",
        "#!pip install tensorboard\n",
        "#!pip install keras-rectified-adam"
      ],
      "execution_count": 2,
      "outputs": [
        {
          "output_type": "stream",
          "text": [
            "Collecting segmentation-models\n",
            "  Downloading https://files.pythonhosted.org/packages/da/b9/4a183518c21689a56b834eaaa45cad242d9ec09a4360b5b10139f23c63f4/segmentation_models-1.0.1-py3-none-any.whl\n",
            "Collecting image-classifiers==1.0.0\n",
            "  Downloading https://files.pythonhosted.org/packages/81/98/6f84720e299a4942ab80df5f76ab97b7828b24d1de5e9b2cbbe6073228b7/image_classifiers-1.0.0-py3-none-any.whl\n",
            "Collecting efficientnet==1.0.0\n",
            "  Downloading https://files.pythonhosted.org/packages/97/82/f3ae07316f0461417dc54affab6e86ab188a5a22f33176d35271628b96e0/efficientnet-1.0.0-py3-none-any.whl\n",
            "Requirement already satisfied: keras-applications<=1.0.8,>=1.0.7 in /usr/local/lib/python3.6/dist-packages (from segmentation-models) (1.0.8)\n",
            "Requirement already satisfied: scikit-image in /usr/local/lib/python3.6/dist-packages (from efficientnet==1.0.0->segmentation-models) (0.16.2)\n",
            "Requirement already satisfied: h5py in /usr/local/lib/python3.6/dist-packages (from keras-applications<=1.0.8,>=1.0.7->segmentation-models) (2.10.0)\n",
            "Requirement already satisfied: numpy>=1.9.1 in /usr/local/lib/python3.6/dist-packages (from keras-applications<=1.0.8,>=1.0.7->segmentation-models) (1.18.2)\n",
            "Requirement already satisfied: pillow>=4.3.0 in /usr/local/lib/python3.6/dist-packages (from scikit-image->efficientnet==1.0.0->segmentation-models) (7.0.0)\n",
            "Requirement already satisfied: imageio>=2.3.0 in /usr/local/lib/python3.6/dist-packages (from scikit-image->efficientnet==1.0.0->segmentation-models) (2.4.1)\n",
            "Requirement already satisfied: PyWavelets>=0.4.0 in /usr/local/lib/python3.6/dist-packages (from scikit-image->efficientnet==1.0.0->segmentation-models) (1.1.1)\n",
            "Requirement already satisfied: matplotlib!=3.0.0,>=2.0.0 in /usr/local/lib/python3.6/dist-packages (from scikit-image->efficientnet==1.0.0->segmentation-models) (3.2.1)\n",
            "Requirement already satisfied: scipy>=0.19.0 in /usr/local/lib/python3.6/dist-packages (from scikit-image->efficientnet==1.0.0->segmentation-models) (1.4.1)\n",
            "Requirement already satisfied: networkx>=2.0 in /usr/local/lib/python3.6/dist-packages (from scikit-image->efficientnet==1.0.0->segmentation-models) (2.4)\n",
            "Requirement already satisfied: six in /usr/local/lib/python3.6/dist-packages (from h5py->keras-applications<=1.0.8,>=1.0.7->segmentation-models) (1.12.0)\n",
            "Requirement already satisfied: python-dateutil>=2.1 in /usr/local/lib/python3.6/dist-packages (from matplotlib!=3.0.0,>=2.0.0->scikit-image->efficientnet==1.0.0->segmentation-models) (2.8.1)\n",
            "Requirement already satisfied: cycler>=0.10 in /usr/local/lib/python3.6/dist-packages (from matplotlib!=3.0.0,>=2.0.0->scikit-image->efficientnet==1.0.0->segmentation-models) (0.10.0)\n",
            "Requirement already satisfied: kiwisolver>=1.0.1 in /usr/local/lib/python3.6/dist-packages (from matplotlib!=3.0.0,>=2.0.0->scikit-image->efficientnet==1.0.0->segmentation-models) (1.2.0)\n",
            "Requirement already satisfied: pyparsing!=2.0.4,!=2.1.2,!=2.1.6,>=2.0.1 in /usr/local/lib/python3.6/dist-packages (from matplotlib!=3.0.0,>=2.0.0->scikit-image->efficientnet==1.0.0->segmentation-models) (2.4.7)\n",
            "Requirement already satisfied: decorator>=4.3.0 in /usr/local/lib/python3.6/dist-packages (from networkx>=2.0->scikit-image->efficientnet==1.0.0->segmentation-models) (4.4.2)\n",
            "Installing collected packages: image-classifiers, efficientnet, segmentation-models\n",
            "Successfully installed efficientnet-1.0.0 image-classifiers-1.0.0 segmentation-models-1.0.1\n",
            "Collecting git+https://github.com/albu/albumentations\n",
            "  Cloning https://github.com/albu/albumentations to /tmp/pip-req-build-1dkyc727\n",
            "  Running command git clone -q https://github.com/albu/albumentations /tmp/pip-req-build-1dkyc727\n",
            "Requirement already satisfied, skipping upgrade: numpy>=1.11.1 in /usr/local/lib/python3.6/dist-packages (from albumentations==0.4.5) (1.18.2)\n",
            "Requirement already satisfied, skipping upgrade: scipy in /usr/local/lib/python3.6/dist-packages (from albumentations==0.4.5) (1.4.1)\n",
            "Collecting imgaug<0.2.7,>=0.2.5\n",
            "\u001b[?25l  Downloading https://files.pythonhosted.org/packages/ad/2e/748dbb7bb52ec8667098bae9b585f448569ae520031932687761165419a2/imgaug-0.2.6.tar.gz (631kB)\n",
            "\u001b[K     |████████████████████████████████| 634kB 3.4MB/s \n",
            "\u001b[?25hRequirement already satisfied, skipping upgrade: PyYAML in /usr/local/lib/python3.6/dist-packages (from albumentations==0.4.5) (3.13)\n",
            "Requirement already satisfied, skipping upgrade: opencv-python>=4.1.1 in /usr/local/lib/python3.6/dist-packages (from albumentations==0.4.5) (4.1.2.30)\n",
            "Requirement already satisfied, skipping upgrade: scikit-image>=0.11.0 in /usr/local/lib/python3.6/dist-packages (from imgaug<0.2.7,>=0.2.5->albumentations==0.4.5) (0.16.2)\n",
            "Requirement already satisfied, skipping upgrade: six in /usr/local/lib/python3.6/dist-packages (from imgaug<0.2.7,>=0.2.5->albumentations==0.4.5) (1.12.0)\n",
            "Requirement already satisfied, skipping upgrade: networkx>=2.0 in /usr/local/lib/python3.6/dist-packages (from scikit-image>=0.11.0->imgaug<0.2.7,>=0.2.5->albumentations==0.4.5) (2.4)\n",
            "Requirement already satisfied, skipping upgrade: imageio>=2.3.0 in /usr/local/lib/python3.6/dist-packages (from scikit-image>=0.11.0->imgaug<0.2.7,>=0.2.5->albumentations==0.4.5) (2.4.1)\n",
            "Requirement already satisfied, skipping upgrade: matplotlib!=3.0.0,>=2.0.0 in /usr/local/lib/python3.6/dist-packages (from scikit-image>=0.11.0->imgaug<0.2.7,>=0.2.5->albumentations==0.4.5) (3.2.1)\n",
            "Requirement already satisfied, skipping upgrade: pillow>=4.3.0 in /usr/local/lib/python3.6/dist-packages (from scikit-image>=0.11.0->imgaug<0.2.7,>=0.2.5->albumentations==0.4.5) (7.0.0)\n",
            "Requirement already satisfied, skipping upgrade: PyWavelets>=0.4.0 in /usr/local/lib/python3.6/dist-packages (from scikit-image>=0.11.0->imgaug<0.2.7,>=0.2.5->albumentations==0.4.5) (1.1.1)\n",
            "Requirement already satisfied, skipping upgrade: decorator>=4.3.0 in /usr/local/lib/python3.6/dist-packages (from networkx>=2.0->scikit-image>=0.11.0->imgaug<0.2.7,>=0.2.5->albumentations==0.4.5) (4.4.2)\n",
            "Requirement already satisfied, skipping upgrade: kiwisolver>=1.0.1 in /usr/local/lib/python3.6/dist-packages (from matplotlib!=3.0.0,>=2.0.0->scikit-image>=0.11.0->imgaug<0.2.7,>=0.2.5->albumentations==0.4.5) (1.2.0)\n",
            "Requirement already satisfied, skipping upgrade: pyparsing!=2.0.4,!=2.1.2,!=2.1.6,>=2.0.1 in /usr/local/lib/python3.6/dist-packages (from matplotlib!=3.0.0,>=2.0.0->scikit-image>=0.11.0->imgaug<0.2.7,>=0.2.5->albumentations==0.4.5) (2.4.7)\n",
            "Requirement already satisfied, skipping upgrade: python-dateutil>=2.1 in /usr/local/lib/python3.6/dist-packages (from matplotlib!=3.0.0,>=2.0.0->scikit-image>=0.11.0->imgaug<0.2.7,>=0.2.5->albumentations==0.4.5) (2.8.1)\n",
            "Requirement already satisfied, skipping upgrade: cycler>=0.10 in /usr/local/lib/python3.6/dist-packages (from matplotlib!=3.0.0,>=2.0.0->scikit-image>=0.11.0->imgaug<0.2.7,>=0.2.5->albumentations==0.4.5) (0.10.0)\n",
            "Building wheels for collected packages: albumentations, imgaug\n",
            "  Building wheel for albumentations (setup.py) ... \u001b[?25l\u001b[?25hdone\n",
            "  Created wheel for albumentations: filename=albumentations-0.4.5-cp36-none-any.whl size=65099 sha256=4ee8b631a56162b50e70ed6d8df0c05b29d692641c3fb13d43954c6d154799e4\n",
            "  Stored in directory: /tmp/pip-ephem-wheel-cache-cl6kyxzf/wheels/45/8b/e4/2837bbcf517d00732b8e394f8646f22b8723ac00993230188b\n",
            "  Building wheel for imgaug (setup.py) ... \u001b[?25l\u001b[?25hdone\n",
            "  Created wheel for imgaug: filename=imgaug-0.2.6-cp36-none-any.whl size=654020 sha256=7736344b214f7647930a10030c8db0fdb9d166ef2fac2f46eade4d5fdb40568e\n",
            "  Stored in directory: /tmp/pip-ephem-wheel-cache-cl6kyxzf/wheels/97/ec/48/0d25896c417b715af6236dbcef8f0bed136a1a5e52972fc6d0\n",
            "Successfully built albumentations imgaug\n",
            "Installing collected packages: imgaug, albumentations\n",
            "  Found existing installation: imgaug 0.2.9\n",
            "    Uninstalling imgaug-0.2.9:\n",
            "      Successfully uninstalled imgaug-0.2.9\n",
            "  Found existing installation: albumentations 0.1.12\n",
            "    Uninstalling albumentations-0.1.12:\n",
            "      Successfully uninstalled albumentations-0.1.12\n",
            "Successfully installed albumentations-0.4.5 imgaug-0.2.6\n"
          ],
          "name": "stdout"
        }
      ]
    },
    {
      "cell_type": "code",
      "metadata": {
        "id": "16yf-pp46h8t",
        "colab_type": "code",
        "outputId": "a6a2a7c1-acda-4dca-c08f-7d821cfd53e7",
        "colab": {
          "base_uri": "https://localhost:8080/",
          "height": 68
        }
      },
      "source": [
        "import os\n",
        "os.environ['TF_KERAS'] = '1'\n",
        "\n",
        "%tensorflow_version 1.x\n",
        "%matplotlib inline\n",
        "\n",
        "import json\n",
        "import numpy as np\n",
        "from pycocotools.coco import COCO\n",
        "from tqdm import tqdm\n",
        "from PIL import Image\n",
        "import cv2\n",
        "#import keras\n",
        "import matplotlib.pyplot as plt\n",
        "import segmentation_models as sm\n",
        "import tensorflow as tf\n",
        "from tensorflow.python.keras.utils.data_utils import Sequence\n",
        "from tensorflow import keras\n",
        "from tensorflow.keras.optimizers import Adam\n",
        "import efficientnet\n",
        "#from keras_radam import RAdam\n",
        "\n",
        "#sm.set_framework('tf.keras')"
      ],
      "execution_count": 3,
      "outputs": [
        {
          "output_type": "stream",
          "text": [
            "TensorFlow 1.x selected.\n"
          ],
          "name": "stdout"
        },
        {
          "output_type": "stream",
          "text": [
            "Using TensorFlow backend.\n"
          ],
          "name": "stderr"
        },
        {
          "output_type": "stream",
          "text": [
            "Segmentation Models: using `keras` framework.\n"
          ],
          "name": "stdout"
        }
      ]
    },
    {
      "cell_type": "code",
      "metadata": {
        "id": "P8JPiERfykaK",
        "colab_type": "code",
        "colab": {}
      },
      "source": [
        "# Define parameters\n",
        "WORKDIR = 'segmentation'\n",
        "CLASSES = {'score':1, 'stat':2, 'username':3}\n",
        "RESIZE_SHAPE = (160, 160)\n",
        "#RESIZE_SHAPE = (192, 192)\n",
        "#RESIZE_SHAPE = (320, 320)\n",
        "#RESIZE_SHAPE = (480, 320)\n",
        "#RESIZE_SHAPE = (640, 640)\n",
        "\n",
        "#sm.set_framework('tf.keras')\n",
        "\n",
        "#from tensorflow.keras.optimizers import Adam\n",
        "# define optomizer\n",
        "optim1 = 'Adam'\n",
        "optim2 = keras.optimizers.Adam(lr=0.1, decay=0.000001)\n",
        "#optim3 = RAdam(warmup_proportion=0.1, min_lr=0.000001)\n",
        "\n",
        "optim = optim1"
      ],
      "execution_count": 0,
      "outputs": []
    },
    {
      "cell_type": "code",
      "metadata": {
        "id": "LGcO38t8GhGq",
        "colab_type": "code",
        "outputId": "55165d9b-47bd-4a04-fe98-ea7525161e62",
        "colab": {
          "base_uri": "https://localhost:8080/",
          "height": 102
        }
      },
      "source": [
        "#WORKDIR = 'segmentation'\n",
        "COCO_JSON = os.path.join(WORKDIR, 'pubg.json')\n",
        "\n",
        "#CLASSES = {'score':1, 'stat':2, 'username':3}\n",
        "\n",
        "with open(COCO_JSON) as json_file:\n",
        "    data = json.load(json_file)\n",
        "\n",
        "coco_instance = COCO(COCO_JSON)\n",
        "coco_imgs = coco_instance.imgs\n",
        "cat_ids = coco_instance.getCatIds(catNms=['games'])\n",
        "\n",
        "masks_together = []\n",
        "for i, img in enumerate(coco_imgs):\n",
        "  anns_ids = coco_instance.getAnnIds(img, cat_ids)\n",
        "  anns = coco_instance.loadAnns(anns_ids)\n",
        "\n",
        "  h = coco_imgs[img]['height']\n",
        "  w = coco_imgs[img]['width']\n",
        "  class_mask = np.zeros((h, w))\n",
        "  for ann in anns:\n",
        "    mask = coco_instance.annToMask(ann)\n",
        "    class_mask = class_mask + CLASSES[ann['metadata']['name']] * mask\n",
        "    \n",
        "  masks_together.append({\n",
        "        'img': coco_imgs[img]['file_name'],#.rstrip(\".jpg\") + '.png',\n",
        "        'mask': class_mask.astype('uint8')\n",
        "    })\n",
        "\n",
        "!mkdir '$WORKDIR/masks'\n",
        "!mkdir '$WORKDIR/masks/pubg'\n",
        "\n",
        "for mask in tqdm(masks_together, 'Save masks'):\n",
        "    mask_image = Image.fromarray(mask['mask'])\n",
        "    mask_image.save(\n",
        "        os.path.join(WORKDIR, 'masks/pubg', mask['img']))"
      ],
      "execution_count": 5,
      "outputs": [
        {
          "output_type": "stream",
          "text": [
            "loading annotations into memory...\n",
            "Done (t=0.01s)\n",
            "creating index...\n",
            "index created!\n"
          ],
          "name": "stdout"
        },
        {
          "output_type": "stream",
          "text": [
            "Save masks: 100%|██████████| 89/89 [00:01<00:00, 78.72it/s]\n"
          ],
          "name": "stderr"
        }
      ]
    },
    {
      "cell_type": "markdown",
      "metadata": {
        "id": "bd-xTBccMdxM",
        "colab_type": "text"
      },
      "source": [
        "Dataloader and utility functions"
      ]
    },
    {
      "cell_type": "code",
      "metadata": {
        "id": "Nk8m5HUABcuL",
        "colab_type": "code",
        "colab": {}
      },
      "source": [
        "# helper function for data visualization\n",
        "def visualize(**images):\n",
        "    \"\"\"PLot images in one row.\"\"\"\n",
        "    n = len(images)\n",
        "    plt.figure(figsize=(16, 5))\n",
        "    for i, (name, image) in enumerate(images.items()):\n",
        "        plt.subplot(1, n, i + 1)\n",
        "        plt.xticks([])\n",
        "        plt.yticks([])\n",
        "        plt.title(' '.join(name.split('_')).title())\n",
        "        plt.imshow(image)\n",
        "    plt.show()\n",
        "    \n",
        "# helper function for data visualization    \n",
        "def denormalize(x):\n",
        "    \"\"\"Scale image to range 0..1 for correct plot\"\"\"\n",
        "    x_max = np.percentile(x, 98)\n",
        "    x_min = np.percentile(x, 2)    \n",
        "    x = (x - x_min) / (x_max - x_min)\n",
        "    x = x.clip(0, 1)\n",
        "    return x\n",
        "    \n",
        "\n",
        "# classes for data loading and preprocessing\n",
        "class Dataset:\n",
        "    \"\"\"CamVid Dataset. Read images, apply augmentation and preprocessing transformations.\n",
        "    \n",
        "    Args:\n",
        "        images_dir (str): path to images folder\n",
        "        masks_dir (str): path to segmentation masks folder\n",
        "        class_values (list): values of classes to extract from segmentation mask\n",
        "        augmentation (albumentations.Compose): data transfromation pipeline \n",
        "            (e.g. flip, scale, etc.)\n",
        "        preprocessing (albumentations.Compose): data preprocessing \n",
        "            (e.g. noralization, shape manipulation, etc.)\n",
        "    \n",
        "    \"\"\"\n",
        "    \n",
        "    CLASSES = ['score', 'stat', 'username']\n",
        "    \n",
        "    def __init__(\n",
        "            self, \n",
        "            images_dir, \n",
        "            masks_dir, \n",
        "            classes=None, \n",
        "            augmentation=None, \n",
        "            preprocessing=None,\n",
        "            resize_shape=RESIZE_SHAPE,\n",
        "    ):\n",
        "        self.ids = os.listdir(images_dir)\n",
        "        self.images_fps = [os.path.join(images_dir, image_id) for image_id in self.ids]\n",
        "        self.masks_fps = [os.path.join(masks_dir, image_id) for image_id in self.ids]\n",
        "        \n",
        "        # convert str names to class values on masks\n",
        "        self.class_values = [self.CLASSES.index(cls.lower()) for cls in classes]\n",
        "        \n",
        "        self.augmentation = augmentation\n",
        "        self.preprocessing = preprocessing\n",
        "\n",
        "        self.resize_shape = resize_shape\n",
        "    \n",
        "    def __getitem__(self, i):\n",
        "        \n",
        "        # read data\n",
        "        image = cv2.imread(self.images_fps[i])\n",
        "        image = cv2.cvtColor(image, cv2.COLOR_BGR2RGB)\n",
        "        mask = cv2.imread(self.masks_fps[i], 0)\n",
        "\n",
        "        if (self.resize_shape) :\n",
        "          image = cv2.resize(image,self.resize_shape, interpolation = cv2.INTER_NEAREST).astype(np.float32)\n",
        "          #image = cv2.resize(image,self.resize_shape)#.astype(np.float32)\n",
        "          #mask = cv2.resize(mask,self.resize_shape)#.astype(np.float32)\n",
        "          mask = cv2.resize(mask,self.resize_shape, interpolation = cv2.INTER_NEAREST).astype(np.float32)\n",
        "        \n",
        "        # extract certain classes from mask (e.g. cars)\n",
        "        masks = [(mask == v) for v in self.class_values]\n",
        "        mask = np.stack(masks, axis=-1).astype('uint8')\n",
        "        #mask = np.stack(masks, axis=-1).astype(np.float32)\n",
        "        \n",
        "        # add background if mask is not binary\n",
        "        if mask.shape[-1] != 1:\n",
        "            background = 1 - mask.sum(axis=-1, keepdims=True)\n",
        "            mask = np.concatenate((mask, background), axis=-1)\n",
        "        \n",
        "        # apply augmentations\n",
        "        if self.augmentation:\n",
        "            sample = self.augmentation(image=image, mask=mask)\n",
        "            image, mask = sample['image'], sample['mask']\n",
        "        \n",
        "        # apply preprocessing\n",
        "        if self.preprocessing:\n",
        "            sample = self.preprocessing(image=image, mask=mask)\n",
        "            image, mask = sample['image'], sample['mask']\n",
        "            \n",
        "        return image, mask\n",
        "        \n",
        "    def __len__(self):\n",
        "        return len(self.ids)\n",
        "    \n",
        "    \n",
        "class Dataloder(keras.utils.Sequence):\n",
        "    \"\"\"Load data from dataset and form batches\n",
        "    \n",
        "    Args:\n",
        "        dataset: instance of Dataset class for image loading and preprocessing.\n",
        "        batch_size: Integer number of images in batch.\n",
        "        shuffle: Boolean, if `True` shuffle image indexes each epoch.\n",
        "    \"\"\"\n",
        "    \n",
        "    def __init__(self, dataset, batch_size=1, shuffle=False):\n",
        "        self.dataset = dataset\n",
        "        self.batch_size = batch_size\n",
        "        self.shuffle = shuffle\n",
        "        self.indexes = np.arange(len(dataset))\n",
        "\n",
        "        self.on_epoch_end()\n",
        "\n",
        "    def __getitem__(self, i):\n",
        "        \n",
        "        # collect batch data\n",
        "        start = i * self.batch_size\n",
        "        stop = (i + 1) * self.batch_size\n",
        "        data = []\n",
        "        for j in range(start, stop):\n",
        "            data.append(self.dataset[j])\n",
        "        \n",
        "        # transpose list of lists\n",
        "        batch = [np.stack(samples, axis=0) for samples in zip(*data)]\n",
        "        \n",
        "        return batch\n",
        "    \n",
        "    def __len__(self):\n",
        "        \"\"\"Denotes the number of batches per epoch\"\"\"\n",
        "        return (len(self.indexes) // self.batch_size)\n",
        "    \n",
        "    def on_epoch_end(self):\n",
        "        \"\"\"Callback function to shuffle indexes each epoch\"\"\"\n",
        "        if self.shuffle:\n",
        "            self.indexes = np.random.permutation(self.indexes)   "
      ],
      "execution_count": 0,
      "outputs": []
    },
    {
      "cell_type": "code",
      "metadata": {
        "id": "9VzHzKwgOU1z",
        "colab_type": "code",
        "outputId": "c11aa91d-20d5-400d-d34e-a0838da98756",
        "colab": {
          "base_uri": "https://localhost:8080/",
          "height": 221
        }
      },
      "source": [
        "x_train_dir = os.path.join(WORKDIR, 'datasets', 'pubg')\n",
        "y_train_dir = os.path.join(WORKDIR, 'masks','pubg')\n",
        "\n",
        "# Lets look at data we have\n",
        "dataset = Dataset(x_train_dir, y_train_dir, classes=['score', 'stat', 'username'])\n",
        "\n",
        "image, mask = dataset[5] # get some sample\n",
        "visualize(\n",
        "    image=image, \n",
        "    background=mask[..., 0].squeeze(),\n",
        "    score=mask[..., 1].squeeze(),\n",
        "    stat=mask[..., 2].squeeze(),\n",
        "    username=mask[..., 3].squeeze(),\n",
        ")"
      ],
      "execution_count": 7,
      "outputs": [
        {
          "output_type": "stream",
          "text": [
            "Clipping input data to the valid range for imshow with RGB data ([0..1] for floats or [0..255] for integers).\n"
          ],
          "name": "stderr"
        },
        {
          "output_type": "display_data",
          "data": {
            "image/png": "[encoded data removed]",
            "text/plain": [
              "<Figure size 1152x360 with 5 Axes>"
            ]
          },
          "metadata": {
            "tags": []
          }
        }
      ]
    },
    {
      "cell_type": "markdown",
      "metadata": {
        "id": "UNo9wD3CBcuQ",
        "colab_type": "text"
      },
      "source": [
        "### Augmentations"
      ]
    },
    {
      "cell_type": "code",
      "metadata": {
        "id": "4jblRZX0MP5w",
        "colab_type": "code",
        "colab": {}
      },
      "source": [
        "#!pip install -U albumentations>=0.3.0 --user "
      ],
      "execution_count": 0,
      "outputs": []
    },
    {
      "cell_type": "code",
      "metadata": {
        "id": "x8EylauHBcuR",
        "colab_type": "code",
        "colab": {}
      },
      "source": [
        "import albumentations as A"
      ],
      "execution_count": 0,
      "outputs": []
    },
    {
      "cell_type": "code",
      "metadata": {
        "id": "PcI62Xi4BcuU",
        "colab_type": "code",
        "colab": {}
      },
      "source": [
        "def round_clip_0_1(x, **kwargs):\n",
        "    return x.round().clip(0, 1)\n",
        "\n",
        "# define heavy augmentations\n",
        "def get_training_augmentation():\n",
        "    train_transform = [\n",
        "\n",
        "        A.VerticalFlip(p=0.5), \n",
        "\n",
        "        A.HorizontalFlip(p=0.5),\n",
        "\n",
        "        A.ShiftScaleRotate(scale_limit=(-0.5,0), rotate_limit=4, shift_limit=0, p=0.9, border_mode=0),\n",
        "\n",
        "        #A.PadIfNeeded(min_height=320, min_width=320, always_apply=True, border_mode=0),\n",
        "        \n",
        "        #A.RandomCrop(height=320, width=320, always_apply=True),\n",
        "        #A.IAAAdditiveGaussianNoise(p=0.2),\n",
        "        #A.IAAPerspective(p=0.5),\n",
        "\n",
        "        #A.OneOf(\n",
        "        #    [\n",
        "        #        A.CLAHE(p=1),\n",
        "        #        A.RandomBrightness(p=1),\n",
        "        #        A.RandomGamma(p=1),\n",
        "        #    ],\n",
        "        #    p=0.9,\n",
        "        #),\n",
        "\n",
        "        #A.OneOf(\n",
        "        #    [\n",
        "        #        A.IAASharpen(p=1),\n",
        "        #        A.Blur(blur_limit=3, p=1),\n",
        "        #        A.MotionBlur(blur_limit=3, p=1),\n",
        "        #    ],\n",
        "        #    p=0.9,\n",
        "        #),\n",
        "\n",
        "        #A.OneOf(\n",
        "        #    [\n",
        "        #        A.RandomContrast(p=1),\n",
        "        #        A.HueSaturationValue(p=1),\n",
        "        #    ],\n",
        "        #    p=0.9,\n",
        "        #),\n",
        "        #A.Lambda(mask=round_clip_0_1)\n",
        "    ]\n",
        "    return A.Compose(train_transform, p=1)\n",
        "\n",
        "\n",
        "def get_validation_augmentation():\n",
        "    \"\"\"Add paddings to make image shape divisible by 32\"\"\"\n",
        "    test_transform = [\n",
        "        A.PadIfNeeded(384, 480)\n",
        "    ]\n",
        "    return A.Compose(test_transform)\n",
        "\n",
        "def get_preprocessing(preprocessing_fn):\n",
        "    \"\"\"Construct preprocessing transform\n",
        "    \n",
        "    Args:\n",
        "        preprocessing_fn (callbale): data normalization function \n",
        "            (can be specific for each pretrained neural network)\n",
        "    Return:\n",
        "        transform: albumentations.Compose\n",
        "    \n",
        "    \"\"\"\n",
        "    \n",
        "    _transform = [\n",
        "        A.Lambda(image=preprocessing_fn),\n",
        "    ]\n",
        "    return A.Compose(_transform)"
      ],
      "execution_count": 0,
      "outputs": []
    },
    {
      "cell_type": "code",
      "metadata": {
        "id": "HVoUr_yiBcuW",
        "colab_type": "code",
        "outputId": "cde21eeb-9231-4329-d86a-5553ab93a840",
        "colab": {
          "base_uri": "https://localhost:8080/",
          "height": 1000
        }
      },
      "source": [
        "x_train_dir = os.path.join(WORKDIR, 'datasets', 'pubg')\n",
        "y_train_dir = os.path.join(WORKDIR, 'masks','pubg')\n",
        "\n",
        "# Lets look at augmented data we have\n",
        "dataset = Dataset(x_train_dir, y_train_dir, classes=['score','stat','username'], augmentation=get_training_augmentation())\n",
        "\n",
        "list_to_show = (5,15,18,47,74)\n",
        "\n",
        "for i in list_to_show :\n",
        "  image, mask = dataset[i] # get some sample\n",
        "  visualize(\n",
        "      image=image, \n",
        "      background=mask[..., 0].squeeze(),\n",
        "      score=mask[..., 1].squeeze(),\n",
        "      stat=mask[..., 2].squeeze(),\n",
        "      username=mask[..., 3].squeeze(),\n",
        "  )"
      ],
      "execution_count": 11,
      "outputs": [
        {
          "output_type": "stream",
          "text": [
            "Clipping input data to the valid range for imshow with RGB data ([0..1] for floats or [0..255] for integers).\n"
          ],
          "name": "stderr"
        },
        {
          "output_type": "display_data",
          "data": {
            "image/png": "[encoded data removed]",
            "text/plain": [
              "<Figure size 1152x360 with 5 Axes>"
            ]
          },
          "metadata": {
            "tags": []
          }
        },
        {
          "output_type": "stream",
          "text": [
            "Clipping input data to the valid range for imshow with RGB data ([0..1] for floats or [0..255] for integers).\n"
          ],
          "name": "stderr"
        },
        {
          "output_type": "display_data",
          "data": {
            "image/png": "[encoded data removed]",
            "text/plain": [
              "<Figure size 1152x360 with 5 Axes>"
            ]
          },
          "metadata": {
            "tags": []
          }
        },
        {
          "output_type": "stream",
          "text": [
            "Clipping input data to the valid range for imshow with RGB data ([0..1] for floats or [0..255] for integers).\n"
          ],
          "name": "stderr"
        },
        {
          "output_type": "display_data",
          "data": {
            "image/png": "[encoded data removed]",
            "text/plain": [
              "<Figure size 1152x360 with 5 Axes>"
            ]
          },
          "metadata": {
            "tags": []
          }
        },
        {
          "output_type": "stream",
          "text": [
            "Clipping input data to the valid range for imshow with RGB data ([0..1] for floats or [0..255] for integers).\n"
          ],
          "name": "stderr"
        },
        {
          "output_type": "display_data",
          "data": {
            "image/png": "[encoded data removed]",
            "text/plain": [
              "<Figure size 1152x360 with 5 Axes>"
            ]
          },
          "metadata": {
            "tags": []
          }
        },
        {
          "output_type": "stream",
          "text": [
            "Clipping input data to the valid range for imshow with RGB data ([0..1] for floats or [0..255] for integers).\n"
          ],
          "name": "stderr"
        },
        {
          "output_type": "display_data",
          "data": {
            "image/png": "[encoded data removed]",
            "text/plain": [
              "<Figure size 1152x360 with 5 Axes>"
            ]
          },
          "metadata": {
            "tags": []
          }
        }
      ]
    },
    {
      "cell_type": "code",
      "metadata": {
        "id": "SulCz4k7hhwI",
        "colab_type": "code",
        "outputId": "2bd32491-43ac-471b-8c33-9999a27d4275",
        "colab": {
          "base_uri": "https://localhost:8080/",
          "height": 34
        }
      },
      "source": [
        "import shutil\n",
        "import random\n",
        "\n",
        "if (os.path.exists('$WORKDIR/model')) :\n",
        "  !mkdir '$WORKDIR/model'\n",
        "  !mkdir '$WORKDIR/model/pubg'\n",
        "  !mkdir '$WORKDIR/model/pubg/train'\n",
        "  !mkdir '$WORKDIR/model/pubg/trainannot'\n",
        "  !mkdir '$WORKDIR/model/pubg/val'\n",
        "  !mkdir '$WORKDIR/model/pubg/valannot'\n",
        "  !mkdir '$WORKDIR/model/pubg/test'\n",
        "  !mkdir '$WORKDIR/model/pubg/testannot'\n",
        "\n",
        "\n",
        "\n",
        "  #dirListing = os.listdir(os.path.join(WORKDIR, 'datasets', 'pubg'))\n",
        "  files = []\n",
        "  # r=root, d=directories, f = files\n",
        "  for r, d, f in os.walk(os.path.join(WORKDIR, 'datasets', 'pubg')):\n",
        "      for file in f:\n",
        "          if '.jpg' in file:\n",
        "              #files.append(os.path.join(r, file))\n",
        "              if 'pubg_100.jpg'!=file:\n",
        "                files.append(file)\n",
        "\n",
        "  filesCount = len(files)\n",
        "\n",
        "  for i, file in enumerate(files):\n",
        "    if (i<filesCount*0.8):\n",
        "      shutil.copyfile(os.path.join(WORKDIR, 'datasets', 'pubg',file), os.path.join(WORKDIR, 'model', 'pubg','train',file))\n",
        "      shutil.copyfile(os.path.join(WORKDIR, 'masks', 'pubg',file), os.path.join(WORKDIR, 'model', 'pubg','trainannot',file))\n",
        "    else :\n",
        "      shutil.copyfile(os.path.join(WORKDIR, 'datasets', 'pubg',file), os.path.join(WORKDIR, 'model', 'pubg','val',file))\n",
        "      shutil.copyfile(os.path.join(WORKDIR, 'masks', 'pubg',file), os.path.join(WORKDIR, 'model', 'pubg','valannot',file))\n",
        "    #elif (filesCount*0.8<=i<filesCount*0.9):\n",
        "    #  shutil.copyfile(os.path.join(WORKDIR, 'datasets', 'pubg',file), os.path.join(WORKDIR, 'model', 'pubg','val',file))\n",
        "    #  shutil.copyfile(os.path.join(WORKDIR, 'masks', 'pubg',file), os.path.join(WORKDIR, 'model', 'pubg','valannot',file))\n",
        "    #else:\n",
        "    #  shutil.copyfile(os.path.join(WORKDIR, 'datasets', 'pubg',file), os.path.join(WORKDIR, 'model', 'pubg','test',file))\n",
        "    #  shutil.copyfile(os.path.join(WORKDIR, 'masks', 'pubg',file), os.path.join(WORKDIR, 'model', 'pubg','testannot',file))\n",
        "\n",
        "  print('Done!')\n",
        "\n",
        "if (os.path.exists('$WORKDIR/model2')==False) :\n",
        "\n",
        "  !mkdir '$WORKDIR/model2'\n",
        "  !mkdir '$WORKDIR/model2/pubg'\n",
        "  !mkdir '$WORKDIR/model2/pubg/train'\n",
        "  !mkdir '$WORKDIR/model2/pubg/trainannot'\n",
        "  !mkdir '$WORKDIR/model2/pubg/val'\n",
        "  !mkdir '$WORKDIR/model2/pubg/valannot'\n",
        "  !mkdir '$WORKDIR/model2/pubg/test'\n",
        "  !mkdir '$WORKDIR/model2/pubg/testannot'\n",
        "\n",
        "  #dirListing = os.listdir(os.path.join(WORKDIR, 'datasets', 'pubg'))\n",
        "  files = []\n",
        "  # r=root, d=directories, f = files\n",
        "  for r, d, f in os.walk(os.path.join(WORKDIR, 'datasets', 'pubg')):\n",
        "      for file in f:\n",
        "          if '.jpg' in file:\n",
        "              #files.append(os.path.join(r, file))\n",
        "              if 'pubg_100.jpg'!=file:\n",
        "                files.append(file)\n",
        "\n",
        "  filesCount = len(files)\n",
        "\n",
        "  for i, file in enumerate(files):\n",
        "    if (i<filesCount*0.8):\n",
        "      shutil.copyfile(os.path.join(WORKDIR, 'datasets', 'pubg',file), os.path.join(WORKDIR, 'model2', 'pubg','train',file))\n",
        "      shutil.copyfile(os.path.join(WORKDIR, 'masks', 'pubg',file), os.path.join(WORKDIR, 'model2', 'pubg','trainannot',file))\n",
        "    else :\n",
        "      shutil.copyfile(os.path.join(WORKDIR, 'datasets', 'pubg',file), os.path.join(WORKDIR, 'model2', 'pubg','val',file))\n",
        "      shutil.copyfile(os.path.join(WORKDIR, 'masks', 'pubg',file), os.path.join(WORKDIR, 'model2', 'pubg','valannot',file))\n",
        "\n",
        "\n",
        "print('Already done!')"
      ],
      "execution_count": 12,
      "outputs": [
        {
          "output_type": "stream",
          "text": [
            "Already done!\n"
          ],
          "name": "stdout"
        }
      ]
    },
    {
      "cell_type": "markdown",
      "metadata": {
        "id": "GL7Pj4Eu522X",
        "colab_type": "text"
      },
      "source": [
        "**Generate albumented data**\n",
        "\n",
        "You can configure how much new images do you need."
      ]
    },
    {
      "cell_type": "code",
      "metadata": {
        "id": "4XbuYe4D5061",
        "colab_type": "code",
        "colab": {}
      },
      "source": [
        "x_train_dir = os.path.join(WORKDIR, 'model2', 'pubg','train')\n",
        "y_train_dir = os.path.join(WORKDIR, 'model2', 'pubg','trainannot')\n",
        "\n",
        "# how much examples do we need? \n",
        "GENERATE_ALBUMENTED_IMAGES_COUNT = 5\n",
        "\n",
        "# Lets look at augmented data we have\n",
        "dataset = Dataset(x_train_dir, y_train_dir, classes=['score','stat','username'], augmentation=get_training_augmentation())\n",
        "\n",
        "for x in range(GENERATE_ALBUMENTED_IMAGES_COUNT) :\n",
        "\n",
        "  k = 0\n",
        "  for i in range(len(dataset)):\n",
        "    image, mask = dataset[i]\n",
        "    k+=1\n",
        "    cv2.imwrite(os.path.join(WORKDIR, 'model2', 'pubg','train','pubg_a_' + str(k + x*len(dataset)) + '.jpg'), image );\n",
        "    mask_to_img = np.zeros_like(image)\n",
        "    mask_to_img[:,:,0] = np.maximum(mask[..., 1], mask[..., 2]*2, mask[..., 3]*3)\n",
        "    mask_to_img[:,:,1] = np.maximum(mask[..., 1], mask[..., 2]*2, mask[..., 3]*3)\n",
        "    mask_to_img[:,:,2] = np.maximum(mask[..., 1], mask[..., 2]*2, mask[..., 3]*3)\n",
        "    img_file_name = os.path.join(WORKDIR, 'model2', 'pubg','trainannot','pubg_a_' + str(k+ x*len(dataset)) + '.jpg')\n",
        "    cv2.imwrite(img_file_name, mask );\n",
        "    #print(k)\n",
        "\n",
        "\n",
        "#dataset = Dataset(x_valid_dir, y_valid_dir, classes=['score','stat','username'], augmentation=get_training_augmentation())\n",
        "\n",
        "#for x in range(10) :\n",
        "\n",
        "#  k = 0\n",
        "#  for i in range(len(dataset)):\n",
        "#    image, mask = dataset[i]\n",
        "#    k+=1\n",
        "#    cv2.imwrite(os.path.join(WORKDIR, 'model', 'pubg','train','pubg_a_' + str(k + x*len(dataset)) + '.jpg'), image );\n",
        "#    mask_to_img = np.zeros_like(image)\n",
        "#    mask_to_img[:,:,0] = mask[..., 1]\n",
        "#    mask_to_img[:,:,1] = mask[..., 2]\n",
        "#    mask_to_img[:,:,2] = mask[..., 3]\n",
        "#    img_file_name = os.path.join(WORKDIR, 'model', 'pubg','trainannot','pubg_a_' + str(k+ x*len(dataset)) + '.jpg')\n",
        "#    cv2.imwrite(img_file_name, mask );"
      ],
      "execution_count": 0,
      "outputs": []
    },
    {
      "cell_type": "markdown",
      "metadata": {
        "id": "4ds0CNbgBcuZ",
        "colab_type": "text"
      },
      "source": [
        "## Segmentation model training"
      ]
    },
    {
      "cell_type": "code",
      "metadata": {
        "id": "2NFQwCkzzQz-",
        "colab_type": "code",
        "colab": {}
      },
      "source": [
        "#!pip install -U --pre segmentation-models --user\n",
        "#!pip install segmentation-models\n",
        "#!pip install imantics"
      ],
      "execution_count": 0,
      "outputs": []
    },
    {
      "cell_type": "code",
      "metadata": {
        "id": "7CDMlWu-Bcub",
        "colab_type": "code",
        "colab": {}
      },
      "source": [
        "#import segmentation_models as sm\n",
        "\n",
        "# segmentation_models could also use `tf.keras` if you do not have Keras installed\n",
        "# or you could switch to other framework using `sm.set_framework('tf.keras')`\n",
        "#sm.set_framework('tf.keras')"
      ],
      "execution_count": 0,
      "outputs": []
    },
    {
      "cell_type": "code",
      "metadata": {
        "id": "ZGsx_HdRBcue",
        "colab_type": "code",
        "colab": {}
      },
      "source": [
        "#BACKBONE = 'efficientnetb7'#'resnet34'\n",
        "BACKBONE = 'efficientnetb7'#'resnet34'\n",
        "BATCH_SIZE = 16\n",
        "CLASSES = ['score', 'stat', 'username']\n",
        "LR = 1\n",
        "EPOCHS = 20\n",
        "\n",
        "preprocess_input = sm.get_preprocessing(BACKBONE)"
      ],
      "execution_count": 0,
      "outputs": []
    },
    {
      "cell_type": "code",
      "metadata": {
        "id": "jdxIjBhfBcug",
        "colab_type": "code",
        "outputId": "176676c0-39b8-4de6-9775-acbedfbabc7a",
        "colab": {
          "base_uri": "https://localhost:8080/",
          "height": 207
        }
      },
      "source": [
        "# define network parameters\n",
        "n_classes = 1 if len(CLASSES) == 1 else (len(CLASSES) + 1)  # case for binary and multiclass segmentation\n",
        "activation = 'sigmoid' if n_classes == 1 else 'softmax'\n",
        "\n",
        "\n",
        "# define number of channels\n",
        "N = n_classes#x.shape[-1]\n",
        "\n",
        "#base_model = sm.Unet(backbone_name='resnet34', encoder_weights='imagenet')\n",
        "\n",
        "#inp = Input(shape=(None, None, N))\n",
        "#l1 = keras.layers.BatchNormalization()(inp)\n",
        "##l1 = Conv2D(3, (1, 1))(inp) # map N channels data to 3 channels\n",
        "#out = base_model(l1)\n",
        "\n",
        "#model = Model(inp, out, name=base_model.name)\n",
        "\n",
        "\n",
        "\n",
        "#create model\n",
        "model = sm.Unet(BACKBONE, \n",
        "                input_shape=(RESIZE_SHAPE[1], RESIZE_SHAPE[0], 3), \n",
        "                classes=n_classes, \n",
        "                activation=activation,\n",
        "                encoder_weights='imagenet',\n",
        "                #decoder_use_batchnorm=True,\n",
        ")\n",
        "#base_model=model\n",
        "\n",
        "#inp = keras.layers.Input(shape=(3, (320, 320, N))\n",
        "#l1 = keras.layers.BatchNormalization()(inp)\n",
        "#out = base_model(l1)\n",
        "#model = Model(inp, out, name=base_model.name)"
      ],
      "execution_count": 17,
      "outputs": [
        {
          "output_type": "stream",
          "text": [
            "WARNING:tensorflow:From /tensorflow-1.15.2/python3.6/tensorflow_core/python/ops/resource_variable_ops.py:1630: calling BaseResourceVariable.__init__ (from tensorflow.python.ops.resource_variable_ops) with constraint is deprecated and will be removed in a future version.\n",
            "Instructions for updating:\n",
            "If using Keras pass *_constraint arguments to layers.\n",
            "WARNING:tensorflow:Large dropout rate: 0.5125 (>0.5). In TensorFlow 2.x, dropout() uses dropout rate instead of keep_prob. Please ensure that this is intended.\n",
            "WARNING:tensorflow:Large dropout rate: 0.525 (>0.5). In TensorFlow 2.x, dropout() uses dropout rate instead of keep_prob. Please ensure that this is intended.\n",
            "WARNING:tensorflow:Large dropout rate: 0.5375 (>0.5). In TensorFlow 2.x, dropout() uses dropout rate instead of keep_prob. Please ensure that this is intended.\n",
            "WARNING:tensorflow:Large dropout rate: 0.55 (>0.5). In TensorFlow 2.x, dropout() uses dropout rate instead of keep_prob. Please ensure that this is intended.\n",
            "WARNING:tensorflow:Large dropout rate: 0.5625 (>0.5). In TensorFlow 2.x, dropout() uses dropout rate instead of keep_prob. Please ensure that this is intended.\n",
            "Downloading data from https://github.com/Callidior/keras-applications/releases/download/efficientnet/efficientnet-b7_weights_tf_dim_ordering_tf_kernels_autoaugment_notop.h5\n",
            "258441216/258434480 [==============================] - 3s 0us/step\n"
          ],
          "name": "stdout"
        }
      ]
    },
    {
      "cell_type": "code",
      "metadata": {
        "id": "Ka9u-ntkBcui",
        "colab_type": "code",
        "colab": {}
      },
      "source": [
        "#from tensorflow.keras.optimizers import Adam\n",
        "# define optomizer\n",
        "#optim1 = 'Adam'\n",
        "#optim2 = keras.optimizers.Adam(lr=LR, decay=0.000001)\n",
        "#optim3 = RAdam(warmup_proportion=0.1, min_lr=0.000001)\n",
        "\n",
        "# Segmentation models losses can be combined together by '+' and scaled by integer or float factor\n",
        "# set class weights for dice_loss (car: 1.; pedestrian: 2.; background: 0.5;)\n",
        "dice_loss = sm.losses.DiceLoss(class_weights=np.array([1, 2, 3, 0.5])) \n",
        "focal_loss = sm.losses.BinaryFocalLoss() if n_classes == 1 else sm.losses.CategoricalFocalLoss()\n",
        "total_loss = dice_loss + (1 * focal_loss)\n",
        "\n",
        "# actulally total_loss can be imported directly from library, above example just show you how to manipulate with losses\n",
        "#total_loss = sm.losses.binary_focal_dice_loss # or sm.losses.categorical_focal_dice_loss \n",
        "\n",
        "#metrics = [sm.metrics.IOUScore(threshold=0.5), sm.metrics.FScore(threshold=0.5)]\n",
        "metrics = [sm.metrics.IOUScore(threshold=0.5)]\n",
        "\n",
        "# compile keras model with defined optimozer, loss and metrics\n",
        "#model.compile(optim, total_loss, metrics)\n",
        "model.compile(\n",
        "    optim,\n",
        "    loss=sm.losses.bce_jaccard_loss,\n",
        "    #loss=total_loss,\n",
        "    metrics=metrics)\n",
        "\n",
        "#model.compile(\n",
        "#    'Adam',\n",
        "#    loss=sm.losses.bce_jaccard_loss,\n",
        "#    metrics=[sm.metrics.iou_score])"
      ],
      "execution_count": 0,
      "outputs": []
    },
    {
      "cell_type": "code",
      "metadata": {
        "id": "pTNGw1MJBcul",
        "colab_type": "code",
        "outputId": "43a021ce-5f71-4ae1-f78c-2a40b21d06d4",
        "colab": {
          "base_uri": "https://localhost:8080/",
          "height": 51
        }
      },
      "source": [
        "WORKDIR = 'segmentation'\n",
        "x_train_dir = os.path.join(WORKDIR, 'model2', 'pubg','train')\n",
        "y_train_dir = os.path.join(WORKDIR, 'model2','pubg','trainannot')\n",
        "\n",
        "x_valid_dir = os.path.join(WORKDIR, 'model2', 'pubg','val')\n",
        "y_valid_dir = os.path.join(WORKDIR, 'model2', 'pubg','valannot')\n",
        "\n",
        "x_test_dir = os.path.join(WORKDIR, 'model2', 'pubg','test')\n",
        "y_test_dir = os.path.join(WORKDIR, 'model2', 'pubg','testannot')\n",
        "\n",
        "# Dataset for train images\n",
        "train_dataset = Dataset(\n",
        "    x_train_dir, \n",
        "    y_train_dir, \n",
        "    classes=CLASSES,\n",
        "    #augmentation=get_training_augmentation(),\n",
        "    preprocessing=get_preprocessing(preprocess_input),\n",
        "    resize_shape=RESIZE_SHAPE,\n",
        ")\n",
        "\n",
        "# Dataset for validation images\n",
        "valid_dataset = Dataset(\n",
        "    x_valid_dir, \n",
        "    y_valid_dir, \n",
        "    classes=CLASSES, \n",
        "    #augmentation=get_validation_augmentation(),\n",
        "    preprocessing=get_preprocessing(preprocess_input),\n",
        "    resize_shape=RESIZE_SHAPE,\n",
        ")\n",
        "\n",
        "train_dataloader = Dataloder(train_dataset, batch_size=BATCH_SIZE, shuffle=True)\n",
        "valid_dataloader = Dataloder(valid_dataset, batch_size=1, shuffle=False)\n",
        "\n",
        "print(train_dataloader[0][0].shape)\n",
        "print(train_dataloader[0][1].shape)\n",
        "\n",
        "# check shapes for errors\n",
        "assert train_dataloader[0][0].shape == (BATCH_SIZE, RESIZE_SHAPE[1], RESIZE_SHAPE[0], 3)\n",
        "assert train_dataloader[0][1].shape == (BATCH_SIZE, RESIZE_SHAPE[1], RESIZE_SHAPE[0], n_classes)\n",
        "\n",
        "# define callbacks for learning rate scheduling and best checkpoints saving\n",
        "callbacks = [\n",
        "    #keras.callbacks.ModelCheckpoint('./best_model.h5', verbose=1, monitor='val_iou_score', save_weights_only=True, save_best_only=True, mode='max'),\n",
        "    #keras.callbacks.ReduceLROnPlateau(),\n",
        "    #keras.callbacks.EarlyStopping(),\n",
        "    keras.callbacks.TensorBoard(),\n",
        "    #keras.callbacks.ReduceLROnPlateau(monitor='val_loss', factor=0.1, patience=3, min_lr=0.000001, verbose=1),\n",
        "]"
      ],
      "execution_count": 19,
      "outputs": [
        {
          "output_type": "stream",
          "text": [
            "(16, 160, 160, 3)\n",
            "(16, 160, 160, 4)\n"
          ],
          "name": "stdout"
        }
      ]
    },
    {
      "cell_type": "code",
      "metadata": {
        "id": "SKc67ImkXf41",
        "colab_type": "code",
        "colab": {}
      },
      "source": [
        "# Shapes for each batch\n",
        "#for i,j in enumerate(train_dataloader):\n",
        "#  print(train_dataloader[i][0].shape)\n",
        "#  print(train_dataloader[i][1].shape)"
      ],
      "execution_count": 0,
      "outputs": []
    },
    {
      "cell_type": "code",
      "metadata": {
        "id": "n7d6KXs6Bcun",
        "colab_type": "code",
        "outputId": "87fb487b-b62c-40e2-b905-72468921eff2",
        "colab": {
          "base_uri": "https://localhost:8080/",
          "height": 224
        }
      },
      "source": [
        "# train model\n",
        "history = model.fit_generator(\n",
        "    train_dataloader, \n",
        "    steps_per_epoch=len(train_dataloader), \n",
        "    epochs=EPOCHS, \n",
        "    callbacks=callbacks, \n",
        "    validation_data=valid_dataloader, \n",
        "    validation_steps=len(valid_dataloader),\n",
        ")"
      ],
      "execution_count": 0,
      "outputs": [
        {
          "output_type": "stream",
          "text": [
            "WARNING:tensorflow:From /tensorflow-1.15.2/python3.6/tensorflow_core/python/ops/math_grad.py:1424: where (from tensorflow.python.ops.array_ops) is deprecated and will be removed in a future version.\n",
            "Instructions for updating:\n",
            "Use tf.where in 2.0, which has the same broadcast rule as np.where\n",
            "WARNING:tensorflow:From /usr/local/lib/python3.6/dist-packages/keras/backend/tensorflow_backend.py:422: The name tf.global_variables is deprecated. Please use tf.compat.v1.global_variables instead.\n",
            "\n",
            "Epoch 1/20\n",
            "27/27 [==============================] - 839s 31s/step - loss: 1.0460 - iou_score: 0.1956 - val_loss: 1.0241 - val_iou_score: 0.2540\n",
            "Epoch 2/20\n",
            "27/27 [==============================] - 784s 29s/step - loss: 0.7439 - iou_score: 0.3265 - val_loss: 1.6300 - val_iou_score: 0.1893\n",
            "Epoch 3/20\n",
            "17/27 [=================>............] - ETA: 4:52 - loss: 0.6196 - iou_score: 0.4246"
          ],
          "name": "stdout"
        }
      ]
    },
    {
      "cell_type": "code",
      "metadata": {
        "id": "DiM9GqsXBcuq",
        "colab_type": "code",
        "colab": {}
      },
      "source": [
        "# Plot training & validation iou_score values\n",
        "plt.figure(figsize=(30, 5))\n",
        "plt.subplot(121)\n",
        "plt.plot(history.history['iou_score'])\n",
        "plt.plot(history.history['val_iou_score'])\n",
        "plt.title('Model iou_score')\n",
        "plt.ylabel('iou_score')\n",
        "plt.xlabel('Epoch')\n",
        "plt.legend(['Train', 'Test'], loc='upper left')\n",
        "\n",
        "# Plot training & validation loss values\n",
        "plt.subplot(122)\n",
        "plt.plot(history.history['loss'])\n",
        "plt.plot(history.history['val_loss'])\n",
        "plt.title('Model loss')\n",
        "plt.ylabel('Loss')\n",
        "plt.xlabel('Epoch')\n",
        "plt.legend(['Train', 'Test'], loc='upper left')\n",
        "plt.show()"
      ],
      "execution_count": 0,
      "outputs": []
    },
    {
      "cell_type": "markdown",
      "metadata": {
        "id": "DNumXG6jBcut",
        "colab_type": "text"
      },
      "source": [
        "# Model Evaluation"
      ]
    },
    {
      "cell_type": "code",
      "metadata": {
        "id": "1DapHoRTBcut",
        "colab_type": "code",
        "colab": {}
      },
      "source": [
        "test_dataset = Dataset(\n",
        "    x_test_dir, \n",
        "    y_test_dir, \n",
        "    classes=CLASSES, \n",
        "    #augmentation=get_validation_augmentation(),\n",
        "    #preprocessing=get_preprocessing(preprocess_input),\n",
        "    resize_shape=RESIZE_SHAPE,\n",
        ")\n",
        "\n",
        "test_dataloader = Dataloder(test_dataset, batch_size=1, shuffle=False)"
      ],
      "execution_count": 0,
      "outputs": []
    },
    {
      "cell_type": "code",
      "metadata": {
        "id": "R7klDZrtBcuw",
        "colab_type": "code",
        "colab": {}
      },
      "source": [
        "# Сохранение весов в файл HDF5\n",
        "#model.save_weights('best_model.h5', save_format='h5')\n",
        "#model.save_weights('best_model.h5')\n",
        "\n",
        "# load best weights\n",
        "#model.load_weights('best_model.h5') "
      ],
      "execution_count": 0,
      "outputs": []
    },
    {
      "cell_type": "code",
      "metadata": {
        "id": "_kQ6G0mDBcuy",
        "colab_type": "code",
        "colab": {}
      },
      "source": [
        "scores = model.evaluate_generator(test_dataloader)\n",
        "\n",
        "print(\"Loss: {:.5}\".format(scores[0]))\n",
        "for metric, value in zip(metrics, scores[1:]):\n",
        "    print(\"mean {}: {:.5}\".format(metric.__name__, value))"
      ],
      "execution_count": 0,
      "outputs": []
    },
    {
      "cell_type": "code",
      "metadata": {
        "id": "d8yCyRnsRysu",
        "colab_type": "code",
        "colab": {}
      },
      "source": [
        "#X = test_dataloader\n",
        "#evals = [model.evaluate(X[i:i+1], Y[i:i+1]) for i in range(len(X))]\n",
        "\n",
        "#print(evals)"
      ],
      "execution_count": 0,
      "outputs": []
    },
    {
      "cell_type": "code",
      "metadata": {
        "id": "AwYtz2D7GIq6",
        "colab_type": "code",
        "colab": {}
      },
      "source": [
        "model.summary()"
      ],
      "execution_count": 0,
      "outputs": []
    },
    {
      "cell_type": "markdown",
      "metadata": {
        "id": "yvh7QCUDBcu0",
        "colab_type": "text"
      },
      "source": [
        "# Visualization of results on test dataset"
      ]
    },
    {
      "cell_type": "code",
      "metadata": {
        "id": "TTZ2MqYXBcu0",
        "colab_type": "code",
        "colab": {}
      },
      "source": [
        "import keras_preprocessing.image.utils as image_utils\n",
        "n = 8\n",
        "ids = np.random.choice(np.arange(len(test_dataset)), size=n)\n",
        "\n",
        "print(ids)\n",
        "\n",
        "for i in ids:\n",
        "    \n",
        "    image, gt_mask = test_dataset[i]\n",
        "    image = np.expand_dims(image, axis=0)\n",
        "    pr_mask = model.predict(image)\n",
        "    gt_mask = image_utils.img_to_array(gt_mask)\n",
        "    \n",
        "    visualize(\n",
        "        image=denormalize(image.squeeze()),\n",
        "        score_gt_mask=gt_mask[..., 1].squeeze(),\n",
        "        stat_gt_mask=gt_mask[..., 2].squeeze(),\n",
        "        username_gt_mask=gt_mask[..., 3].squeeze(),\n",
        "        #pr_mask=pr_mask.squeeze(),\n",
        "        score=pr_mask[..., 1].squeeze(),\n",
        "        stat=pr_mask[..., 2].squeeze(),\n",
        "        username=pr_mask[..., 3].squeeze(),\n",
        "    )"
      ],
      "execution_count": 0,
      "outputs": []
    },
    {
      "cell_type": "code",
      "metadata": {
        "id": "PtIY1y-EK4z6",
        "colab_type": "code",
        "colab": {}
      },
      "source": [
        "model_json = model.to_json()\n",
        "with open(\"model.json\", \"w\") as json_file:\n",
        "    json_file.write(model_json)\n",
        "model.save('model_complete.h5')"
      ],
      "execution_count": 0,
      "outputs": []
    }
  ]
}