{
  "nbformat": 4,
  "nbformat_minor": 0,
  "metadata": {
    "colab": {
      "name": "Text_extraction_v2",
      "provenance": [],
      "collapsed_sections": [],
      "toc_visible": true,
      "authorship_tag": "ABX9TyMiQfGxuN2uNFcaufCFyIOJ",
      "include_colab_link": true
    },
    "kernelspec": {
      "name": "python3",
      "display_name": "Python 3"
    },
    "accelerator": "GPU"
  },
  "cells": [
    {
      "cell_type": "markdown",
      "metadata": {
        "id": "view-in-github",
        "colab_type": "text"
      },
      "source": [
        "<a href=\"https://colab.research.google.com/github/MykhailoFokin/segmentation/blob/master/Text_extraction_v2.ipynb\" target=\"_parent\"><img src=\"https://colab.research.google.com/assets/colab-badge.svg\" alt=\"Open In Colab\"/></a>"
      ]
    },
    {
      "cell_type": "markdown",
      "metadata": {
        "id": "oXFpO8IRiDHa",
        "colab_type": "text"
      },
      "source": [
        "# Notebook preparations"
      ]
    },
    {
      "cell_type": "markdown",
      "metadata": {
        "id": "XIMb2exuiXuq",
        "colab_type": "text"
      },
      "source": [
        "## Install required libraries"
      ]
    },
    {
      "cell_type": "code",
      "metadata": {
        "id": "YNzK7jURgSxr",
        "colab_type": "code",
        "outputId": "ff3ebe51-51eb-4b5c-acf4-7bb1cf024ab0",
        "colab": {
          "base_uri": "https://localhost:8080/",
          "height": 204
        }
      },
      "source": [
        "# Function for text distance evaluation\n",
        "# https://pypi.org/project/textdistance/\n",
        "# https://pypi.org/project/python-Levenshtein/\n",
        "!pip install python-Levenshtein"
      ],
      "execution_count": 2,
      "outputs": [
        {
          "output_type": "stream",
          "text": [
            "Collecting python-Levenshtein\n",
            "\u001b[?25l  Downloading https://files.pythonhosted.org/packages/42/a9/d1785c85ebf9b7dfacd08938dd028209c34a0ea3b1bcdb895208bd40a67d/python-Levenshtein-0.12.0.tar.gz (48kB)\n",
            "\r\u001b[K     |██████▊                         | 10kB 27.5MB/s eta 0:00:01\r\u001b[K     |█████████████▌                  | 20kB 1.7MB/s eta 0:00:01\r\u001b[K     |████████████████████▏           | 30kB 2.2MB/s eta 0:00:01\r\u001b[K     |███████████████████████████     | 40kB 2.5MB/s eta 0:00:01\r\u001b[K     |████████████████████████████████| 51kB 1.6MB/s \n",
            "\u001b[?25hRequirement already satisfied: setuptools in /usr/local/lib/python3.6/dist-packages (from python-Levenshtein) (47.1.1)\n",
            "Building wheels for collected packages: python-Levenshtein\n",
            "  Building wheel for python-Levenshtein (setup.py) ... \u001b[?25l\u001b[?25hdone\n",
            "  Created wheel for python-Levenshtein: filename=python_Levenshtein-0.12.0-cp36-cp36m-linux_x86_64.whl size=144796 sha256=27dba79b57faa3c001e17335f2975e6f925c26a23e935b25fc68e393f81dec7e\n",
            "  Stored in directory: /root/.cache/pip/wheels/de/c2/93/660fd5f7559049268ad2dc6d81c4e39e9e36518766eaf7e342\n",
            "Successfully built python-Levenshtein\n",
            "Installing collected packages: python-Levenshtein\n",
            "Successfully installed python-Levenshtein-0.12.0\n"
          ],
          "name": "stdout"
        }
      ]
    },
    {
      "cell_type": "code",
      "metadata": {
        "id": "crbhRnxc4MMV",
        "colab_type": "code",
        "outputId": "af2c79d6-8aa4-4f89-d51e-ae4569a3757d",
        "colab": {
          "base_uri": "https://localhost:8080/",
          "height": 1000
        }
      },
      "source": [
        "!sudo add-apt-repository ppa:alex-p/tesseract-ocr-devel -y\n",
        "!sudo apt-get update\n",
        "!apt install tesseract-ocr\n",
        "!apt install libtesseract-dev\n",
        "!pip install Pillow\n",
        "!pip install pytesseract"
      ],
      "execution_count": 3,
      "outputs": [
        {
          "output_type": "stream",
          "text": [
            "Get:1 http://security.ubuntu.com/ubuntu bionic-security InRelease [88.7 kB]\n",
            "Get:2 http://ppa.launchpad.net/alex-p/tesseract-ocr-devel/ubuntu bionic InRelease [15.4 kB]\n",
            "Get:3 https://cloud.r-project.org/bin/linux/ubuntu bionic-cran35/ InRelease [3,626 B]\n",
            "Ign:4 https://developer.download.nvidia.com/compute/cuda/repos/ubuntu1804/x86_64  InRelease\n",
            "Ign:5 https://developer.download.nvidia.com/compute/machine-learning/repos/ubuntu1804/x86_64  InRelease\n",
            "Hit:6 http://archive.ubuntu.com/ubuntu bionic InRelease\n",
            "Get:7 https://developer.download.nvidia.com/compute/cuda/repos/ubuntu1804/x86_64  Release [697 B]\n",
            "Hit:8 https://developer.download.nvidia.com/compute/machine-learning/repos/ubuntu1804/x86_64  Release\n",
            "Get:9 http://archive.ubuntu.com/ubuntu bionic-updates InRelease [88.7 kB]\n",
            "Get:11 http://ppa.launchpad.net/graphics-drivers/ppa/ubuntu bionic InRelease [21.3 kB]\n",
            "Get:12 https://developer.download.nvidia.com/compute/cuda/repos/ubuntu1804/x86_64  Release.gpg [836 B]\n",
            "Get:13 http://security.ubuntu.com/ubuntu bionic-security/universe amd64 Packages [856 kB]\n",
            "Ign:14 https://developer.download.nvidia.com/compute/cuda/repos/ubuntu1804/x86_64  Packages\n",
            "Get:14 https://developer.download.nvidia.com/compute/cuda/repos/ubuntu1804/x86_64  Packages [162 kB]\n",
            "Get:15 http://ppa.launchpad.net/marutter/c2d4u3.5/ubuntu bionic InRelease [15.4 kB]\n",
            "Get:16 http://security.ubuntu.com/ubuntu bionic-security/main amd64 Packages [933 kB]\n",
            "Get:17 http://archive.ubuntu.com/ubuntu bionic-backports InRelease [74.6 kB]\n",
            "Get:18 http://ppa.launchpad.net/alex-p/tesseract-ocr-devel/ubuntu bionic/main amd64 Packages [26.0 kB]\n",
            "Get:19 http://archive.ubuntu.com/ubuntu bionic-updates/main amd64 Packages [1,230 kB]\n",
            "Get:20 http://ppa.launchpad.net/graphics-drivers/ppa/ubuntu bionic/main amd64 Packages [37.4 kB]\n",
            "Get:21 http://archive.ubuntu.com/ubuntu bionic-updates/universe amd64 Packages [1,387 kB]\n",
            "Get:22 http://ppa.launchpad.net/marutter/c2d4u3.5/ubuntu bionic/main Sources [1,830 kB]\n",
            "Get:23 http://ppa.launchpad.net/marutter/c2d4u3.5/ubuntu bionic/main amd64 Packages [882 kB]\n",
            "Fetched 7,653 kB in 8s (936 kB/s)\n",
            "Reading package lists... Done\n",
            "Hit:1 http://ppa.launchpad.net/alex-p/tesseract-ocr-devel/ubuntu bionic InRelease\n",
            "Hit:2 http://security.ubuntu.com/ubuntu bionic-security InRelease\n",
            "Get:3 https://cloud.r-project.org/bin/linux/ubuntu bionic-cran35/ InRelease [3,626 B]\n",
            "Ign:4 https://developer.download.nvidia.com/compute/cuda/repos/ubuntu1804/x86_64  InRelease\n",
            "Hit:5 http://archive.ubuntu.com/ubuntu bionic InRelease\n",
            "Ign:6 https://developer.download.nvidia.com/compute/machine-learning/repos/ubuntu1804/x86_64  InRelease\n",
            "Hit:7 https://developer.download.nvidia.com/compute/cuda/repos/ubuntu1804/x86_64  Release\n",
            "Hit:8 http://ppa.launchpad.net/graphics-drivers/ppa/ubuntu bionic InRelease\n",
            "Hit:9 http://archive.ubuntu.com/ubuntu bionic-updates InRelease\n",
            "Hit:11 https://developer.download.nvidia.com/compute/machine-learning/repos/ubuntu1804/x86_64  Release\n",
            "Hit:12 http://archive.ubuntu.com/ubuntu bionic-backports InRelease\n",
            "Hit:14 http://ppa.launchpad.net/marutter/c2d4u3.5/ubuntu bionic InRelease\n",
            "Fetched 3,626 B in 2s (2,262 B/s)\n",
            "Reading package lists... Done\n",
            "Reading package lists... Done\n",
            "Building dependency tree       \n",
            "Reading state information... Done\n",
            "The following additional packages will be installed:\n",
            "  libtesseract5 tesseract-ocr-eng tesseract-ocr-osd\n",
            "The following NEW packages will be installed:\n",
            "  libtesseract5 tesseract-ocr tesseract-ocr-eng tesseract-ocr-osd\n",
            "0 upgraded, 4 newly installed, 0 to remove and 63 not upgraded.\n",
            "Need to get 6,232 kB of archives.\n",
            "After this operation, 20.2 MB of additional disk space will be used.\n",
            "Get:1 http://ppa.launchpad.net/alex-p/tesseract-ocr-devel/ubuntu bionic/main amd64 libtesseract5 amd64 5.0.0~git4536-a06d0d84-1ppa1~bionic1 [1,250 kB]\n",
            "Get:2 http://ppa.launchpad.net/alex-p/tesseract-ocr-devel/ubuntu bionic/main amd64 tesseract-ocr-eng all 1:5.0.0~git39-6572757-2ppa1~bionic1 [1,590 kB]\n",
            "Get:3 http://ppa.launchpad.net/alex-p/tesseract-ocr-devel/ubuntu bionic/main amd64 tesseract-ocr-osd all 1:5.0.0~git39-6572757-2ppa1~bionic1 [2,991 kB]\n",
            "Get:4 http://ppa.launchpad.net/alex-p/tesseract-ocr-devel/ubuntu bionic/main amd64 tesseract-ocr amd64 5.0.0~git4536-a06d0d84-1ppa1~bionic1 [402 kB]\n",
            "Fetched 6,232 kB in 9s (675 kB/s)\n",
            "Selecting previously unselected package libtesseract5:amd64.\n",
            "(Reading database ... 144467 files and directories currently installed.)\n",
            "Preparing to unpack .../libtesseract5_5.0.0~git4536-a06d0d84-1ppa1~bionic1_amd64.deb ...\n",
            "Unpacking libtesseract5:amd64 (5.0.0~git4536-a06d0d84-1ppa1~bionic1) ...\n",
            "Selecting previously unselected package tesseract-ocr-eng.\n",
            "Preparing to unpack .../tesseract-ocr-eng_1%3a5.0.0~git39-6572757-2ppa1~bionic1_all.deb ...\n",
            "Unpacking tesseract-ocr-eng (1:5.0.0~git39-6572757-2ppa1~bionic1) ...\n",
            "Selecting previously unselected package tesseract-ocr-osd.\n",
            "Preparing to unpack .../tesseract-ocr-osd_1%3a5.0.0~git39-6572757-2ppa1~bionic1_all.deb ...\n",
            "Unpacking tesseract-ocr-osd (1:5.0.0~git39-6572757-2ppa1~bionic1) ...\n",
            "Selecting previously unselected package tesseract-ocr.\n",
            "Preparing to unpack .../tesseract-ocr_5.0.0~git4536-a06d0d84-1ppa1~bionic1_amd64.deb ...\n",
            "Unpacking tesseract-ocr (5.0.0~git4536-a06d0d84-1ppa1~bionic1) ...\n",
            "Setting up tesseract-ocr-osd (1:5.0.0~git39-6572757-2ppa1~bionic1) ...\n",
            "Setting up tesseract-ocr-eng (1:5.0.0~git39-6572757-2ppa1~bionic1) ...\n",
            "Setting up libtesseract5:amd64 (5.0.0~git4536-a06d0d84-1ppa1~bionic1) ...\n",
            "Setting up tesseract-ocr (5.0.0~git4536-a06d0d84-1ppa1~bionic1) ...\n",
            "Processing triggers for man-db (2.8.3-2ubuntu0.1) ...\n",
            "Processing triggers for libc-bin (2.27-3ubuntu1) ...\n",
            "/sbin/ldconfig.real: /usr/local/lib/python3.6/dist-packages/ideep4py/lib/libmkldnn.so.0 is not a symbolic link\n",
            "\n",
            "Reading package lists... Done\n",
            "Building dependency tree       \n",
            "Reading state information... Done\n",
            "The following additional packages will be installed:\n",
            "  libarchive-dev liblept5 libleptonica-dev\n",
            "The following NEW packages will be installed:\n",
            "  libarchive-dev libleptonica-dev libtesseract-dev\n",
            "The following packages will be upgraded:\n",
            "  liblept5\n",
            "1 upgraded, 3 newly installed, 0 to remove and 62 not upgraded.\n",
            "Need to get 4,308 kB of archives.\n",
            "After this operation, 15.2 MB of additional disk space will be used.\n",
            "Get:1 http://ppa.launchpad.net/alex-p/tesseract-ocr-devel/ubuntu bionic/main amd64 liblept5 amd64 1.78.0-1+nmu1ppa1~bionic1 [985 kB]\n",
            "Get:2 http://archive.ubuntu.com/ubuntu bionic-updates/main amd64 libarchive-dev amd64 3.2.2-3.1ubuntu0.6 [470 kB]\n",
            "Get:3 http://ppa.launchpad.net/alex-p/tesseract-ocr-devel/ubuntu bionic/main amd64 libleptonica-dev amd64 1.78.0-1+nmu1ppa1~bionic1 [1,375 kB]\n",
            "Get:4 http://ppa.launchpad.net/alex-p/tesseract-ocr-devel/ubuntu bionic/main amd64 libtesseract-dev amd64 5.0.0~git4536-a06d0d84-1ppa1~bionic1 [1,477 kB]\n",
            "Fetched 4,308 kB in 7s (626 kB/s)\n",
            "Selecting previously unselected package libarchive-dev:amd64.\n",
            "(Reading database ... 144555 files and directories currently installed.)\n",
            "Preparing to unpack .../libarchive-dev_3.2.2-3.1ubuntu0.6_amd64.deb ...\n",
            "Unpacking libarchive-dev:amd64 (3.2.2-3.1ubuntu0.6) ...\n",
            "Preparing to unpack .../liblept5_1.78.0-1+nmu1ppa1~bionic1_amd64.deb ...\n",
            "Unpacking liblept5 (1.78.0-1+nmu1ppa1~bionic1) over (1.75.3-3) ...\n",
            "Selecting previously unselected package libleptonica-dev.\n",
            "Preparing to unpack .../libleptonica-dev_1.78.0-1+nmu1ppa1~bionic1_amd64.deb ...\n",
            "Unpacking libleptonica-dev (1.78.0-1+nmu1ppa1~bionic1) ...\n",
            "Selecting previously unselected package libtesseract-dev:amd64.\n",
            "Preparing to unpack .../libtesseract-dev_5.0.0~git4536-a06d0d84-1ppa1~bionic1_amd64.deb ...\n",
            "Unpacking libtesseract-dev:amd64 (5.0.0~git4536-a06d0d84-1ppa1~bionic1) ...\n",
            "Setting up liblept5 (1.78.0-1+nmu1ppa1~bionic1) ...\n",
            "Setting up libarchive-dev:amd64 (3.2.2-3.1ubuntu0.6) ...\n",
            "Setting up libleptonica-dev (1.78.0-1+nmu1ppa1~bionic1) ...\n",
            "Setting up libtesseract-dev:amd64 (5.0.0~git4536-a06d0d84-1ppa1~bionic1) ...\n",
            "Processing triggers for libc-bin (2.27-3ubuntu1) ...\n",
            "/sbin/ldconfig.real: /usr/local/lib/python3.6/dist-packages/ideep4py/lib/libmkldnn.so.0 is not a symbolic link\n",
            "\n",
            "Processing triggers for man-db (2.8.3-2ubuntu0.1) ...\n",
            "Requirement already satisfied: Pillow in /usr/local/lib/python3.6/dist-packages (7.0.0)\n",
            "Collecting pytesseract\n",
            "  Downloading https://files.pythonhosted.org/packages/1d/d8/521db389ff0aae32035bfda6ed39cb2c2e28521c47015f6431f07460c50a/pytesseract-0.3.4.tar.gz\n",
            "Requirement already satisfied: Pillow in /usr/local/lib/python3.6/dist-packages (from pytesseract) (7.0.0)\n",
            "Building wheels for collected packages: pytesseract\n",
            "  Building wheel for pytesseract (setup.py) ... \u001b[?25l\u001b[?25hdone\n",
            "  Created wheel for pytesseract: filename=pytesseract-0.3.4-py2.py3-none-any.whl size=13431 sha256=8c6b8601ca1a7785c47d1a258dc5a0df44b27bc836219f3b0994b938740a6506\n",
            "  Stored in directory: /root/.cache/pip/wheels/63/2a/a0/7596d2e0a73cf0aeffd6f6170862c4e73f3763b7827e48691a\n",
            "Successfully built pytesseract\n",
            "Installing collected packages: pytesseract\n",
            "Successfully installed pytesseract-0.3.4\n"
          ],
          "name": "stdout"
        }
      ]
    },
    {
      "cell_type": "code",
      "metadata": {
        "id": "QAl9X7nE4Mpy",
        "colab_type": "code",
        "outputId": "faa3088a-380d-4811-df94-58c890bae35c",
        "colab": {
          "base_uri": "https://localhost:8080/",
          "height": 170
        }
      },
      "source": [
        "## Tesseract\n",
        "try:\n",
        "    from PIL import Image\n",
        "except ImportError:\n",
        "    import Image\n",
        "import pytesseract\n",
        "\n",
        "#pytesseract.pytesseract.tesseract_cmd = r'/usr/local/bin/pytesseract'\n",
        "\n",
        "!tesseract -v"
      ],
      "execution_count": 4,
      "outputs": [
        {
          "output_type": "stream",
          "text": [
            "tesseract 5.0.0-alpha-689-ga06d\n",
            " leptonica-1.78.0\n",
            "  libgif 5.1.4 : libjpeg 8d (libjpeg-turbo 1.5.2) : libpng 1.6.34 : libtiff 4.0.9 : zlib 1.2.11 : libwebp 0.6.1 : libopenjp2 2.3.0\n",
            " Found AVX2\n",
            " Found AVX\n",
            " Found FMA\n",
            " Found SSE\n",
            " Found OpenMP 201511\n",
            " Found libarchive 3.2.2 zlib/1.2.11 liblzma/5.2.2 bz2lib/1.0.6 liblz4/1.7.1\n"
          ],
          "name": "stdout"
        }
      ]
    },
    {
      "cell_type": "markdown",
      "metadata": {
        "id": "OSffLNeHiKl9",
        "colab_type": "text"
      },
      "source": [
        "## Copy source data"
      ]
    },
    {
      "cell_type": "code",
      "metadata": {
        "id": "COyqtmr13w-Z",
        "colab_type": "code",
        "outputId": "1a562a0d-7b68-4d58-a955-6b1fa2b09eb4",
        "colab": {
          "base_uri": "https://localhost:8080/",
          "height": 153
        }
      },
      "source": [
        "# Github repo with source data (images, etc)\n",
        "!git clone https://github.com/MykhailoFokin/segmentation"
      ],
      "execution_count": 5,
      "outputs": [
        {
          "output_type": "stream",
          "text": [
            "Cloning into 'segmentation'...\n",
            "remote: Enumerating objects: 270, done.\u001b[K\n",
            "remote: Counting objects: 100% (270/270), done.\u001b[K\n",
            "remote: Compressing objects: 100% (266/266), done.\u001b[K\n",
            "remote: Total 548 (delta 5), reused 263 (delta 2), pack-reused 278\u001b[K\n",
            "Receiving objects: 100% (548/548), 402.58 MiB | 13.33 MiB/s, done.\n",
            "Resolving deltas: 100% (130/130), done.\n",
            "Checking out files: 100% (646/646), done.\n"
          ],
          "name": "stdout"
        }
      ]
    },
    {
      "cell_type": "code",
      "metadata": {
        "id": "ATwwk2U0QCk5",
        "colab_type": "code",
        "colab": {}
      },
      "source": [
        "WORKDIR = 'segmentation'"
      ],
      "execution_count": 0,
      "outputs": []
    },
    {
      "cell_type": "code",
      "metadata": {
        "id": "eR3AZqE7iQS8",
        "colab_type": "code",
        "outputId": "d3e175d2-6aee-4f00-f677-f1b471d47e95",
        "colab": {
          "base_uri": "https://localhost:8080/",
          "height": 54
        }
      },
      "source": [
        "\"\"\"\n",
        "# Commented block in case we need crop images once more\n",
        "from pycocotools.coco import COCO\n",
        "from tqdm import tqdm\n",
        "\n",
        "!mkdir '$WORKDIR/datasets/cropped_images_manual'\n",
        "\n",
        "TARGET_FOLDER = 'pubg' # all images\n",
        "#TARGET_FOLDER = 'pubg_only_pc'\n",
        "\n",
        "CLASSES = {'score':1, 'stat':2, 'username':3}\n",
        "\n",
        "coco = COCO(os.path.join(WORKDIR, 'pubg.json'))\n",
        "\n",
        "cat_ids = coco.getCatIds(catNms=['games'])\n",
        "img_ids = coco.getImgIds(catIds=cat_ids)\n",
        "imgs = coco.loadImgs(img_ids)\n",
        "\n",
        "masks = []\n",
        "for img in tqdm(imgs, 'Crop images'):\n",
        "    ann_ids = coco.getAnnIds(imgIds=img['id'], catIds=cat_ids)\n",
        "    anns = coco.loadAnns(ann_ids)\n",
        "\n",
        "    mask = np.zeros((img['height'], img['width']))\n",
        "    for ann in anns:\n",
        "      if Path(os.path.join(WORKDIR, 'datasets', TARGET_FOLDER, img['file_name'])).is_file() :\n",
        "        image = cv2.imread(os.path.join(os.path.join(WORKDIR, 'datasets', TARGET_FOLDER), img['file_name']))\n",
        "        x,y,w,h = ann[\"bbox\"]\n",
        "        if (w!=0 and h!=0) :\n",
        "          crop_img = image[y:y+h, x:x+w]\n",
        "          cv2.imwrite(os.path.join(WORKDIR, 'datasets', 'cropped_images_manual', ann['metadata']['name'] + '_' + img['file_name'][:-3]+\"png\"), crop_img)\n",
        "\"\"\""
      ],
      "execution_count": 6,
      "outputs": [
        {
          "output_type": "execute_result",
          "data": {
            "text/plain": [
              "'\\n# Commented block in case we need crop images once more\\nfrom pycocotools.coco import COCO\\nfrom tqdm import tqdm\\n\\n!mkdir \\'$WORKDIR/datasets/cropped_images_manual\\'\\n\\nTARGET_FOLDER = \\'pubg\\' # all images\\n#TARGET_FOLDER = \\'pubg_only_pc\\'\\n\\nCLASSES = {\\'score\\':1, \\'stat\\':2, \\'username\\':3}\\n\\ncoco = COCO(os.path.join(WORKDIR, \\'pubg.json\\'))\\n\\ncat_ids = coco.getCatIds(catNms=[\\'games\\'])\\nimg_ids = coco.getImgIds(catIds=cat_ids)\\nimgs = coco.loadImgs(img_ids)\\n\\nmasks = []\\nfor img in tqdm(imgs, \\'Crop images\\'):\\n    ann_ids = coco.getAnnIds(imgIds=img[\\'id\\'], catIds=cat_ids)\\n    anns = coco.loadAnns(ann_ids)\\n\\n    mask = np.zeros((img[\\'height\\'], img[\\'width\\']))\\n    for ann in anns:\\n      if Path(os.path.join(WORKDIR, \\'datasets\\', TARGET_FOLDER, img[\\'file_name\\'])).is_file() :\\n        image = cv2.imread(os.path.join(os.path.join(WORKDIR, \\'datasets\\', TARGET_FOLDER), img[\\'file_name\\']))\\n        x,y,w,h = ann[\"bbox\"]\\n        if (w!=0 and h!=0) :\\n          crop_img = image[y:y+h, x:x+w]\\n          cv2.imwrite(os.path.join(WORKDIR, \\'datasets\\', \\'cropped_images_manual\\', ann[\\'metadata\\'][\\'name\\'] + \\'_\\' + img[\\'file_name\\'][:-3]+\"png\"), crop_img)\\n'"
            ]
          },
          "metadata": {
            "tags": []
          },
          "execution_count": 6
        }
      ]
    },
    {
      "cell_type": "markdown",
      "metadata": {
        "id": "7Cx-0ng-imz3",
        "colab_type": "text"
      },
      "source": [
        "## Imports"
      ]
    },
    {
      "cell_type": "code",
      "metadata": {
        "id": "OuWX3WVk32k5",
        "colab_type": "code",
        "outputId": "e24365e3-ed77-46d1-a9d9-60769a02ac5a",
        "colab": {
          "base_uri": "https://localhost:8080/",
          "height": 34
        }
      },
      "source": [
        "import os\n",
        "import cv2\n",
        "import keras\n",
        "import matplotlib.pyplot as plt\n",
        "import tensorflow.compat.v1 as tf\n",
        "import numpy as np\n",
        "import pandas as pd\n",
        "import math\n",
        "from pathlib import Path \n",
        "from google.colab import files\n",
        "from Levenshtein import *"
      ],
      "execution_count": 7,
      "outputs": [
        {
          "output_type": "stream",
          "text": [
            "Using TensorFlow backend.\n"
          ],
          "name": "stderr"
        }
      ]
    },
    {
      "cell_type": "markdown",
      "metadata": {
        "id": "gldThM71iyiz",
        "colab_type": "text"
      },
      "source": [
        "# Main text proccessing class and helper functions"
      ]
    },
    {
      "cell_type": "markdown",
      "metadata": {
        "id": "CHsWTpVczwsO",
        "colab_type": "text"
      },
      "source": [
        "## Helper function for data visualization"
      ]
    },
    {
      "cell_type": "code",
      "metadata": {
        "id": "wwYBNSShQBv5",
        "colab_type": "code",
        "colab": {}
      },
      "source": [
        "# helper function for data visualization\n",
        "def visualize(**images):\n",
        "    \"\"\"PLot images in one row.\"\"\"\n",
        "    n = len(images)\n",
        "    plt.figure(figsize=(16, 5))\n",
        "    for i, (name, image) in enumerate(images.items()):\n",
        "        plt.subplot(1, n, i + 1)\n",
        "        plt.xticks([])\n",
        "        plt.yticks([])\n",
        "        plt.title(' '.join(name.split('_')).title())\n",
        "        plt.imshow(image)\n",
        "    plt.show()\n",
        "    \n",
        "# helper function for data visualization    \n",
        "def denormalize(x):\n",
        "    \"\"\"Scale image to range 0..1 for correct plot\"\"\"\n",
        "    x_max = np.percentile(x, 98)\n",
        "    x_min = np.percentile(x, 2)    \n",
        "    x = (x - x_min) / (x_max - x_min)\n",
        "    x = x.clip(0, 1)\n",
        "\n",
        "    return x"
      ],
      "execution_count": 0,
      "outputs": []
    },
    {
      "cell_type": "markdown",
      "metadata": {
        "id": "bTwq-CxYz7Q3",
        "colab_type": "text"
      },
      "source": [
        "## Main working class. This is our work model"
      ]
    },
    {
      "cell_type": "code",
      "metadata": {
        "id": "_YqvqDZfsCK6",
        "colab_type": "code",
        "colab": {}
      },
      "source": [
        "class TextProcessor:\n",
        "\n",
        "  def __init__(\n",
        "            self, \n",
        "            work_dir,  \n",
        "            preprocessing=None,\n",
        "            preprocessing_add_border=None,\n",
        "            print_first_3=False,\n",
        "            preprocessing_resize_3033=None,\n",
        "            improve_quality_for_small=None,\n",
        "            use_grayscale=None,\n",
        "            filter_list=None,\n",
        "    ):\n",
        "        self.work_dir = work_dir\n",
        "        self.text_boxes = dict()\n",
        "        self.preprocessing = preprocessing\n",
        "        self.preprocessing_add_border = preprocessing_add_border\n",
        "        self.print_first_3 = print_first_3\n",
        "        self.bordersize = 2\n",
        "        self.preprocessing_resize_3033=preprocessing_resize_3033\n",
        "        self.default_model_lang = 'eng'\n",
        "        self.model_lang = self.default_model_lang\n",
        "        self.__load_csv_source_data() # load data from ground thruth file\n",
        "        self.improve_quality_for_small = improve_quality_for_small\n",
        "        self.grayscale = use_grayscale\n",
        "        self.filter_list = filter_list\n",
        "\n",
        "  def process_data(self, process_flag=1) :\n",
        "    #for r, d, f in os.walk(os.path.join(WORKDIR, 'datasets', 'cropped_images')):\n",
        "    first_3_counter = 0\n",
        "    for r, d, f in os.walk(self.work_dir):\n",
        "        for file in f:\n",
        "            if '.png' in file:\n",
        "\n",
        "              # Filter if needed (skip and continue from new iteration)\n",
        "              if self.filter_list != None:\n",
        "                if file.split(\"_\",2)[2][0:3] not in self.filter_list:\n",
        "                  continue\n",
        "\n",
        "              if self.grayscale :\n",
        "                image = cv2.imread(os.path.join(self.work_dir, file), 0)\n",
        "              else :\n",
        "                image = cv2.imread(os.path.join(self.work_dir, file))\n",
        "              image = cv2.cvtColor(image, cv2.COLOR_BGR2RGB)\n",
        "              #image = cv2.cvtColor(image, cv2.COLOR_BGR2GRAY)\n",
        "\n",
        "              image = self.__preprocess_image(image, file)\n",
        "\n",
        "              if process_flag == 1:\n",
        "                if (file.startswith('username')) :\n",
        "                  boxes = pytesseract.image_to_boxes(image, lang=self.model_lang, config='--psm 6 lstmbox')\n",
        "                else :\n",
        "                  boxes = pytesseract.image_to_boxes(image, lang=self.model_lang, config='--psm 6 -c tessedit_char_whitelist=\"01234567890#/ \" lstmbox')\n",
        "              elif process_flag == 2:\n",
        "                if (file.startswith('username')) :\n",
        "                  boxes = pytesseract.image_to_string(image, lang=self.model_lang, config='--psm 6 lstmbox')\n",
        "                else :\n",
        "                  boxes = pytesseract.image_to_string(image, lang=self.model_lang, config='--psm 6 -c tessedit_char_whitelist=\"01234567890#/ \" lstmbox')\n",
        "              else :\n",
        "                raise Exception('Unknown processing flag {}. Only 1(boxes) and 2(strings) are allowed.'.format(process_flag))\n",
        "\n",
        "              with open(os.path.join(self.work_dir, 'lstmbox', file[:-3]+\"txt\"),'w') as f: f.write(str(boxes))\n",
        "              self.text_boxes[file] = boxes\n",
        "\n",
        "              if self.print_first_3 :\n",
        "                if first_3_counter<=4 :\n",
        "                  self.print_recognized(image, boxes)\n",
        "                  first_3_counter+=1\n",
        "\n",
        "  def __preprocess_image(self, input_image, filename) :\n",
        "    '''\n",
        "      Apply all kinds of preprocessing in one method - to be able use it in other ones\n",
        "    '''\n",
        "\n",
        "    image = input_image\n",
        "\n",
        "    if self.improve_quality_for_small : \n",
        "      '''\n",
        "        Almost the same as resize_3033 but target size hardcoded as 40\n",
        "          and this applied on images that in height is lower than 40 pixels\n",
        "      '''\n",
        "      shape0 = 40\n",
        "      if (image.shape[0] < 40) :\n",
        "        koef1 = 40 / image.shape[0]\n",
        "        image = cv2.resize(image, (int(image.shape[1]*koef1),shape0), interpolation = cv2.INTER_NEAREST)\n",
        "\n",
        "    if self.preprocessing_add_border :\n",
        "      image = cv2.copyMakeBorder(\n",
        "          image,\n",
        "          top=self.bordersize,\n",
        "          bottom=self.bordersize,\n",
        "          left=self.bordersize,\n",
        "          right=self.bordersize,\n",
        "          borderType=cv2.BORDER_CONSTANT,\n",
        "          value=255\n",
        "      )\n",
        "\n",
        "    if self.preprocessing == 'BINARY' :\n",
        "      if 'score' in filename :\n",
        "        ret,image = cv2.threshold(image,70,255,cv2.THRESH_BINARY)\n",
        "      else :\n",
        "        ret,image = cv2.threshold(image,127,255,cv2.THRESH_BINARY)\n",
        "    elif self.preprocessing == 'OTSU' : # doesn't work with GRAY images\n",
        "      image = cv2.cvtColor(image, cv2.COLOR_RGB2GRAY)\n",
        "      ret,image = cv2.threshold(image,0,255,cv2.THRESH_BINARY+cv2.THRESH_OTSU)\n",
        "    elif self.preprocessing == 'OTSU2' : # doesn't work with GRAY images\n",
        "      image = cv2.cvtColor(image, cv2.COLOR_RGB2GRAY)\n",
        "      ret,image = cv2.threshold(image,0,255,cv2.THRESH_OTSU)\n",
        "    elif self.preprocessing == 'BINARY_MANUAL' :\n",
        "      ret,image = cv2.threshold(image,50,255,cv2.THRESH_BINARY)\n",
        "    elif self.preprocessing == 'BINARY_INV' :\n",
        "      if 'score' in filename :\n",
        "        ret,image = cv2.threshold(image,70,255,cv2.THRESH_BINARY_INV)\n",
        "      else :\n",
        "        #ret,image = cv2.threshold(image,127,255,cv2.THRESH_BINARY_INV)\n",
        "        ret,image = cv2.threshold(image,150,255,cv2.THRESH_BINARY_INV)\n",
        "\n",
        "    if self.preprocessing_resize_3033 :\n",
        "      '''\n",
        "        Tesseract of approximately version 3 gives us better result on letter size about 30-33 pixels.\n",
        "        \n",
        "        Short description of values from target size formula\n",
        "        Let's take 2 pixel as default border of picture (approximate size as we cropped images before, somewhere bigger somewhere lower). Summary is 4\n",
        "        In this case we will take 33 as target value of letter size\n",
        "        If we have additional border as preprocessing, let's add it to target size\n",
        "      '''\n",
        "      if self.preprocessing_add_border:\n",
        "        additional_border_size = self.bordersize*2\n",
        "      else :\n",
        "        additional_border_size = 0\n",
        "      target_size = 33 + 4 + additional_border_size\n",
        "      width_koef = target_size / image.shape[0]\n",
        "      image = cv2.resize(image, (int(image.shape[1]*width_koef),target_size), interpolation = cv2.INTER_NEAREST)\n",
        "\n",
        "    return image\n",
        "\n",
        "  def image_text_to_boxes(self, model) :\n",
        "      if model :\n",
        "        self.model_lang = model\n",
        "      self.process_data(1)\n",
        "      self.model_lang = self.default_model_lang\n",
        "\n",
        "  def image_text_to_strings(self, model) :\n",
        "      if model :\n",
        "        self.model_lang = model\n",
        "      self.process_data(2)\n",
        "      self.model_lang = self.default_model_lang\n",
        "\n",
        "  def text_boxes_to_file(self, zip_and_download = None) :  \n",
        "    if zip_and_download :\n",
        "      !zip -r ./segmentation/datasets/cropped_images_manual/lstmbox/lstmbox.zip ./segmentation/datasets/cropped_images_manual/lstmbox\n",
        "      files.download(os.path.join(self.work_dir, 'lstmbox', \"lstmbox.zip\"))\n",
        "    else :\n",
        "      ###  Write to Text File ######\n",
        "      with open(os.path.join(self.work_dir, file[:-3]+\"box\"),'w') as f: f.write(str(boxes))\n",
        "\n",
        "  def print_recognized(self, image, boxes) :\n",
        "\n",
        "      plt.figure(figsize=(10, 5))\n",
        "      plt.xlabel(boxes, fontsize=14)\n",
        "      plt.imshow(denormalize(image.squeeze()))\n",
        "      plt.show()\n",
        "  \n",
        "  def print_examples(self, count_of_images) :\n",
        "    i = 0\n",
        "    for key in self.text_boxes :\n",
        "      \n",
        "      image = cv2.imread(os.path.join(WORKDIR, 'datasets', 'cropped_images_manual', key))\n",
        "      image = cv2.cvtColor(image, cv2.COLOR_BGR2RGB)\n",
        "\n",
        "      self.__preprocess_image(image, key)\n",
        "\n",
        "      plt.figure(figsize=(10, 5))\n",
        "      plt.xlabel(self.text_boxes[key], fontsize=14)\n",
        "      plt.imshow(denormalize(image.squeeze()),'gray')\n",
        "      plt.show()\n",
        "\n",
        "      # Print only a few ones\n",
        "      if i == count_of_images : \n",
        "        break\n",
        "      else :\n",
        "        i+=1\n",
        "\n",
        "  def evaluate_manual(self, class_mask='ALL'):\n",
        "    '''\n",
        "      Levenshtein is calculated by following formula:\n",
        "        LevenshteinScore = 100 - round( ( Levenshtein_distance / length_of_ground_truth ) * 100 , 2)\n",
        "\n",
        "        - where:\n",
        "          Levenshtein_distance is library function for calculating distance between two words by Levenshtein\n",
        "          length_of_ground_truth is length of word from ground truth file (real value o picture)\n",
        "          * 100 is to get percentage value from [distance / length]\n",
        "          round is function to round value, as paramter we pass 2 digits after 0\n",
        "          100 - round(...) is to reverse value for better user experince. It's more natural observe percent value as growing value. It's mean that the more the better result\n",
        "    '''\n",
        "\n",
        "    ground_truth = self.eval_table\n",
        "\n",
        "    for item in self.text_boxes:\n",
        "      str_index = item.find('_')\n",
        "      source_file_name = item[str_index+1:-3]+'jpg'\n",
        "      if (class_mask == 'ALL' or item[:str_index] == class_mask) :\n",
        "        class_name = item[:str_index]\n",
        "        class_name_eval = class_name + '_eval'\n",
        "        class_name_tessdata = class_name + '__tessdata'\n",
        "        class_name_lev = class_name + '_lev'\n",
        "        z = ground_truth.loc[ground_truth['image_name'] == source_file_name][class_name].values[0]\n",
        "        if z == z :\n",
        "          #z = z.replace(\" \", \"\") # remove spaces\n",
        "          ground_truth.loc[ground_truth['image_name'] == source_file_name,class_name_tessdata] = self.text_boxes[item]\n",
        "          ground_truth.loc[ground_truth['image_name'] == source_file_name,class_name_lev] = 100 - round(distance(self.text_boxes[item],z)/len(z)*100,2)\n",
        "          if (self.text_boxes[item] == z) :\n",
        "            ground_truth.loc[ground_truth['image_name'] == source_file_name,class_name_eval] = 1\n",
        "          else :\n",
        "            ground_truth.loc[ground_truth['image_name'] == source_file_name,class_name_eval] = 0\n",
        "        else :\n",
        "          ground_truth.loc[ground_truth['image_name'] == source_file_name,class_name_tessdata] = 0\n",
        "          ground_truth.loc[ground_truth['image_name'] == source_file_name,class_name_eval] = 1\n",
        "    ground_truth['LevenshteinScore'] = (ground_truth['username_lev'].values[0] + ground_truth['score_lev'].values[0] + ground_truth['stat_lev'].values[0])/3\n",
        "    \n",
        "    # Final block - set eval table property and return\n",
        "    self.eval_table = ground_truth\n",
        "    self.__reorder_columns() ## reorder columns by names. Source: self.eval_table\n",
        "    evaluation = self.calculate_eval_fullwords(class_mask)\n",
        "    \n",
        "    return evaluation\n",
        "\n",
        "  def print_one_example(self, image_name) :\n",
        "      \n",
        "      image = cv2.imread(os.path.join(WORKDIR, 'datasets', 'pubg', 'cropped_images_manual', image_name))\n",
        "      image = cv2.cvtColor(image, cv2.COLOR_BGR2RGB)\n",
        "\n",
        "      image = self.__preprocess_image(image, image_name)\n",
        "\n",
        "      #plt.figure(figsize=(10, 5))\n",
        "      plt.xlabel(self.text_boxes[image_name], fontsize=14)\n",
        "      #plt.imshow(denormalize(image.squeeze()),'gray')\n",
        "      plt.imshow(denormalize(image.squeeze()))\n",
        "      plt.show()\n",
        "\n",
        "  def download_table(self, image_name) :\n",
        "    self.eval_table.to_csv('eval.csv', encoding='utf-8')\n",
        "    !zip -r eval1.zip eval1.csv\n",
        "    files.download(\"eval.zip\")\n",
        "\n",
        "  def print_eval_score(self) :\n",
        "    print(\"score\")\n",
        "\n",
        "  def calculate_eval_Levenshtein(self, class_mask) :\n",
        "    ground_truth = self.eval_table\n",
        "    evaluation = 0\n",
        "    if (class_mask == 'ALL') :\n",
        "      evaluation = (ground_truth['score_lev'].sum(skipna=True) \n",
        "                  + ground_truth['stat_lev'].sum(skipna=True) \n",
        "                  + ground_truth['username_lev'].sum(skipna=True) ) / (ground_truth['score_lev'].count() + ground_truth['stat_lev'].count() + ground_truth['username_lev'].count())\n",
        "    elif class_mask=='stat' :\n",
        "      evaluation = (ground_truth['stat_lev'].sum(skipna=True) ) / ground_truth['stat_lev'].count() #(ground_truth.shape[0])\n",
        "    elif class_mask=='score' :\n",
        "      evaluation = (ground_truth['score_lev'].sum(skipna=True) ) / ground_truth['score_lev'].count() #(ground_truth.shape[0])\n",
        "    elif class_mask=='username' :\n",
        "      evaluation = ( ground_truth['username_lev'].sum(skipna=True) ) / ground_truth['username_lev'].count() #(ground_truth.shape[0])\n",
        "\n",
        "    return evaluation\n",
        "\n",
        "  def calculate_eval_fullwords(self, class_mask) :\n",
        "    ground_truth = self.eval_table\n",
        "\n",
        "    if (class_mask == 'ALL') :\n",
        "      evaluation = (ground_truth['score_eval'].sum(skipna=True) \n",
        "                  + ground_truth['stat_eval'].sum(skipna=True) \n",
        "                  + ground_truth['username_eval'].sum(skipna=True) ) / (ground_truth['score_eval'].count() + ground_truth['stat_eval'].count() + ground_truth['username_eval'].count())\n",
        "    elif class_mask=='stat' :\n",
        "      evaluation = (ground_truth['stat_eval'].sum(skipna=True) ) / ground_truth['stat_eval'].count() #(ground_truth.shape[0])\n",
        "    elif class_mask=='score' :\n",
        "      evaluation = (ground_truth['score_eval'].sum(skipna=True) ) / ground_truth['score_eval'].count() #(ground_truth.shape[0])\n",
        "    elif class_mask=='username' :\n",
        "      evaluation = ( ground_truth['username_eval'].sum(skipna=True) ) / ground_truth['username_eval'].count() #(ground_truth.shape[0])\n",
        "\n",
        "    return evaluation\n",
        "\n",
        "  def getTop(self, class_mask, returnNumber) :\n",
        "    self.__sort_eval_table(class_mask)\n",
        "    return self.eval_table_sorted.tail(returnNumber)\n",
        "\n",
        "  def getWorst(self, class_mask, returnNumber) :\n",
        "    self.__sort_eval_table(class_mask)\n",
        "    return self.eval_table_sorted.head(returnNumber)\n",
        "\n",
        "  def __sort_eval_table(self, class_mask) :\n",
        "    if (class_mask == 'ALL') :\n",
        "      self.eval_table_sorted = self.eval_table.sort_values('LevenshteinScore')\n",
        "    elif class_mask=='stat' :\n",
        "      self.eval_table_sorted = self.eval_table.sort_values('stat_lev')\n",
        "    elif class_mask=='score' :\n",
        "      self.eval_table_sorted = self.eval_table.sort_values('score_lev')\n",
        "    elif class_mask=='username' :\n",
        "      self.eval_table_sorted = self.eval_table.sort_values('username_lev')\n",
        "    else :\n",
        "      raise \"Wrong class_mask for sort. Should be one of: ALL, score, stat, username.\"\n",
        "\n",
        "  def __load_csv_source_data(self) :\n",
        "    ground_truth = pd.read_csv(os.path.join(WORKDIR, 'text_data.csv'), sep='|')\n",
        "    ground_truth.drop('Unnamed: 0', axis=1, inplace=True)\n",
        "    ground_truth.drop('Unnamed: 5', axis=1, inplace=True)\n",
        "    ground_truth.drop(ground_truth[ground_truth.image_name == 'pubg_100.jpg'].index, inplace=True)\n",
        "    self.eval_table = ground_truth\n",
        "\n",
        "  def __reorder_columns(self) :\n",
        "    #cols = df.columns.tolist()\n",
        "    #cols = cols[-1:] + cols[:-1]\n",
        "    #df = df[cols]\n",
        "    self.eval_table = self.eval_table.reindex(sorted(self.eval_table.columns), axis=1)"
      ],
      "execution_count": 0,
      "outputs": []
    },
    {
      "cell_type": "code",
      "metadata": {
        "id": "Ob2rxI0M4COZ",
        "colab_type": "code",
        "colab": {}
      },
      "source": [
        "#!mkdir '$WORKDIR/datasets/cropped_images_manual/lstmbox'\n",
        "!mkdir '$WORKDIR/datasets/pubg/cropped_images_manual/lstmbox'"
      ],
      "execution_count": 0,
      "outputs": []
    },
    {
      "cell_type": "markdown",
      "metadata": {
        "id": "5J_tKCFt0K3w",
        "colab_type": "text"
      },
      "source": [
        "## Copy trained model to source tesseract folder"
      ]
    },
    {
      "cell_type": "code",
      "metadata": {
        "id": "rzNL04thAyLB",
        "colab_type": "code",
        "outputId": "56379485-4689-4ede-d67e-ed6dba00360c",
        "colab": {
          "base_uri": "https://localhost:8080/",
          "height": 51
        }
      },
      "source": [
        "# Copy trained model to source tesseract folder\n",
        "os.rename('segmentation/text_extraction/pubg/AgencyFB','segmentation/text_extraction/pubg/AgencyFB.traineddata')\n",
        "!cp segmentation/text_extraction/pubg/AgencyFB.traineddata /usr/share/tesseract-ocr/5/tessdata/\n",
        "!ls /usr/share/tesseract-ocr/5/tessdata/"
      ],
      "execution_count": 12,
      "outputs": [
        {
          "output_type": "stream",
          "text": [
            "AgencyFB.traineddata  eng.traineddata  pdf.ttf\n",
            "configs\t\t      osd.traineddata  tessconfigs\n"
          ],
          "name": "stdout"
        }
      ]
    },
    {
      "cell_type": "markdown",
      "metadata": {
        "id": "mYtXZOmO0RVv",
        "colab_type": "text"
      },
      "source": [
        "# Model testing"
      ]
    },
    {
      "cell_type": "code",
      "metadata": {
        "id": "gCUPP6TcoxnD",
        "colab_type": "code",
        "colab": {}
      },
      "source": [
        "# Lets create global results table\n",
        "data = [['cropped_images_manual_full', 'AgencyFB', 'ALL', 'None', False, False, False, False, 0, 0]]\n",
        "resultTable = pd.DataFrame(data, columns = ['Dataset', 'Model', 'Class', 'Preprocessing', 'Border', 'Resize_3033', 'ImproveQualityForSmall', 'GrayScale', 'FullTextScore', 'LevenshteinScore'])"
      ],
      "execution_count": 0,
      "outputs": []
    },
    {
      "cell_type": "markdown",
      "metadata": {
        "id": "FdUHoxUI0WJs",
        "colab_type": "text"
      },
      "source": [
        "## Basic run without any preprocessing. Just using pre-trained model"
      ]
    },
    {
      "cell_type": "code",
      "metadata": {
        "colab_type": "code",
        "outputId": "e729393b-1558-4fc6-8439-b812b31e6c5c",
        "id": "YG3a3dYR4fua",
        "colab": {
          "base_uri": "https://localhost:8080/",
          "height": 136
        }
      },
      "source": [
        "# Trained model - ALL IMAGES\n",
        "%%time\n",
        "x = TextProcessor(os.path.join(WORKDIR, 'datasets', 'pubg', 'cropped_images_manual'))\n",
        "\n",
        "x.image_text_to_strings('AgencyFB')\n",
        "\n",
        "fulltext_score = x.evaluate_manual('ALL')\n",
        "lev_score = x.calculate_eval_Levenshtein('ALL')\n",
        "\n",
        "print(fulltext_score)\n",
        "print(lev_score)\n",
        "\n",
        "resultTable.loc[resultTable['Dataset'] == 'cropped_images_manual_full','FullTextScore'] = fulltext_score\n",
        "resultTable.loc[resultTable['Dataset'] == 'cropped_images_manual_full','LevenshteinScore'] = lev_score\n",
        "\n",
        "print('\\n==========================')\n",
        "print('Timings:')"
      ],
      "execution_count": 13,
      "outputs": [
        {
          "output_type": "stream",
          "text": [
            "0.3346613545816733\n",
            "56.623629032258066\n",
            "\n",
            "==========================\n",
            "Timings:\n",
            "CPU times: user 2.81 s, sys: 1.04 s, total: 3.85 s\n",
            "Wall time: 1min 21s\n"
          ],
          "name": "stdout"
        }
      ]
    },
    {
      "cell_type": "markdown",
      "metadata": {
        "id": "7FQ3imkv9S0L",
        "colab_type": "text"
      },
      "source": [
        "### Print top 5 best and worst"
      ]
    },
    {
      "cell_type": "code",
      "metadata": {
        "id": "oJHHtfPTNmCZ",
        "colab_type": "code",
        "outputId": "6ca44d25-2df0-492b-fd95-ad5e5d2fa14b",
        "colab": {
          "base_uri": "https://localhost:8080/",
          "height": 238
        }
      },
      "source": [
        "x.getTop('ALL',5)"
      ],
      "execution_count": 14,
      "outputs": [
        {
          "output_type": "execute_result",
          "data": {
            "text/html": [
              "<div>\n",
              "<style scoped>\n",
              "    .dataframe tbody tr th:only-of-type {\n",
              "        vertical-align: middle;\n",
              "    }\n",
              "\n",
              "    .dataframe tbody tr th {\n",
              "        vertical-align: top;\n",
              "    }\n",
              "\n",
              "    .dataframe thead th {\n",
              "        text-align: right;\n",
              "    }\n",
              "</style>\n",
              "<table border=\"1\" class=\"dataframe\">\n",
              "  <thead>\n",
              "    <tr style=\"text-align: right;\">\n",
              "      <th></th>\n",
              "      <th>LevenshteinScore</th>\n",
              "      <th>image_name</th>\n",
              "      <th>score</th>\n",
              "      <th>score__tessdata</th>\n",
              "      <th>score_eval</th>\n",
              "      <th>score_lev</th>\n",
              "      <th>stat</th>\n",
              "      <th>stat__tessdata</th>\n",
              "      <th>stat_eval</th>\n",
              "      <th>stat_lev</th>\n",
              "      <th>username</th>\n",
              "      <th>username__tessdata</th>\n",
              "      <th>username_eval</th>\n",
              "      <th>username_lev</th>\n",
              "    </tr>\n",
              "  </thead>\n",
              "  <tbody>\n",
              "    <tr>\n",
              "      <th>26</th>\n",
              "      <td>45.833333</td>\n",
              "      <td>pubg_126.jpg</td>\n",
              "      <td>#4/100</td>\n",
              "      <td>/100</td>\n",
              "      <td>0.0</td>\n",
              "      <td>66.67</td>\n",
              "      <td>#4 9 493</td>\n",
              "      <td>8 1 493</td>\n",
              "      <td>0.0</td>\n",
              "      <td>62.5</td>\n",
              "      <td>Angel24k</td>\n",
              "      <td>TTVZA4</td>\n",
              "      <td>0.0</td>\n",
              "      <td>12.5</td>\n",
              "    </tr>\n",
              "    <tr>\n",
              "      <th>25</th>\n",
              "      <td>45.833333</td>\n",
              "      <td>pubg_125.jpg</td>\n",
              "      <td>#28/100</td>\n",
              "      <td>/100</td>\n",
              "      <td>0.0</td>\n",
              "      <td>57.14</td>\n",
              "      <td>#28 3 237</td>\n",
              "      <td>#28 3 237</td>\n",
              "      <td>1.0</td>\n",
              "      <td>100.0</td>\n",
              "      <td>testerbg</td>\n",
              "      <td>CES Tg]</td>\n",
              "      <td>0.0</td>\n",
              "      <td>0.0</td>\n",
              "    </tr>\n",
              "    <tr>\n",
              "      <th>24</th>\n",
              "      <td>45.833333</td>\n",
              "      <td>pubg_124.jpg</td>\n",
              "      <td>#25/100</td>\n",
              "      <td>#25 /100</td>\n",
              "      <td>0.0</td>\n",
              "      <td>85.71</td>\n",
              "      <td>#25 4 137</td>\n",
              "      <td>#25 4 137</td>\n",
              "      <td>1.0</td>\n",
              "      <td>100.0</td>\n",
              "      <td>ParasSolanki</td>\n",
              "      <td>ParasSolanki</td>\n",
              "      <td>1.0</td>\n",
              "      <td>100.0</td>\n",
              "    </tr>\n",
              "    <tr>\n",
              "      <th>44</th>\n",
              "      <td>45.833333</td>\n",
              "      <td>pubg_144.jpg</td>\n",
              "      <td>#39/48</td>\n",
              "      <td>#39</td>\n",
              "      <td>0.0</td>\n",
              "      <td>50.00</td>\n",
              "      <td>#39 0 26</td>\n",
              "      <td>1 26</td>\n",
              "      <td>0.0</td>\n",
              "      <td>37.5</td>\n",
              "      <td>alexmannnnnnnnn</td>\n",
              "      <td>alexmannnnnnnnn</td>\n",
              "      <td>1.0</td>\n",
              "      <td>100.0</td>\n",
              "    </tr>\n",
              "    <tr>\n",
              "      <th>89</th>\n",
              "      <td>45.833333</td>\n",
              "      <td>pubg_189.jpg</td>\n",
              "      <td>#5/30</td>\n",
              "      <td>5</td>\n",
              "      <td>0.0</td>\n",
              "      <td>20.00</td>\n",
              "      <td>#5 0 62</td>\n",
              "      <td>#5 0 62</td>\n",
              "      <td>1.0</td>\n",
              "      <td>100.0</td>\n",
              "      <td>AKOA</td>\n",
              "      <td>AKOA</td>\n",
              "      <td>1.0</td>\n",
              "      <td>100.0</td>\n",
              "    </tr>\n",
              "  </tbody>\n",
              "</table>\n",
              "</div>"
            ],
            "text/plain": [
              "    LevenshteinScore    image_name  ... username_eval username_lev\n",
              "26         45.833333  pubg_126.jpg  ...           0.0         12.5\n",
              "25         45.833333  pubg_125.jpg  ...           0.0          0.0\n",
              "24         45.833333  pubg_124.jpg  ...           1.0        100.0\n",
              "44         45.833333  pubg_144.jpg  ...           1.0        100.0\n",
              "89         45.833333  pubg_189.jpg  ...           1.0        100.0\n",
              "\n",
              "[5 rows x 14 columns]"
            ]
          },
          "metadata": {
            "tags": []
          },
          "execution_count": 14
        }
      ]
    },
    {
      "cell_type": "code",
      "metadata": {
        "id": "pEteRMcr9Zzj",
        "colab_type": "code",
        "outputId": "09552c51-c606-41a9-fa25-1c4de352a41b",
        "colab": {
          "base_uri": "https://localhost:8080/",
          "height": 289
        }
      },
      "source": [
        "x.getWorst('ALL',5)"
      ],
      "execution_count": 15,
      "outputs": [
        {
          "output_type": "execute_result",
          "data": {
            "text/html": [
              "<div>\n",
              "<style scoped>\n",
              "    .dataframe tbody tr th:only-of-type {\n",
              "        vertical-align: middle;\n",
              "    }\n",
              "\n",
              "    .dataframe tbody tr th {\n",
              "        vertical-align: top;\n",
              "    }\n",
              "\n",
              "    .dataframe thead th {\n",
              "        text-align: right;\n",
              "    }\n",
              "</style>\n",
              "<table border=\"1\" class=\"dataframe\">\n",
              "  <thead>\n",
              "    <tr style=\"text-align: right;\">\n",
              "      <th></th>\n",
              "      <th>LevenshteinScore</th>\n",
              "      <th>image_name</th>\n",
              "      <th>score</th>\n",
              "      <th>score__tessdata</th>\n",
              "      <th>score_eval</th>\n",
              "      <th>score_lev</th>\n",
              "      <th>stat</th>\n",
              "      <th>stat__tessdata</th>\n",
              "      <th>stat_eval</th>\n",
              "      <th>stat_lev</th>\n",
              "      <th>username</th>\n",
              "      <th>username__tessdata</th>\n",
              "      <th>username_eval</th>\n",
              "      <th>username_lev</th>\n",
              "    </tr>\n",
              "  </thead>\n",
              "  <tbody>\n",
              "    <tr>\n",
              "      <th>1</th>\n",
              "      <td>45.833333</td>\n",
              "      <td>pubg_101.jpg</td>\n",
              "      <td>#1/50</td>\n",
              "      <td>9</td>\n",
              "      <td>0.0</td>\n",
              "      <td>0.0</td>\n",
              "      <td>#1 8 858</td>\n",
              "      <td>1  7 1</td>\n",
              "      <td>0.0</td>\n",
              "      <td>37.5</td>\n",
              "      <td>Krismeisterr</td>\n",
              "      <td>Krismeisterr</td>\n",
              "      <td>1.0</td>\n",
              "      <td>100.0</td>\n",
              "    </tr>\n",
              "    <tr>\n",
              "      <th>64</th>\n",
              "      <td>45.833333</td>\n",
              "      <td>pubg_164.jpg</td>\n",
              "      <td>#1/95</td>\n",
              "      <td>1</td>\n",
              "      <td>0.0</td>\n",
              "      <td>20.0</td>\n",
              "      <td>#1 3 937</td>\n",
              "      <td>127 1 1/</td>\n",
              "      <td>0.0</td>\n",
              "      <td>12.5</td>\n",
              "      <td>Real_ARTY</td>\n",
              "      <td>Real_ARTY</td>\n",
              "      <td>1.0</td>\n",
              "      <td>100.0</td>\n",
              "    </tr>\n",
              "    <tr>\n",
              "      <th>63</th>\n",
              "      <td>45.833333</td>\n",
              "      <td>pubg_163.jpg</td>\n",
              "      <td>#8/99</td>\n",
              "      <td>#8</td>\n",
              "      <td>0.0</td>\n",
              "      <td>40.0</td>\n",
              "      <td>#8 5 358</td>\n",
              "      <td>#8 5 358</td>\n",
              "      <td>1.0</td>\n",
              "      <td>100.0</td>\n",
              "      <td>George19123</td>\n",
              "      <td>George19123</td>\n",
              "      <td>1.0</td>\n",
              "      <td>100.0</td>\n",
              "    </tr>\n",
              "    <tr>\n",
              "      <th>62</th>\n",
              "      <td>45.833333</td>\n",
              "      <td>pubg_162.jpg</td>\n",
              "      <td>#1/29</td>\n",
              "      <td>#1</td>\n",
              "      <td>0.0</td>\n",
              "      <td>40.0</td>\n",
              "      <td>#1 3 596</td>\n",
              "      <td>#1  3 596</td>\n",
              "      <td>0.0</td>\n",
              "      <td>87.5</td>\n",
              "      <td>Notzie</td>\n",
              "      <td>Notzie</td>\n",
              "      <td>1.0</td>\n",
              "      <td>100.0</td>\n",
              "    </tr>\n",
              "    <tr>\n",
              "      <th>61</th>\n",
              "      <td>45.833333</td>\n",
              "      <td>pubg_161.jpg</td>\n",
              "      <td>#1/99</td>\n",
              "      <td>11</td>\n",
              "      <td>0.0</td>\n",
              "      <td>20.0</td>\n",
              "      <td>#1 27 1586</td>\n",
              "      <td>#1 27 1586</td>\n",
              "      <td>1.0</td>\n",
              "      <td>100.0</td>\n",
              "      <td>GeneratedScreenShot</td>\n",
              "      <td>GeneratedScreenShot</td>\n",
              "      <td>1.0</td>\n",
              "      <td>100.0</td>\n",
              "    </tr>\n",
              "  </tbody>\n",
              "</table>\n",
              "</div>"
            ],
            "text/plain": [
              "    LevenshteinScore    image_name  ... username_eval username_lev\n",
              "1          45.833333  pubg_101.jpg  ...           1.0        100.0\n",
              "64         45.833333  pubg_164.jpg  ...           1.0        100.0\n",
              "63         45.833333  pubg_163.jpg  ...           1.0        100.0\n",
              "62         45.833333  pubg_162.jpg  ...           1.0        100.0\n",
              "61         45.833333  pubg_161.jpg  ...           1.0        100.0\n",
              "\n",
              "[5 rows x 14 columns]"
            ]
          },
          "metadata": {
            "tags": []
          },
          "execution_count": 15
        }
      ]
    },
    {
      "cell_type": "markdown",
      "metadata": {
        "id": "12cwGTM00iNY",
        "colab_type": "text"
      },
      "source": [
        "### Download results from colab to your computer"
      ]
    },
    {
      "cell_type": "code",
      "metadata": {
        "id": "RwDbXyUUWSqM",
        "colab_type": "code",
        "colab": {}
      },
      "source": [
        "# Download results\n",
        "#from google.colab import files\n",
        "#x.eval_table.to_csv('eval2.csv', encoding='utf-8')\n",
        "#!zip -r eval2.zip eval2.csv\n",
        "#files.download(\"eval2.zip\")"
      ],
      "execution_count": 0,
      "outputs": []
    },
    {
      "cell_type": "markdown",
      "metadata": {
        "id": "PnkgxYDM0rst",
        "colab_type": "text"
      },
      "source": [
        "### Same execution. But evaluation only for class \"SCORE\""
      ]
    },
    {
      "cell_type": "code",
      "metadata": {
        "colab_type": "code",
        "id": "YUL37Wae4fuw",
        "outputId": "4a08c5ab-77fd-4010-bb41-1e94aec97f51",
        "colab": {
          "base_uri": "https://localhost:8080/",
          "height": 51
        }
      },
      "source": [
        "# Trained model - CLASS: score\n",
        "\n",
        "fulltext_score = x.evaluate_manual('score')\n",
        "lev_score = x.calculate_eval_Levenshtein('score')\n",
        "\n",
        "print(fulltext_score)\n",
        "print(lev_score)\n",
        "\n",
        "resultTable = resultTable.append({'Dataset' : 'cropped_images_manual_full', \n",
        "                    'Model' : 'AgencyFB', \n",
        "                    'Class' : 'score', \n",
        "                    'Preprocessing' : 'None',\n",
        "                    'Border' : False, \n",
        "                    'Resize_3033' : False, \n",
        "                    'ImproveQualityForSmall' : False, \n",
        "                    'GrayScale' : False, \n",
        "                    'FullTextScore' : fulltext_score, \n",
        "                    'LevenshteinScore' : lev_score} , ignore_index=True)"
      ],
      "execution_count": 17,
      "outputs": [
        {
          "output_type": "stream",
          "text": [
            "0.0\n",
            "29.935555555555553\n"
          ],
          "name": "stdout"
        }
      ]
    },
    {
      "cell_type": "markdown",
      "metadata": {
        "id": "pFukVMI105iM",
        "colab_type": "text"
      },
      "source": [
        "### Evaluation for class \"USERNAME\""
      ]
    },
    {
      "cell_type": "code",
      "metadata": {
        "colab_type": "code",
        "id": "AcVSHR6e4fu6",
        "outputId": "f25f002e-2264-4677-bd93-435654ef2def",
        "colab": {
          "base_uri": "https://localhost:8080/",
          "height": 51
        }
      },
      "source": [
        "# Trained model - CLASS: username\n",
        "\n",
        "fulltext_score = x.evaluate_manual('username')\n",
        "lev_score = x.calculate_eval_Levenshtein('username')\n",
        "\n",
        "print(fulltext_score)\n",
        "print(lev_score)\n",
        "\n",
        "resultTable = resultTable.append({'Dataset' : 'cropped_images_manual_full', \n",
        "                    'Model' : 'AgencyFB', \n",
        "                    'Class' : 'username', \n",
        "                    'Preprocessing' : 'None',\n",
        "                    'Border' : False, \n",
        "                    'Resize_3033' : False, \n",
        "                    'ImproveQualityForSmall' : False, \n",
        "                    'GrayScale' : False, \n",
        "                    'FullTextScore' : fulltext_score, \n",
        "                    'LevenshteinScore' : lev_score} , ignore_index=True)"
      ],
      "execution_count": 18,
      "outputs": [
        {
          "output_type": "stream",
          "text": [
            "0.5714285714285714\n",
            "63.970476190476184\n"
          ],
          "name": "stdout"
        }
      ]
    },
    {
      "cell_type": "markdown",
      "metadata": {
        "id": "yTfQdzQv0_qx",
        "colab_type": "text"
      },
      "source": [
        "### Evaluation for class \"STAT\""
      ]
    },
    {
      "cell_type": "code",
      "metadata": {
        "colab_type": "code",
        "id": "B98LAl-X4fvF",
        "outputId": "5306c215-ae69-4995-8304-e8eef3046177",
        "colab": {
          "base_uri": "https://localhost:8080/",
          "height": 51
        }
      },
      "source": [
        "# Trained model - CLASS: stat\n",
        "\n",
        "fulltext_score = x.evaluate_manual('stat')\n",
        "lev_score = x.calculate_eval_Levenshtein('stat')\n",
        "\n",
        "print(fulltext_score)\n",
        "print(lev_score)\n",
        "\n",
        "resultTable = resultTable.append({'Dataset' : 'cropped_images_manual_full', \n",
        "                    'Model' : 'AgencyFB', \n",
        "                    'Class' : 'stat', \n",
        "                    'Preprocessing' : 'None',\n",
        "                    'Border' : False, \n",
        "                    'Resize_3033' : False, \n",
        "                    'ImproveQualityForSmall' : False, \n",
        "                    'GrayScale' : False, \n",
        "                    'FullTextScore' : fulltext_score, \n",
        "                    'LevenshteinScore' : lev_score} , ignore_index=True)"
      ],
      "execution_count": 19,
      "outputs": [
        {
          "output_type": "stream",
          "text": [
            "0.4186046511627907\n",
            "75.2332530120482\n"
          ],
          "name": "stdout"
        }
      ]
    },
    {
      "cell_type": "markdown",
      "metadata": {
        "id": "X3PYuJFR2iRO",
        "colab_type": "text"
      },
      "source": [
        "## Execution on default model (already existed as tesseract)"
      ]
    },
    {
      "cell_type": "code",
      "metadata": {
        "colab_type": "code",
        "id": "lYNifZ_e4fvI",
        "outputId": "3f6faeee-7367-4aa5-9924-6eb6d32f3702",
        "colab": {
          "base_uri": "https://localhost:8080/",
          "height": 51
        }
      },
      "source": [
        "# Default model\n",
        "x = TextProcessor(os.path.join(WORKDIR, 'datasets','pubg',  'cropped_images_manual'))\n",
        "\n",
        "x.image_text_to_strings('eng')\n",
        "\n",
        "fulltext_score = x.evaluate_manual('ALL')\n",
        "lev_score = x.calculate_eval_Levenshtein('ALL')\n",
        "\n",
        "print(fulltext_score)\n",
        "print(lev_score)\n",
        "\n",
        "resultTable = resultTable.append({'Dataset' : 'cropped_images_manual_full', \n",
        "                    'Model' : 'Default', \n",
        "                    'Class' : 'ALL', \n",
        "                    'Preprocessing' : 'None',\n",
        "                    'Border' : False, \n",
        "                    'Resize_3033' : False, \n",
        "                    'ImproveQualityForSmall' : False, \n",
        "                    'GrayScale' : False, \n",
        "                    'FullTextScore' : fulltext_score, \n",
        "                    'LevenshteinScore' : lev_score} , ignore_index=True)"
      ],
      "execution_count": 20,
      "outputs": [
        {
          "output_type": "stream",
          "text": [
            "0.27091633466135456\n",
            "52.0266935483871\n"
          ],
          "name": "stdout"
        }
      ]
    },
    {
      "cell_type": "code",
      "metadata": {
        "colab_type": "code",
        "id": "1vx__EkP4fvL",
        "colab": {}
      },
      "source": [
        "# Download results\n",
        "#from google.colab import files\n",
        "#x.eval_table.to_csv('eval1.csv', encoding='utf-8')\n",
        "#!zip -r eval1.zip eval1.csv\n",
        "#files.download(\"eval1.zip\")"
      ],
      "execution_count": 0,
      "outputs": []
    },
    {
      "cell_type": "markdown",
      "metadata": {
        "id": "7v0T-c9c4Lpl",
        "colab_type": "text"
      },
      "source": [
        "# Different approaches\n",
        "\n"
      ]
    },
    {
      "cell_type": "markdown",
      "metadata": {
        "id": "BP9VrlNzzTl1",
        "colab_type": "text"
      },
      "source": [
        "## Single parameter run. To review influence by each on pure dataset"
      ]
    },
    {
      "cell_type": "markdown",
      "metadata": {
        "id": "zS7JDbUO22SE",
        "colab_type": "text"
      },
      "source": [
        "### Improved quality"
      ]
    },
    {
      "cell_type": "code",
      "metadata": {
        "id": "6NHr_EiTtNOu",
        "colab_type": "code",
        "outputId": "db24f96d-e57a-4c90-ba4f-c63495536e68",
        "colab": {
          "base_uri": "https://localhost:8080/",
          "height": 51
        }
      },
      "source": [
        "# Trained model - ALL IMAGES\n",
        "x = TextProcessor(os.path.join(WORKDIR, 'datasets', 'pubg', 'cropped_images_manual'),improve_quality_for_small=True)\n",
        "\n",
        "x.image_text_to_strings('AgencyFB')\n",
        "\n",
        "fulltext_score = x.evaluate_manual('ALL')\n",
        "lev_score = x.calculate_eval_Levenshtein('ALL')\n",
        "\n",
        "print(fulltext_score)\n",
        "print(lev_score)\n",
        "\n",
        "resultTable = resultTable.append({'Dataset' : 'cropped_images_manual_full', \n",
        "                    'Model' : 'AgencyFB', \n",
        "                    'Class' : 'ALL', \n",
        "                    'Preprocessing' : 'None',\n",
        "                    'Border' : False, \n",
        "                    'Resize_3033' : False, \n",
        "                    'ImproveQualityForSmall' : True, \n",
        "                    'GrayScale' : False, \n",
        "                    'FullTextScore' : fulltext_score, \n",
        "                    'LevenshteinScore' : lev_score} , ignore_index=True)"
      ],
      "execution_count": 22,
      "outputs": [
        {
          "output_type": "stream",
          "text": [
            "0.3147410358565737\n",
            "57.43907258064516\n"
          ],
          "name": "stdout"
        }
      ]
    },
    {
      "cell_type": "markdown",
      "metadata": {
        "id": "2xOfRyDU3C9Z",
        "colab_type": "text"
      },
      "source": [
        "### Add border to each picture"
      ]
    },
    {
      "cell_type": "code",
      "metadata": {
        "id": "I7dbhQ-J4Pg7",
        "colab_type": "code",
        "outputId": "48faf128-503c-4d23-fcc9-469f33033e77",
        "colab": {
          "base_uri": "https://localhost:8080/",
          "height": 51
        }
      },
      "source": [
        "# Trained model - ALL IMAGES\n",
        "x = TextProcessor(os.path.join(WORKDIR, 'datasets', 'pubg', 'cropped_images_manual'), preprocessing_add_border=True)\n",
        "\n",
        "x.image_text_to_strings('AgencyFB')\n",
        "\n",
        "fulltext_score = x.evaluate_manual('ALL')\n",
        "lev_score = x.calculate_eval_Levenshtein('ALL')\n",
        "\n",
        "print(fulltext_score)\n",
        "print(lev_score)\n",
        "\n",
        "resultTable = resultTable.append({'Dataset' : 'cropped_images_manual_full', \n",
        "                    'Model' : 'AgencyFB', \n",
        "                    'Class' : 'ALL', \n",
        "                    'Preprocessing' : 'None',\n",
        "                    'Border' : True, \n",
        "                    'Resize_3033' : False, \n",
        "                    'ImproveQualityForSmall' : False, \n",
        "                    'GrayScale' : False, \n",
        "                    'FullTextScore' : fulltext_score, \n",
        "                    'LevenshteinScore' : lev_score} , ignore_index=True)"
      ],
      "execution_count": 23,
      "outputs": [
        {
          "output_type": "stream",
          "text": [
            "0.3386454183266932\n",
            "54.246330645161294\n"
          ],
          "name": "stdout"
        }
      ]
    },
    {
      "cell_type": "code",
      "metadata": {
        "id": "sLNFA9di4pa1",
        "colab_type": "code",
        "colab": {}
      },
      "source": [
        "# Download results\n",
        "#from google.colab import files\n",
        "#x.eval_table.to_csv('evald1.csv', encoding='utf-8')\n",
        "#!zip -r evald1.zip evald1.csv\n",
        "#files.download(\"evald1.zip\")"
      ],
      "execution_count": 0,
      "outputs": []
    },
    {
      "cell_type": "markdown",
      "metadata": {
        "id": "FFpUvOYYywNs",
        "colab_type": "text"
      },
      "source": [
        "### Add resize image to optimal 30-33 size of character"
      ]
    },
    {
      "cell_type": "code",
      "metadata": {
        "id": "ekx9fjLOywZ5",
        "colab_type": "code",
        "colab": {
          "base_uri": "https://localhost:8080/",
          "height": 51
        },
        "outputId": "64b98a98-98f1-4537-a5e1-e288f84d86b8"
      },
      "source": [
        "# Trained model - ALL IMAGES\n",
        "# Add preprocessing_resize_3033\n",
        "x = TextProcessor(os.path.join(WORKDIR, 'datasets', 'pubg', 'cropped_images_manual'), preprocessing_resize_3033=True)\n",
        "\n",
        "x.image_text_to_strings('AgencyFB')\n",
        "\n",
        "fulltext_score = x.evaluate_manual('ALL')\n",
        "lev_score = x.calculate_eval_Levenshtein('ALL')\n",
        "\n",
        "print(fulltext_score)\n",
        "print(lev_score)\n",
        "\n",
        "resultTable = resultTable.append({'Dataset' : 'cropped_images_manual_full', \n",
        "                    'Model' : 'AgencyFB', \n",
        "                    'Class' : 'ALL', \n",
        "                    'Preprocessing' : 'None',\n",
        "                    'Border' : False, \n",
        "                    'Resize_3033' : True, \n",
        "                    'ImproveQualityForSmall' : False, \n",
        "                    'GrayScale' : False, \n",
        "                    'FullTextScore' : fulltext_score, \n",
        "                    'LevenshteinScore' : lev_score} , ignore_index=True)"
      ],
      "execution_count": 25,
      "outputs": [
        {
          "output_type": "stream",
          "text": [
            "0.350597609561753\n",
            "58.73020161290324\n"
          ],
          "name": "stdout"
        }
      ]
    },
    {
      "cell_type": "markdown",
      "metadata": {
        "id": "sXypQnWVyW6s",
        "colab_type": "text"
      },
      "source": [
        "### Add BINARY image preprocessing"
      ]
    },
    {
      "cell_type": "code",
      "metadata": {
        "id": "nNWMqgRsyhMG",
        "colab_type": "code",
        "colab": {
          "base_uri": "https://localhost:8080/",
          "height": 51
        },
        "outputId": "1f3ff84c-71f5-4c69-f1ea-4bef8c2a2050"
      },
      "source": [
        "# Trained model - ALL IMAGES\n",
        "# Preprocessing - BINARY\n",
        "x = TextProcessor(os.path.join(WORKDIR, 'datasets', 'pubg', 'cropped_images_manual'), preprocessing='BINARY')\n",
        "\n",
        "x.image_text_to_strings('AgencyFB')\n",
        "\n",
        "fulltext_score = x.evaluate_manual('ALL')\n",
        "lev_score = x.calculate_eval_Levenshtein('ALL')\n",
        "\n",
        "print(fulltext_score)\n",
        "print(lev_score)\n",
        "\n",
        "resultTable = resultTable.append({'Dataset' : 'cropped_images_manual_full', \n",
        "                    'Model' : 'AgencyFB', \n",
        "                    'Class' : 'ALL', \n",
        "                    'Preprocessing' : 'BINARY',\n",
        "                    'Border' : False, \n",
        "                    'Resize_3033' : False, \n",
        "                    'ImproveQualityForSmall' : False, \n",
        "                    'GrayScale' : False, \n",
        "                    'FullTextScore' : fulltext_score, \n",
        "                    'LevenshteinScore' : lev_score} , ignore_index=True)"
      ],
      "execution_count": 26,
      "outputs": [
        {
          "output_type": "stream",
          "text": [
            "0.30677290836653387\n",
            "48.93306451612903\n"
          ],
          "name": "stdout"
        }
      ]
    },
    {
      "cell_type": "markdown",
      "metadata": {
        "id": "fPPGI12IzlkO",
        "colab_type": "text"
      },
      "source": [
        "### Add BINARY inversed image preprocessing"
      ]
    },
    {
      "cell_type": "code",
      "metadata": {
        "id": "jsZKEfJuzxtS",
        "colab_type": "code",
        "colab": {
          "base_uri": "https://localhost:8080/",
          "height": 51
        },
        "outputId": "0df0df70-9c94-40a8-fae0-68d0ed7599b9"
      },
      "source": [
        "# Trained model - ALL IMAGES\n",
        "# Preprocessing - BINARY_INV\n",
        "x = TextProcessor(os.path.join(WORKDIR, 'datasets', 'pubg', 'cropped_images_manual'), preprocessing='BINARY_INV')\n",
        "\n",
        "x.image_text_to_strings('AgencyFB')\n",
        "\n",
        "fulltext_score = x.evaluate_manual('ALL')\n",
        "lev_score = x.calculate_eval_Levenshtein('ALL')\n",
        "\n",
        "print(fulltext_score)\n",
        "print(lev_score)\n",
        "\n",
        "resultTable = resultTable.append({'Dataset' : 'cropped_images_manual_full', \n",
        "                    'Model' : 'AgencyFB', \n",
        "                    'Class' : 'ALL', \n",
        "                    'Preprocessing' : 'BINARY_INV',\n",
        "                    'Border' : False, \n",
        "                    'Resize_3033' : False, \n",
        "                    'ImproveQualityForSmall' : False, \n",
        "                    'GrayScale' : False, \n",
        "                    'FullTextScore' : fulltext_score, \n",
        "                    'LevenshteinScore' : lev_score} , ignore_index=True)"
      ],
      "execution_count": 27,
      "outputs": [
        {
          "output_type": "stream",
          "text": [
            "0.5179282868525896\n",
            "75.23798387096774\n"
          ],
          "name": "stdout"
        }
      ]
    },
    {
      "cell_type": "markdown",
      "metadata": {
        "id": "U2Gwfztuzpb8",
        "colab_type": "text"
      },
      "source": [
        "### Add OTSU image preprocessing"
      ]
    },
    {
      "cell_type": "code",
      "metadata": {
        "id": "fVi2j88dz6UU",
        "colab_type": "code",
        "colab": {
          "base_uri": "https://localhost:8080/",
          "height": 51
        },
        "outputId": "06996e24-feb9-48dd-9103-0f9fabdbc3c6"
      },
      "source": [
        "# Trained model - ALL IMAGES\n",
        "# Preprocessing - OTSU\n",
        "x = TextProcessor(os.path.join(WORKDIR, 'datasets', 'pubg', 'cropped_images_manual'), preprocessing='OTSU')\n",
        "\n",
        "x.image_text_to_strings('AgencyFB')\n",
        "\n",
        "fulltext_score = x.evaluate_manual('ALL')\n",
        "lev_score = x.calculate_eval_Levenshtein('ALL')\n",
        "\n",
        "print(fulltext_score)\n",
        "print(lev_score)\n",
        "\n",
        "resultTable = resultTable.append({'Dataset' : 'cropped_images_manual_full', \n",
        "                    'Model' : 'AgencyFB', \n",
        "                    'Class' : 'ALL', \n",
        "                    'Preprocessing' : 'OTSU',\n",
        "                    'Border' : False, \n",
        "                    'Resize_3033' : False, \n",
        "                    'ImproveQualityForSmall' : False, \n",
        "                    'GrayScale' : False, \n",
        "                    'FullTextScore' : fulltext_score, \n",
        "                    'LevenshteinScore' : lev_score} , ignore_index=True)"
      ],
      "execution_count": 28,
      "outputs": [
        {
          "output_type": "stream",
          "text": [
            "0.30677290836653387\n",
            "52.768588709677424\n"
          ],
          "name": "stdout"
        }
      ]
    },
    {
      "cell_type": "markdown",
      "metadata": {
        "id": "Qjyfd1O768DQ",
        "colab_type": "text"
      },
      "source": [
        "### GrayScale"
      ]
    },
    {
      "cell_type": "code",
      "metadata": {
        "id": "bzvC7OWB7FIw",
        "colab_type": "code",
        "colab": {
          "base_uri": "https://localhost:8080/",
          "height": 119
        },
        "outputId": "a1b3a131-0d98-49aa-862a-c3df0d5ae154"
      },
      "source": [
        "%%time\n",
        "x = TextProcessor(os.path.join(WORKDIR, 'datasets', 'pubg', 'cropped_images_manual'), use_grayscale=True)\n",
        "\n",
        "x.image_text_to_strings('AgencyFB')\n",
        "\n",
        "fulltext_score = x.evaluate_manual('ALL')\n",
        "lev_score = x.calculate_eval_Levenshtein('ALL')\n",
        "\n",
        "print(fulltext_score)\n",
        "print(lev_score)\n",
        "\n",
        "print('==========================')\n",
        "print('Timings:')\n",
        "\n",
        "resultTable = resultTable.append({'Dataset' : 'cropped_images_manual_full', \n",
        "                    'Model' : 'AgencyFB', \n",
        "                    'Class' : 'ALL', \n",
        "                    'Preprocessing' : x.preprocessing if x.preprocessing != None else False, #'BINARY_INV', True if x.preprocessing == None else False\n",
        "                    'Border' : True if x.preprocessing_add_border != None else False, #False, \n",
        "                    'Resize_3033' : True if x.preprocessing_resize_3033 != None else False, #False, \n",
        "                    'ImproveQualityForSmall' : True if x.improve_quality_for_small != None else False, #True, \n",
        "                    'GrayScale' : True if x.grayscale != None else False, #False, \n",
        "                    'FullTextScore' : fulltext_score, \n",
        "                    'LevenshteinScore' : lev_score} , ignore_index=True)"
      ],
      "execution_count": 29,
      "outputs": [
        {
          "output_type": "stream",
          "text": [
            "0.33067729083665337\n",
            "53.505725806451615\n",
            "==========================\n",
            "Timings:\n",
            "CPU times: user 2.56 s, sys: 1.1 s, total: 3.66 s\n",
            "Wall time: 1min 18s\n"
          ],
          "name": "stdout"
        }
      ]
    },
    {
      "cell_type": "markdown",
      "metadata": {
        "id": "5vdHNNtbz_o_",
        "colab_type": "text"
      },
      "source": [
        "## Mixed executions (mix of two)"
      ]
    },
    {
      "cell_type": "markdown",
      "metadata": {
        "id": "1pi4lSfm1BA0",
        "colab_type": "text"
      },
      "source": [
        "### BINARY and different flags"
      ]
    },
    {
      "cell_type": "markdown",
      "metadata": {
        "id": "CuU0S-CK3Mpl",
        "colab_type": "text"
      },
      "source": [
        "#### Add border and BINARY image preprocessing"
      ]
    },
    {
      "cell_type": "code",
      "metadata": {
        "id": "H9Nn1Jhm4iA4",
        "colab_type": "code",
        "outputId": "fcb4c1d9-52f7-45f6-8e22-7010fdd70d4a",
        "colab": {
          "base_uri": "https://localhost:8080/",
          "height": 51
        }
      },
      "source": [
        "# Trained model - ALL IMAGES\n",
        "# Add border to images\n",
        "# Preprocessing - BINARY\n",
        "x = TextProcessor(os.path.join(WORKDIR, 'datasets', 'pubg', 'cropped_images_manual'), preprocessing='BINARY', preprocessing_add_border=True)\n",
        "\n",
        "x.image_text_to_strings('AgencyFB')\n",
        "\n",
        "fulltext_score = x.evaluate_manual('ALL')\n",
        "lev_score = x.calculate_eval_Levenshtein('ALL')\n",
        "\n",
        "print(fulltext_score)\n",
        "print(lev_score)\n",
        "\n",
        "resultTable = resultTable.append({'Dataset' : 'cropped_images_manual_full', \n",
        "                    'Model' : 'AgencyFB', \n",
        "                    'Class' : 'ALL', \n",
        "                    'Preprocessing' : 'BINARY',\n",
        "                    'Border' : True, \n",
        "                    'Resize_3033' : False, \n",
        "                    'ImproveQualityForSmall' : False, \n",
        "                    'GrayScale' : False, \n",
        "                    'FullTextScore' : fulltext_score, \n",
        "                    'LevenshteinScore' : lev_score} , ignore_index=True)"
      ],
      "execution_count": 30,
      "outputs": [
        {
          "output_type": "stream",
          "text": [
            "0.2948207171314741\n",
            "46.28866935483871\n"
          ],
          "name": "stdout"
        }
      ]
    },
    {
      "cell_type": "markdown",
      "metadata": {
        "id": "UF5TMcun1MgU",
        "colab_type": "text"
      },
      "source": [
        "#### Add resizing 30-33"
      ]
    },
    {
      "cell_type": "code",
      "metadata": {
        "id": "e6CSkWlZ1Vf4",
        "colab_type": "code",
        "colab": {
          "base_uri": "https://localhost:8080/",
          "height": 51
        },
        "outputId": "92d52406-b1d3-4da9-f9f0-9bead4e1b938"
      },
      "source": [
        "# Trained model - ALL IMAGES\n",
        "# preprocessing_resize_3033\n",
        "# Preprocessing - BINARY\n",
        "x = TextProcessor(os.path.join(WORKDIR, 'datasets', 'pubg', 'cropped_images_manual'), preprocessing='BINARY', preprocessing_resize_3033=True)\n",
        "\n",
        "x.image_text_to_strings('AgencyFB')\n",
        "\n",
        "fulltext_score = x.evaluate_manual('ALL')\n",
        "lev_score = x.calculate_eval_Levenshtein('ALL')\n",
        "\n",
        "print(fulltext_score)\n",
        "print(lev_score)\n",
        "\n",
        "resultTable = resultTable.append({'Dataset' : 'cropped_images_manual_full', \n",
        "                    'Model' : 'AgencyFB', \n",
        "                    'Class' : 'ALL', \n",
        "                    'Preprocessing' : 'BINARY',\n",
        "                    'Border' : False, \n",
        "                    'Resize_3033' : True, \n",
        "                    'ImproveQualityForSmall' : False, \n",
        "                    'GrayScale' : False, \n",
        "                    'FullTextScore' : fulltext_score, \n",
        "                    'LevenshteinScore' : lev_score} , ignore_index=True)"
      ],
      "execution_count": 31,
      "outputs": [
        {
          "output_type": "stream",
          "text": [
            "0.30278884462151395\n",
            "52.738427419354835\n"
          ],
          "name": "stdout"
        }
      ]
    },
    {
      "cell_type": "markdown",
      "metadata": {
        "id": "d_-wIe901iD3",
        "colab_type": "text"
      },
      "source": [
        "#### Add improved quality"
      ]
    },
    {
      "cell_type": "code",
      "metadata": {
        "id": "gmPg_b3r1mmc",
        "colab_type": "code",
        "colab": {
          "base_uri": "https://localhost:8080/",
          "height": 51
        },
        "outputId": "3b6b3cd5-d215-492a-e853-59c9dec2dd6d"
      },
      "source": [
        "# Trained model - ALL IMAGES\n",
        "# preprocessing_resize_3033\n",
        "# Preprocessing - BINARY\n",
        "x = TextProcessor(os.path.join(WORKDIR, 'datasets', 'pubg', 'cropped_images_manual'), preprocessing='BINARY', improve_quality_for_small=True)\n",
        "\n",
        "x.image_text_to_strings('AgencyFB')\n",
        "\n",
        "fulltext_score = x.evaluate_manual('ALL')\n",
        "lev_score = x.calculate_eval_Levenshtein('ALL')\n",
        "\n",
        "print(fulltext_score)\n",
        "print(lev_score)\n",
        "\n",
        "resultTable = resultTable.append({'Dataset' : 'cropped_images_manual_full', \n",
        "                    'Model' : 'AgencyFB', \n",
        "                    'Class' : 'ALL', \n",
        "                    'Preprocessing' : 'BINARY',\n",
        "                    'Border' : False, \n",
        "                    'Resize_3033' : False, \n",
        "                    'ImproveQualityForSmall' : True, \n",
        "                    'GrayScale' : False, \n",
        "                    'FullTextScore' : fulltext_score, \n",
        "                    'LevenshteinScore' : lev_score} , ignore_index=True)"
      ],
      "execution_count": 32,
      "outputs": [
        {
          "output_type": "stream",
          "text": [
            "0.30278884462151395\n",
            "49.352701612903225\n"
          ],
          "name": "stdout"
        }
      ]
    },
    {
      "cell_type": "markdown",
      "metadata": {
        "id": "2jwnXHT32IYO",
        "colab_type": "text"
      },
      "source": [
        "### OTSU and different flags"
      ]
    },
    {
      "cell_type": "markdown",
      "metadata": {
        "id": "G6woBlOV35HG",
        "colab_type": "text"
      },
      "source": [
        "#### Preprocessing OTSU + add border"
      ]
    },
    {
      "cell_type": "code",
      "metadata": {
        "id": "O55Ryu1XFKYT",
        "colab_type": "code",
        "outputId": "b7e2dd33-9771-469d-d61f-e7eba17d55ee",
        "colab": {
          "base_uri": "https://localhost:8080/",
          "height": 51
        }
      },
      "source": [
        "# Trained model - ALL IMAGES\n",
        "x = TextProcessor(os.path.join(WORKDIR, 'datasets', 'pubg', 'cropped_images_manual'), preprocessing='OTSU', preprocessing_add_border=True)\n",
        "\n",
        "x.image_text_to_strings('AgencyFB')\n",
        "\n",
        "fulltext_score = x.evaluate_manual('ALL')\n",
        "lev_score = x.calculate_eval_Levenshtein('ALL')\n",
        "\n",
        "print(fulltext_score)\n",
        "print(lev_score)\n",
        "\n",
        "resultTable = resultTable.append({'Dataset' : 'cropped_images_manual_full', \n",
        "                    'Model' : 'AgencyFB', \n",
        "                    'Class' : 'ALL', \n",
        "                    'Preprocessing' : 'OTSU',\n",
        "                    'Border' : True, \n",
        "                    'Resize_3033' : False, \n",
        "                    'ImproveQualityForSmall' : False, \n",
        "                    'GrayScale' : False, \n",
        "                    'FullTextScore' : fulltext_score, \n",
        "                    'LevenshteinScore' : lev_score} , ignore_index=True)"
      ],
      "execution_count": 33,
      "outputs": [
        {
          "output_type": "stream",
          "text": [
            "0.3346613545816733\n",
            "53.21209677419355\n"
          ],
          "name": "stdout"
        }
      ]
    },
    {
      "cell_type": "markdown",
      "metadata": {
        "id": "K46VYeaP2UIR",
        "colab_type": "text"
      },
      "source": [
        "#### Add resizing 30-33"
      ]
    },
    {
      "cell_type": "code",
      "metadata": {
        "id": "v2C_Yjb72Ysh",
        "colab_type": "code",
        "colab": {
          "base_uri": "https://localhost:8080/",
          "height": 51
        },
        "outputId": "38293974-8fb1-4be8-f0d5-ad3826e80c89"
      },
      "source": [
        "# Trained model - ALL IMAGES\n",
        "x = TextProcessor(os.path.join(WORKDIR, 'datasets', 'pubg', 'cropped_images_manual'), preprocessing='OTSU', preprocessing_resize_3033=True)\n",
        "\n",
        "x.image_text_to_strings('AgencyFB')\n",
        "\n",
        "fulltext_score = x.evaluate_manual('ALL')\n",
        "lev_score = x.calculate_eval_Levenshtein('ALL')\n",
        "\n",
        "print(fulltext_score)\n",
        "print(lev_score)\n",
        "\n",
        "resultTable = resultTable.append({'Dataset' : 'cropped_images_manual_full', \n",
        "                    'Model' : 'AgencyFB', \n",
        "                    'Class' : 'ALL', \n",
        "                    'Preprocessing' : 'OTSU',\n",
        "                    'Border' : False, \n",
        "                    'Resize_3033' : True, \n",
        "                    'ImproveQualityForSmall' : False, \n",
        "                    'GrayScale' : False, \n",
        "                    'FullTextScore' : fulltext_score, \n",
        "                    'LevenshteinScore' : lev_score} , ignore_index=True)"
      ],
      "execution_count": 34,
      "outputs": [
        {
          "output_type": "stream",
          "text": [
            "0.2868525896414343\n",
            "54.95754032258065\n"
          ],
          "name": "stdout"
        }
      ]
    },
    {
      "cell_type": "markdown",
      "metadata": {
        "id": "QuLLJh6Z2omC",
        "colab_type": "text"
      },
      "source": [
        "#### Add improved quality"
      ]
    },
    {
      "cell_type": "code",
      "metadata": {
        "id": "F_EoHlTc2ytc",
        "colab_type": "code",
        "colab": {
          "base_uri": "https://localhost:8080/",
          "height": 51
        },
        "outputId": "1ff3d914-ab98-4503-c322-efc6e11dfb3b"
      },
      "source": [
        "# Trained model - ALL IMAGES\n",
        "x = TextProcessor(os.path.join(WORKDIR, 'datasets', 'pubg', 'cropped_images_manual'), preprocessing='OTSU', improve_quality_for_small=True)\n",
        "\n",
        "x.image_text_to_strings('AgencyFB')\n",
        "\n",
        "fulltext_score = x.evaluate_manual('ALL')\n",
        "lev_score = x.calculate_eval_Levenshtein('ALL')\n",
        "\n",
        "print(fulltext_score)\n",
        "print(lev_score)\n",
        "\n",
        "resultTable = resultTable.append({'Dataset' : 'cropped_images_manual_full', \n",
        "                    'Model' : 'AgencyFB', \n",
        "                    'Class' : 'ALL', \n",
        "                    'Preprocessing' : 'OTSU',\n",
        "                    'Border' : False, \n",
        "                    'Resize_3033' : False, \n",
        "                    'ImproveQualityForSmall' : True, \n",
        "                    'GrayScale' : False, \n",
        "                    'FullTextScore' : fulltext_score, \n",
        "                    'LevenshteinScore' : lev_score} , ignore_index=True)"
      ],
      "execution_count": 35,
      "outputs": [
        {
          "output_type": "stream",
          "text": [
            "0.29880478087649404\n",
            "53.898104838709685\n"
          ],
          "name": "stdout"
        }
      ]
    },
    {
      "cell_type": "markdown",
      "metadata": {
        "id": "7k8tGd202_zB",
        "colab_type": "text"
      },
      "source": [
        "### OTSU2 and different flags"
      ]
    },
    {
      "cell_type": "markdown",
      "metadata": {
        "id": "EIreOQ-p3-aJ",
        "colab_type": "text"
      },
      "source": [
        "#### Preprocessing OTSU2 + add border"
      ]
    },
    {
      "cell_type": "code",
      "metadata": {
        "id": "wwujUk5HGAxj",
        "colab_type": "code",
        "outputId": "50111e33-bed8-4535-84e5-62f3cc17525e",
        "colab": {
          "base_uri": "https://localhost:8080/",
          "height": 51
        }
      },
      "source": [
        "# Trained model - ALL IMAGES\n",
        "x = TextProcessor(os.path.join(WORKDIR, 'datasets', 'pubg', 'cropped_images_manual'), preprocessing='OTSU2', preprocessing_add_border=True)\n",
        "\n",
        "x.image_text_to_strings('AgencyFB')\n",
        "\n",
        "fulltext_score = x.evaluate_manual('ALL')\n",
        "lev_score = x.calculate_eval_Levenshtein('ALL')\n",
        "\n",
        "print(fulltext_score)\n",
        "print(lev_score)\n",
        "\n",
        "resultTable = resultTable.append({'Dataset' : 'cropped_images_manual_full', \n",
        "                    'Model' : 'AgencyFB', \n",
        "                    'Class' : 'ALL', \n",
        "                    'Preprocessing' : 'OTSU2',\n",
        "                    'Border' : True, \n",
        "                    'Resize_3033' : False, \n",
        "                    'ImproveQualityForSmall' : False, \n",
        "                    'GrayScale' : False, \n",
        "                    'FullTextScore' : fulltext_score, \n",
        "                    'LevenshteinScore' : lev_score} , ignore_index=True)"
      ],
      "execution_count": 36,
      "outputs": [
        {
          "output_type": "stream",
          "text": [
            "0.3346613545816733\n",
            "53.21209677419355\n"
          ],
          "name": "stdout"
        }
      ]
    },
    {
      "cell_type": "markdown",
      "metadata": {
        "id": "H2wYWuFE3JRf",
        "colab_type": "text"
      },
      "source": [
        "### BINARY INVERSED and different flags"
      ]
    },
    {
      "cell_type": "markdown",
      "metadata": {
        "id": "sBuzd5It3Uuw",
        "colab_type": "text"
      },
      "source": [
        "#### Add border and inversed BINARY image preprocessing"
      ]
    },
    {
      "cell_type": "code",
      "metadata": {
        "id": "YOu_aZYFw6gv",
        "colab_type": "code",
        "outputId": "cf3449ac-311e-430e-e9d7-7d68ed796018",
        "colab": {
          "base_uri": "https://localhost:8080/",
          "height": 119
        }
      },
      "source": [
        "# Trained model - ALL IMAGES\n",
        "# Add border to images\n",
        "# Preprocessing - BINARY_INV\n",
        "%%time\n",
        "x = TextProcessor(os.path.join(WORKDIR, 'datasets', 'pubg', 'cropped_images_manual'), preprocessing='BINARY_INV', preprocessing_add_border=True)\n",
        "\n",
        "x.image_text_to_strings('AgencyFB')\n",
        "\n",
        "fulltext_score = x.evaluate_manual('ALL')\n",
        "lev_score = x.calculate_eval_Levenshtein('ALL')\n",
        "\n",
        "print(fulltext_score)\n",
        "print(lev_score)\n",
        "\n",
        "print('==========================')\n",
        "print('Timings:')\n",
        "\n",
        "resultTable = resultTable.append({'Dataset' : 'cropped_images_manual_full', \n",
        "                    'Model' : 'AgencyFB', \n",
        "                    'Class' : 'ALL', \n",
        "                    'Preprocessing' : 'BINARY_INV',\n",
        "                    'Border' : True, \n",
        "                    'Resize_3033' : False, \n",
        "                    'ImproveQualityForSmall' : False, \n",
        "                    'GrayScale' : False, \n",
        "                    'FullTextScore' : fulltext_score, \n",
        "                    'LevenshteinScore' : lev_score} , ignore_index=True)"
      ],
      "execution_count": 37,
      "outputs": [
        {
          "output_type": "stream",
          "text": [
            "0.49800796812749004\n",
            "75.02435483870968\n",
            "==========================\n",
            "Timings:\n",
            "CPU times: user 1.94 s, sys: 1.09 s, total: 3.02 s\n",
            "Wall time: 1min 4s\n"
          ],
          "name": "stdout"
        }
      ]
    },
    {
      "cell_type": "markdown",
      "metadata": {
        "id": "VIbIbdab3TdA",
        "colab_type": "text"
      },
      "source": [
        "#### Add resizing 30-33"
      ]
    },
    {
      "cell_type": "code",
      "metadata": {
        "id": "aMxCa89W3Wux",
        "colab_type": "code",
        "colab": {
          "base_uri": "https://localhost:8080/",
          "height": 119
        },
        "outputId": "dbce7e54-0036-43c2-c091-f1552b999881"
      },
      "source": [
        "# Trained model - ALL IMAGES\n",
        "# Add border to images\n",
        "# Preprocessing - BINARY_INV\n",
        "%%time\n",
        "x = TextProcessor(os.path.join(WORKDIR, 'datasets', 'pubg', 'cropped_images_manual'), preprocessing='BINARY_INV', preprocessing_resize_3033=True)\n",
        "\n",
        "x.image_text_to_strings('AgencyFB')\n",
        "\n",
        "fulltext_score = x.evaluate_manual('ALL')\n",
        "lev_score = x.calculate_eval_Levenshtein('ALL')\n",
        "\n",
        "print(fulltext_score)\n",
        "print(lev_score)\n",
        "\n",
        "print('==========================')\n",
        "print('Timings:')\n",
        "\n",
        "resultTable = resultTable.append({'Dataset' : 'cropped_images_manual_full', \n",
        "                    'Model' : 'AgencyFB', \n",
        "                    'Class' : 'ALL', \n",
        "                    'Preprocessing' : 'BINARY_INV',\n",
        "                    'Border' : False, \n",
        "                    'Resize_3033' : True, \n",
        "                    'ImproveQualityForSmall' : False, \n",
        "                    'GrayScale' : False, \n",
        "                    'FullTextScore' : fulltext_score, \n",
        "                    'LevenshteinScore' : lev_score} , ignore_index=True)"
      ],
      "execution_count": 38,
      "outputs": [
        {
          "output_type": "stream",
          "text": [
            "0.4860557768924303\n",
            "75.26612903225806\n",
            "==========================\n",
            "Timings:\n",
            "CPU times: user 1.86 s, sys: 1.05 s, total: 2.92 s\n",
            "Wall time: 1min 5s\n"
          ],
          "name": "stdout"
        }
      ]
    },
    {
      "cell_type": "markdown",
      "metadata": {
        "id": "AgrfNdvS3chd",
        "colab_type": "text"
      },
      "source": [
        "#### Add improved quality"
      ]
    },
    {
      "cell_type": "code",
      "metadata": {
        "id": "sdav54u43fPm",
        "colab_type": "code",
        "colab": {
          "base_uri": "https://localhost:8080/",
          "height": 119
        },
        "outputId": "9d9dc81d-d309-4698-dd85-5f72d9e9c8c4"
      },
      "source": [
        "# Trained model - ALL IMAGES\n",
        "# Add border to images\n",
        "# Preprocessing - BINARY_INV\n",
        "%%time\n",
        "x = TextProcessor(os.path.join(WORKDIR, 'datasets', 'pubg', 'cropped_images_manual'), preprocessing='BINARY_INV', improve_quality_for_small=True)\n",
        "\n",
        "x.image_text_to_strings('AgencyFB')\n",
        "\n",
        "fulltext_score = x.evaluate_manual('ALL')\n",
        "lev_score = x.calculate_eval_Levenshtein('ALL')\n",
        "\n",
        "print(fulltext_score)\n",
        "print(lev_score)\n",
        "\n",
        "print('==========================')\n",
        "print('Timings:')\n",
        "\n",
        "resultTable = resultTable.append({'Dataset' : 'cropped_images_manual_full', \n",
        "                    'Model' : 'AgencyFB', \n",
        "                    'Class' : 'ALL', \n",
        "                    'Preprocessing' : x.preprocessing if x.preprocessing != None else False, #'BINARY_INV', True if x.preprocessing == None else False\n",
        "                    'Border' : True if x.preprocessing_add_border != None else False, #False, \n",
        "                    'Resize_3033' : True if x.preprocessing_resize_3033 != None else False, #False, \n",
        "                    'ImproveQualityForSmall' : True if x.improve_quality_for_small != None else False, #True, \n",
        "                    'GrayScale' : True if x.grayscale != None else False, #False, \n",
        "                    'FullTextScore' : fulltext_score, \n",
        "                    'LevenshteinScore' : lev_score} , ignore_index=True)"
      ],
      "execution_count": 39,
      "outputs": [
        {
          "output_type": "stream",
          "text": [
            "0.4860557768924303\n",
            "74.655\n",
            "==========================\n",
            "Timings:\n",
            "CPU times: user 1.94 s, sys: 1.06 s, total: 3 s\n",
            "Wall time: 1min 7s\n"
          ],
          "name": "stdout"
        }
      ]
    },
    {
      "cell_type": "markdown",
      "metadata": {
        "id": "68vutiJ25EX3",
        "colab_type": "text"
      },
      "source": [
        "### Mixed (mix of three)"
      ]
    },
    {
      "cell_type": "markdown",
      "metadata": {
        "id": "YgVEkybG3ZFq",
        "colab_type": "text"
      },
      "source": [
        "#### Add Border and inversed BINARY image preprocessing and resize to 33 pixel"
      ]
    },
    {
      "cell_type": "code",
      "metadata": {
        "id": "8JocnhV7xGtp",
        "colab_type": "code",
        "outputId": "fab3f02f-9f5b-4d99-c6d4-606abb6ee981",
        "colab": {
          "base_uri": "https://localhost:8080/",
          "height": 354
        }
      },
      "source": [
        "# Trained model - ALL IMAGES\n",
        "# Add border to images\n",
        "# Preprocessing - BINARY_INV\n",
        "# Resizing to optimal 30-33 pixels in height\n",
        "x = TextProcessor(os.path.join(WORKDIR, 'datasets', 'pubg', 'cropped_images_manual'), preprocessing='BINARY_INV', preprocessing_add_border=True, preprocessing_resize_3033=True)\n",
        "\n",
        "x.image_text_to_strings('AgencyFB')\n",
        "\n",
        "fulltext_score = x.evaluate_manual('ALL')\n",
        "lev_score = x.calculate_eval_Levenshtein('ALL')\n",
        "\n",
        "print(fulltext_score)\n",
        "print(lev_score)\n",
        "\n",
        "x.print_one_example('username_pubg_141.png')\n",
        "x.print_one_example('username_pubg_135.png')\n",
        "\n",
        "resultTable = resultTable.append({'Dataset' : 'cropped_images_manual_full', \n",
        "                    'Model' : 'AgencyFB', \n",
        "                    'Class' : 'ALL', \n",
        "                    'Preprocessing' : 'BINARY_INV',\n",
        "                    'Border' : True, \n",
        "                    'Resize_3033' : True, \n",
        "                    'ImproveQualityForSmall' : False, \n",
        "                    'GrayScale' : False, \n",
        "                    'FullTextScore' : fulltext_score, \n",
        "                    'LevenshteinScore' : lev_score} , ignore_index=True)"
      ],
      "execution_count": 40,
      "outputs": [
        {
          "output_type": "stream",
          "text": [
            "0.450199203187251\n",
            "74.20633064516129\n"
          ],
          "name": "stdout"
        },
        {
          "output_type": "display_data",
          "data": {
            "image/png": "[encoded data removed]",
            "text/plain": [
              "<Figure size 432x288 with 1 Axes>"
            ]
          },
          "metadata": {
            "tags": [],
            "needs_background": "light"
          }
        },
        {
          "output_type": "display_data",
          "data": {
            "image/png": "[encoded data removed]",
            "text/plain": [
              "<Figure size 432x288 with 1 Axes>"
            ]
          },
          "metadata": {
            "tags": [],
            "needs_background": "light"
          }
        }
      ]
    },
    {
      "cell_type": "code",
      "metadata": {
        "id": "dLRZKkyRzYtx",
        "colab_type": "code",
        "outputId": "6e96cf19-1a16-4144-a94f-919ea9cab9dc",
        "colab": {
          "base_uri": "https://localhost:8080/",
          "height": 640
        }
      },
      "source": [
        "x.getWorst('ALL',90)"
      ],
      "execution_count": 41,
      "outputs": [
        {
          "output_type": "execute_result",
          "data": {
            "text/html": [
              "<div>\n",
              "<style scoped>\n",
              "    .dataframe tbody tr th:only-of-type {\n",
              "        vertical-align: middle;\n",
              "    }\n",
              "\n",
              "    .dataframe tbody tr th {\n",
              "        vertical-align: top;\n",
              "    }\n",
              "\n",
              "    .dataframe thead th {\n",
              "        text-align: right;\n",
              "    }\n",
              "</style>\n",
              "<table border=\"1\" class=\"dataframe\">\n",
              "  <thead>\n",
              "    <tr style=\"text-align: right;\">\n",
              "      <th></th>\n",
              "      <th>LevenshteinScore</th>\n",
              "      <th>image_name</th>\n",
              "      <th>score</th>\n",
              "      <th>score__tessdata</th>\n",
              "      <th>score_eval</th>\n",
              "      <th>score_lev</th>\n",
              "      <th>stat</th>\n",
              "      <th>stat__tessdata</th>\n",
              "      <th>stat_eval</th>\n",
              "      <th>stat_lev</th>\n",
              "      <th>username</th>\n",
              "      <th>username__tessdata</th>\n",
              "      <th>username_eval</th>\n",
              "      <th>username_lev</th>\n",
              "    </tr>\n",
              "  </thead>\n",
              "  <tbody>\n",
              "    <tr>\n",
              "      <th>1</th>\n",
              "      <td>66.666667</td>\n",
              "      <td>pubg_101.jpg</td>\n",
              "      <td>#1/50</td>\n",
              "      <td></td>\n",
              "      <td>0.0</td>\n",
              "      <td>0.00</td>\n",
              "      <td>#1 8 858</td>\n",
              "      <td>#1 8 858</td>\n",
              "      <td>1.0</td>\n",
              "      <td>100.00</td>\n",
              "      <td>Krismeisterr</td>\n",
              "      <td>Krismeisterr</td>\n",
              "      <td>1.0</td>\n",
              "      <td>100.0</td>\n",
              "    </tr>\n",
              "    <tr>\n",
              "      <th>64</th>\n",
              "      <td>66.666667</td>\n",
              "      <td>pubg_164.jpg</td>\n",
              "      <td>#1/95</td>\n",
              "      <td>#1/0</td>\n",
              "      <td>0.0</td>\n",
              "      <td>60.00</td>\n",
              "      <td>#1 3 937</td>\n",
              "      <td>#1  3 937</td>\n",
              "      <td>0.0</td>\n",
              "      <td>87.50</td>\n",
              "      <td>Real_ARTY</td>\n",
              "      <td>Real_ARTY</td>\n",
              "      <td>1.0</td>\n",
              "      <td>100.0</td>\n",
              "    </tr>\n",
              "    <tr>\n",
              "      <th>63</th>\n",
              "      <td>66.666667</td>\n",
              "      <td>pubg_163.jpg</td>\n",
              "      <td>#8/99</td>\n",
              "      <td>1</td>\n",
              "      <td>0.0</td>\n",
              "      <td>0.00</td>\n",
              "      <td>#8 5 358</td>\n",
              "      <td>#8 5 358</td>\n",
              "      <td>1.0</td>\n",
              "      <td>100.00</td>\n",
              "      <td>George19123</td>\n",
              "      <td>George19123</td>\n",
              "      <td>1.0</td>\n",
              "      <td>100.0</td>\n",
              "    </tr>\n",
              "    <tr>\n",
              "      <th>62</th>\n",
              "      <td>66.666667</td>\n",
              "      <td>pubg_162.jpg</td>\n",
              "      <td>#1/29</td>\n",
              "      <td></td>\n",
              "      <td>0.0</td>\n",
              "      <td>0.00</td>\n",
              "      <td>#1 3 596</td>\n",
              "      <td>#1  3 596</td>\n",
              "      <td>0.0</td>\n",
              "      <td>87.50</td>\n",
              "      <td>Notzie</td>\n",
              "      <td>Notzie</td>\n",
              "      <td>1.0</td>\n",
              "      <td>100.0</td>\n",
              "    </tr>\n",
              "    <tr>\n",
              "      <th>61</th>\n",
              "      <td>66.666667</td>\n",
              "      <td>pubg_161.jpg</td>\n",
              "      <td>#1/99</td>\n",
              "      <td>/99</td>\n",
              "      <td>0.0</td>\n",
              "      <td>60.00</td>\n",
              "      <td>#1 27 1586</td>\n",
              "      <td>#1 27 1586</td>\n",
              "      <td>1.0</td>\n",
              "      <td>100.00</td>\n",
              "      <td>GeneratedScreenShot</td>\n",
              "      <td>GeneratedScreenShot</td>\n",
              "      <td>1.0</td>\n",
              "      <td>100.0</td>\n",
              "    </tr>\n",
              "    <tr>\n",
              "      <th>...</th>\n",
              "      <td>...</td>\n",
              "      <td>...</td>\n",
              "      <td>...</td>\n",
              "      <td>...</td>\n",
              "      <td>...</td>\n",
              "      <td>...</td>\n",
              "      <td>...</td>\n",
              "      <td>...</td>\n",
              "      <td>...</td>\n",
              "      <td>...</td>\n",
              "      <td>...</td>\n",
              "      <td>...</td>\n",
              "      <td>...</td>\n",
              "      <td>...</td>\n",
              "    </tr>\n",
              "    <tr>\n",
              "      <th>26</th>\n",
              "      <td>66.666667</td>\n",
              "      <td>pubg_126.jpg</td>\n",
              "      <td>#4/100</td>\n",
              "      <td>#4100</td>\n",
              "      <td>0.0</td>\n",
              "      <td>83.33</td>\n",
              "      <td>#4 9 493</td>\n",
              "      <td>#4 9 493</td>\n",
              "      <td>1.0</td>\n",
              "      <td>100.00</td>\n",
              "      <td>Angel24k</td>\n",
              "      <td>Angel24k</td>\n",
              "      <td>1.0</td>\n",
              "      <td>100.0</td>\n",
              "    </tr>\n",
              "    <tr>\n",
              "      <th>25</th>\n",
              "      <td>66.666667</td>\n",
              "      <td>pubg_125.jpg</td>\n",
              "      <td>#28/100</td>\n",
              "      <td>/100</td>\n",
              "      <td>0.0</td>\n",
              "      <td>57.14</td>\n",
              "      <td>#28 3 237</td>\n",
              "      <td>#28 3 237</td>\n",
              "      <td>1.0</td>\n",
              "      <td>100.00</td>\n",
              "      <td>testerbg</td>\n",
              "      <td>testerbg</td>\n",
              "      <td>1.0</td>\n",
              "      <td>100.0</td>\n",
              "    </tr>\n",
              "    <tr>\n",
              "      <th>24</th>\n",
              "      <td>66.666667</td>\n",
              "      <td>pubg_124.jpg</td>\n",
              "      <td>#25/100</td>\n",
              "      <td>#25 100</td>\n",
              "      <td>0.0</td>\n",
              "      <td>85.71</td>\n",
              "      <td>#25 4 137</td>\n",
              "      <td>#25 4 137</td>\n",
              "      <td>1.0</td>\n",
              "      <td>100.00</td>\n",
              "      <td>ParasSolanki</td>\n",
              "      <td>ParasSolanki</td>\n",
              "      <td>1.0</td>\n",
              "      <td>100.0</td>\n",
              "    </tr>\n",
              "    <tr>\n",
              "      <th>44</th>\n",
              "      <td>66.666667</td>\n",
              "      <td>pubg_144.jpg</td>\n",
              "      <td>#39/48</td>\n",
              "      <td>5\\n740</td>\n",
              "      <td>0.0</td>\n",
              "      <td>16.67</td>\n",
              "      <td>#39 0 26</td>\n",
              "      <td>#39  0 26</td>\n",
              "      <td>0.0</td>\n",
              "      <td>87.50</td>\n",
              "      <td>alexmannnnnnnnn</td>\n",
              "      <td>alexmannnnnnnnn</td>\n",
              "      <td>1.0</td>\n",
              "      <td>100.0</td>\n",
              "    </tr>\n",
              "    <tr>\n",
              "      <th>89</th>\n",
              "      <td>66.666667</td>\n",
              "      <td>pubg_189.jpg</td>\n",
              "      <td>#5/30</td>\n",
              "      <td>#5/3</td>\n",
              "      <td>0.0</td>\n",
              "      <td>80.00</td>\n",
              "      <td>#5 0 62</td>\n",
              "      <td>#5  0 62</td>\n",
              "      <td>0.0</td>\n",
              "      <td>85.71</td>\n",
              "      <td>AKOA</td>\n",
              "      <td>AKOA</td>\n",
              "      <td>1.0</td>\n",
              "      <td>100.0</td>\n",
              "    </tr>\n",
              "  </tbody>\n",
              "</table>\n",
              "<p>89 rows × 14 columns</p>\n",
              "</div>"
            ],
            "text/plain": [
              "    LevenshteinScore    image_name  ... username_eval username_lev\n",
              "1          66.666667  pubg_101.jpg  ...           1.0        100.0\n",
              "64         66.666667  pubg_164.jpg  ...           1.0        100.0\n",
              "63         66.666667  pubg_163.jpg  ...           1.0        100.0\n",
              "62         66.666667  pubg_162.jpg  ...           1.0        100.0\n",
              "61         66.666667  pubg_161.jpg  ...           1.0        100.0\n",
              "..               ...           ...  ...           ...          ...\n",
              "26         66.666667  pubg_126.jpg  ...           1.0        100.0\n",
              "25         66.666667  pubg_125.jpg  ...           1.0        100.0\n",
              "24         66.666667  pubg_124.jpg  ...           1.0        100.0\n",
              "44         66.666667  pubg_144.jpg  ...           1.0        100.0\n",
              "89         66.666667  pubg_189.jpg  ...           1.0        100.0\n",
              "\n",
              "[89 rows x 14 columns]"
            ]
          },
          "metadata": {
            "tags": []
          },
          "execution_count": 41
        }
      ]
    },
    {
      "cell_type": "markdown",
      "metadata": {
        "id": "ud7wgH-A5jCP",
        "colab_type": "text"
      },
      "source": [
        "#### Border, Inversed BINARY, Improved Quality"
      ]
    },
    {
      "cell_type": "code",
      "metadata": {
        "id": "DnKRVuDu54yi",
        "colab_type": "code",
        "colab": {
          "base_uri": "https://localhost:8080/",
          "height": 346
        },
        "outputId": "48470d09-34f3-451d-a9e5-9bcd4925085b"
      },
      "source": [
        "# Trained model - ALL IMAGES\n",
        "# Add border to images\n",
        "# Preprocessing - BINARY_INV\n",
        "# Improved quality\n",
        "x = TextProcessor(os.path.join(WORKDIR, 'datasets', 'pubg', 'cropped_images_manual'), preprocessing='BINARY_INV', preprocessing_add_border=True, improve_quality_for_small=True)\n",
        "\n",
        "x.image_text_to_strings('AgencyFB')\n",
        "\n",
        "fulltext_score = x.evaluate_manual('ALL')\n",
        "lev_score = x.calculate_eval_Levenshtein('ALL')\n",
        "\n",
        "print(fulltext_score)\n",
        "print(lev_score)\n",
        "\n",
        "x.print_one_example('username_pubg_141.png')\n",
        "x.print_one_example('username_pubg_135.png')\n",
        "\n",
        "resultTable = resultTable.append({'Dataset' : 'cropped_images_manual_full', \n",
        "                    'Model' : 'AgencyFB', \n",
        "                    'Class' : 'ALL', \n",
        "                    'Preprocessing' : x.preprocessing if x.preprocessing != None else False, #'BINARY_INV', True if x.preprocessing == None else False\n",
        "                    'Border' : True if x.preprocessing_add_border != None else False, #False, \n",
        "                    'Resize_3033' : True if x.preprocessing_resize_3033 != None else False, #False, \n",
        "                    'ImproveQualityForSmall' : True if x.improve_quality_for_small != None else False, #True, \n",
        "                    'GrayScale' : True if x.grayscale != None else False, #False, \n",
        "                    'FullTextScore' : fulltext_score, \n",
        "                    'LevenshteinScore' : lev_score} , ignore_index=True)"
      ],
      "execution_count": 42,
      "outputs": [
        {
          "output_type": "stream",
          "text": [
            "0.47808764940239046\n",
            "73.73012096774194\n"
          ],
          "name": "stdout"
        },
        {
          "output_type": "display_data",
          "data": {
            "image/png": "[encoded data removed]",
            "text/plain": [
              "<Figure size 432x288 with 1 Axes>"
            ]
          },
          "metadata": {
            "tags": [],
            "needs_background": "light"
          }
        },
        {
          "output_type": "display_data",
          "data": {
            "image/png": "[encoded data removed]",
            "text/plain": [
              "<Figure size 432x288 with 1 Axes>"
            ]
          },
          "metadata": {
            "tags": [],
            "needs_background": "light"
          }
        }
      ]
    },
    {
      "cell_type": "markdown",
      "metadata": {
        "id": "qmlznzT16dS3",
        "colab_type": "text"
      },
      "source": [
        "#### Border, Binary, resizing 30-33"
      ]
    },
    {
      "cell_type": "code",
      "metadata": {
        "id": "-R5s2xLJ6lk7",
        "colab_type": "code",
        "colab": {
          "base_uri": "https://localhost:8080/",
          "height": 354
        },
        "outputId": "c2e1ff72-8489-40b8-ba8e-a747f7964764"
      },
      "source": [
        "x = TextProcessor(os.path.join(WORKDIR, 'datasets', 'pubg', 'cropped_images_manual'), preprocessing='BINARY_INV', preprocessing_add_border=True, preprocessing_resize_3033=True)\n",
        "\n",
        "x.image_text_to_strings('AgencyFB')\n",
        "\n",
        "fulltext_score = x.evaluate_manual('ALL')\n",
        "lev_score = x.calculate_eval_Levenshtein('ALL')\n",
        "\n",
        "print(fulltext_score)\n",
        "print(lev_score)\n",
        "\n",
        "x.print_one_example('username_pubg_141.png')\n",
        "x.print_one_example('username_pubg_135.png')\n",
        "\n",
        "resultTable = resultTable.append({'Dataset' : 'cropped_images_manual_full', \n",
        "                    'Model' : 'AgencyFB', \n",
        "                    'Class' : 'ALL', \n",
        "                    'Preprocessing' : x.preprocessing if x.preprocessing != None else False, #'BINARY_INV', True if x.preprocessing == None else False\n",
        "                    'Border' : True if x.preprocessing_add_border != None else False, #False, \n",
        "                    'Resize_3033' : True if x.preprocessing_resize_3033 != None else False, #False, \n",
        "                    'ImproveQualityForSmall' : True if x.improve_quality_for_small != None else False, #True, \n",
        "                    'GrayScale' : True if x.grayscale != None else False, #False, \n",
        "                    'FullTextScore' : fulltext_score, \n",
        "                    'LevenshteinScore' : lev_score} , ignore_index=True)"
      ],
      "execution_count": 43,
      "outputs": [
        {
          "output_type": "stream",
          "text": [
            "0.450199203187251\n",
            "74.20633064516129\n"
          ],
          "name": "stdout"
        },
        {
          "output_type": "display_data",
          "data": {
            "image/png": "[encoded data removed]",
            "text/plain": [
              "<Figure size 432x288 with 1 Axes>"
            ]
          },
          "metadata": {
            "tags": [],
            "needs_background": "light"
          }
        },
        {
          "output_type": "display_data",
          "data": {
            "image/png": "[encoded data removed]",
            "text/plain": [
              "<Figure size 432x288 with 1 Axes>"
            ]
          },
          "metadata": {
            "tags": [],
            "needs_background": "light"
          }
        }
      ]
    },
    {
      "cell_type": "markdown",
      "metadata": {
        "id": "af2aiUZq3mNT",
        "colab_type": "text"
      },
      "source": [
        "#### Add border and BINARY image preprocessing and improved quality"
      ]
    },
    {
      "cell_type": "code",
      "metadata": {
        "id": "OwYjfmskyyak",
        "colab_type": "code",
        "outputId": "59cf9f8c-f771-4d1d-8359-1ac613e75fc0",
        "colab": {
          "base_uri": "https://localhost:8080/",
          "height": 346
        }
      },
      "source": [
        "# Trained model - ALL IMAGES\n",
        "# Add border to images\n",
        "# Preprocessing - BINARY\n",
        "# Apply improved quality(works only for images that is lower than 40 in height size) instead of \"Resizing to optimal 30-33 pixels in height\"\n",
        "x = TextProcessor(os.path.join(WORKDIR, 'datasets', 'pubg', 'cropped_images_manual'), preprocessing='BINARY', preprocessing_add_border=True, improve_quality_for_small=True)\n",
        "\n",
        "x.image_text_to_strings('AgencyFB')\n",
        "\n",
        "fulltext_score = x.evaluate_manual('ALL')\n",
        "lev_score = x.calculate_eval_Levenshtein('ALL')\n",
        "\n",
        "print(fulltext_score)\n",
        "print(lev_score)\n",
        "\n",
        "x.print_one_example('username_pubg_141.png')\n",
        "x.print_one_example('username_pubg_135.png')\n",
        "\n",
        "resultTable = resultTable.append({'Dataset' : 'cropped_images_manual_full', \n",
        "                    'Model' : 'AgencyFB', \n",
        "                    'Class' : 'ALL', \n",
        "                    'Preprocessing' : x.preprocessing if x.preprocessing != None else False, #'BINARY_INV', True if x.preprocessing == None else False\n",
        "                    'Border' : True if x.preprocessing_add_border != None else False, #False, \n",
        "                    'Resize_3033' : True if x.preprocessing_resize_3033 != None else False, #False, \n",
        "                    'ImproveQualityForSmall' : True if x.improve_quality_for_small != None else False, #True, \n",
        "                    'GrayScale' : True if x.grayscale != None else False, #False, \n",
        "                    'FullTextScore' : fulltext_score, \n",
        "                    'LevenshteinScore' : lev_score} , ignore_index=True)"
      ],
      "execution_count": 44,
      "outputs": [
        {
          "output_type": "stream",
          "text": [
            "0.24701195219123506\n",
            "44.22879032258064\n"
          ],
          "name": "stdout"
        },
        {
          "output_type": "display_data",
          "data": {
            "image/png": "[encoded data removed]",
            "text/plain": [
              "<Figure size 432x288 with 1 Axes>"
            ]
          },
          "metadata": {
            "tags": [],
            "needs_background": "light"
          }
        },
        {
          "output_type": "display_data",
          "data": {
            "image/png": "[encoded data removed]",
            "text/plain": [
              "<Figure size 432x288 with 1 Axes>"
            ]
          },
          "metadata": {
            "tags": [],
            "needs_background": "light"
          }
        }
      ]
    },
    {
      "cell_type": "code",
      "metadata": {
        "id": "m3FFNOAq4p_o",
        "colab_type": "code",
        "colab": {}
      },
      "source": [
        "# Download results\n",
        "#from google.colab import files\n",
        "#x.eval_table.to_csv('evald2.csv', encoding='utf-8')\n",
        "#!zip -r evald2.zip evald2.csv\n",
        "#files.download(\"evald2.zip\")"
      ],
      "execution_count": 0,
      "outputs": []
    },
    {
      "cell_type": "markdown",
      "metadata": {
        "id": "k2navsno4EDE",
        "colab_type": "text"
      },
      "source": [
        "### Mixed run. A few models in one block for manual manipulations"
      ]
    },
    {
      "cell_type": "code",
      "metadata": {
        "id": "w2XmrhMNLGPP",
        "colab_type": "code",
        "colab": {}
      },
      "source": [
        "# Trained model - ALL IMAGES\n",
        "x1 = TextProcessor(os.path.join(WORKDIR, 'datasets', 'pubg', 'cropped_images_manual'))\n",
        "x1.image_text_to_strings('AgencyFB')\n",
        "\n",
        "x2 = TextProcessor(os.path.join(WORKDIR, 'datasets', 'pubg', 'cropped_images_manual'), preprocessing_add_border=True)\n",
        "x2.image_text_to_strings('AgencyFB')\n",
        "\n",
        "x3 = TextProcessor(os.path.join(WORKDIR, 'datasets', 'pubg', 'cropped_images_manual'), preprocessing='BINARY', preprocessing_add_border=True)\n",
        "x3.image_text_to_strings('AgencyFB')\n",
        "\n",
        "x4 = TextProcessor(os.path.join(WORKDIR, 'datasets', 'pubg', 'cropped_images_manual'), preprocessing='OTSU', preprocessing_add_border=True)\n",
        "x4.image_text_to_strings('AgencyFB')\n",
        "\n",
        "x5 = TextProcessor(os.path.join(WORKDIR, 'datasets', 'pubg', 'cropped_images_manual'), preprocessing_add_border=True, improve_quality_for_small=True) # resize to bigger one if less than 50 height\n",
        "x5.image_text_to_strings('AgencyFB')\n",
        "\n",
        "x6 = TextProcessor(os.path.join(WORKDIR, 'datasets', 'pubg', 'cropped_images_manual'), preprocessing='BINARY_INV', preprocessing_resize_3033=True)\n",
        "x6.image_text_to_strings('AgencyFB')"
      ],
      "execution_count": 0,
      "outputs": []
    },
    {
      "cell_type": "markdown",
      "metadata": {
        "id": "nNmJ44fx4QLU",
        "colab_type": "text"
      },
      "source": [
        "#### Print examples of each model"
      ]
    },
    {
      "cell_type": "code",
      "metadata": {
        "id": "xJEGtXfjLbOj",
        "colab_type": "code",
        "outputId": "22882ab9-fb07-4626-a674-68e128e7fdd9",
        "colab": {
          "base_uri": "https://localhost:8080/",
          "height": 818
        }
      },
      "source": [
        "x1.print_one_example('username_pubg_141.png')\n",
        "x2.print_one_example('username_pubg_141.png')\n",
        "x3.print_one_example('username_pubg_141.png')\n",
        "x4.print_one_example('username_pubg_141.png')\n",
        "x5.print_one_example('username_pubg_141.png')\n",
        "x6.print_one_example('username_pubg_141.png')"
      ],
      "execution_count": 17,
      "outputs": [
        {
          "output_type": "display_data",
          "data": {
            "image/png": "[encoded data removed]",
            "text/plain": [
              "<Figure size 432x288 with 1 Axes>"
            ]
          },
          "metadata": {
            "tags": [],
            "needs_background": "light"
          }
        },
        {
          "output_type": "display_data",
          "data": {
            "image/png": "[encoded data removed]",
            "text/plain": [
              "<Figure size 432x288 with 1 Axes>"
            ]
          },
          "metadata": {
            "tags": [],
            "needs_background": "light"
          }
        },
        {
          "output_type": "display_data",
          "data": {
            "image/png": "[encoded data removed]",
            "text/plain": [
              "<Figure size 432x288 with 1 Axes>"
            ]
          },
          "metadata": {
            "tags": [],
            "needs_background": "light"
          }
        },
        {
          "output_type": "display_data",
          "data": {
            "image/png": "[encoded data removed]",
            "text/plain": [
              "<Figure size 432x288 with 1 Axes>"
            ]
          },
          "metadata": {
            "tags": [],
            "needs_background": "light"
          }
        },
        {
          "output_type": "display_data",
          "data": {
            "image/png": "[encoded data removed]",
            "text/plain": [
              "<Figure size 432x288 with 1 Axes>"
            ]
          },
          "metadata": {
            "tags": [],
            "needs_background": "light"
          }
        },
        {
          "output_type": "display_data",
          "data": {
            "image/png": "[encoded data removed]",
            "text/plain": [
              "<Figure size 432x288 with 1 Axes>"
            ]
          },
          "metadata": {
            "tags": [],
            "needs_background": "light"
          }
        }
      ]
    },
    {
      "cell_type": "markdown",
      "metadata": {
        "id": "5AQKd9OmPo9g",
        "colab_type": "text"
      },
      "source": [
        "### Show summary table"
      ]
    },
    {
      "cell_type": "code",
      "metadata": {
        "id": "XH9c3Pn5Pmv9",
        "colab_type": "code",
        "colab": {
          "base_uri": "https://localhost:8080/",
          "height": 855
        },
        "outputId": "36fb4e47-910d-4f08-863b-35723cdf50b2"
      },
      "source": [
        "resultTable.sort_values('LevenshteinScore')"
      ],
      "execution_count": 48,
      "outputs": [
        {
          "output_type": "execute_result",
          "data": {
            "text/html": [
              "<div>\n",
              "<style scoped>\n",
              "    .dataframe tbody tr th:only-of-type {\n",
              "        vertical-align: middle;\n",
              "    }\n",
              "\n",
              "    .dataframe tbody tr th {\n",
              "        vertical-align: top;\n",
              "    }\n",
              "\n",
              "    .dataframe thead th {\n",
              "        text-align: right;\n",
              "    }\n",
              "</style>\n",
              "<table border=\"1\" class=\"dataframe\">\n",
              "  <thead>\n",
              "    <tr style=\"text-align: right;\">\n",
              "      <th></th>\n",
              "      <th>Dataset</th>\n",
              "      <th>Model</th>\n",
              "      <th>Class</th>\n",
              "      <th>Preprocessing</th>\n",
              "      <th>Border</th>\n",
              "      <th>Resize_3033</th>\n",
              "      <th>ImproveQualityForSmall</th>\n",
              "      <th>GrayScale</th>\n",
              "      <th>FullTextScore</th>\n",
              "      <th>LevenshteinScore</th>\n",
              "    </tr>\n",
              "  </thead>\n",
              "  <tbody>\n",
              "    <tr>\n",
              "      <th>1</th>\n",
              "      <td>cropped_images_manual_full</td>\n",
              "      <td>AgencyFB</td>\n",
              "      <td>score</td>\n",
              "      <td>None</td>\n",
              "      <td>False</td>\n",
              "      <td>False</td>\n",
              "      <td>False</td>\n",
              "      <td>False</td>\n",
              "      <td>0.000000</td>\n",
              "      <td>29.935556</td>\n",
              "    </tr>\n",
              "    <tr>\n",
              "      <th>25</th>\n",
              "      <td>cropped_images_manual_full</td>\n",
              "      <td>AgencyFB</td>\n",
              "      <td>ALL</td>\n",
              "      <td>BINARY</td>\n",
              "      <td>True</td>\n",
              "      <td>False</td>\n",
              "      <td>True</td>\n",
              "      <td>False</td>\n",
              "      <td>0.247012</td>\n",
              "      <td>44.228790</td>\n",
              "    </tr>\n",
              "    <tr>\n",
              "      <th>12</th>\n",
              "      <td>cropped_images_manual_full</td>\n",
              "      <td>AgencyFB</td>\n",
              "      <td>ALL</td>\n",
              "      <td>BINARY</td>\n",
              "      <td>True</td>\n",
              "      <td>False</td>\n",
              "      <td>False</td>\n",
              "      <td>False</td>\n",
              "      <td>0.294821</td>\n",
              "      <td>46.288669</td>\n",
              "    </tr>\n",
              "    <tr>\n",
              "      <th>8</th>\n",
              "      <td>cropped_images_manual_full</td>\n",
              "      <td>AgencyFB</td>\n",
              "      <td>ALL</td>\n",
              "      <td>BINARY</td>\n",
              "      <td>False</td>\n",
              "      <td>False</td>\n",
              "      <td>False</td>\n",
              "      <td>False</td>\n",
              "      <td>0.306773</td>\n",
              "      <td>48.933065</td>\n",
              "    </tr>\n",
              "    <tr>\n",
              "      <th>14</th>\n",
              "      <td>cropped_images_manual_full</td>\n",
              "      <td>AgencyFB</td>\n",
              "      <td>ALL</td>\n",
              "      <td>BINARY</td>\n",
              "      <td>False</td>\n",
              "      <td>False</td>\n",
              "      <td>True</td>\n",
              "      <td>False</td>\n",
              "      <td>0.302789</td>\n",
              "      <td>49.352702</td>\n",
              "    </tr>\n",
              "    <tr>\n",
              "      <th>4</th>\n",
              "      <td>cropped_images_manual_full</td>\n",
              "      <td>Default</td>\n",
              "      <td>ALL</td>\n",
              "      <td>None</td>\n",
              "      <td>False</td>\n",
              "      <td>False</td>\n",
              "      <td>False</td>\n",
              "      <td>False</td>\n",
              "      <td>0.270916</td>\n",
              "      <td>52.026694</td>\n",
              "    </tr>\n",
              "    <tr>\n",
              "      <th>13</th>\n",
              "      <td>cropped_images_manual_full</td>\n",
              "      <td>AgencyFB</td>\n",
              "      <td>ALL</td>\n",
              "      <td>BINARY</td>\n",
              "      <td>False</td>\n",
              "      <td>True</td>\n",
              "      <td>False</td>\n",
              "      <td>False</td>\n",
              "      <td>0.302789</td>\n",
              "      <td>52.738427</td>\n",
              "    </tr>\n",
              "    <tr>\n",
              "      <th>10</th>\n",
              "      <td>cropped_images_manual_full</td>\n",
              "      <td>AgencyFB</td>\n",
              "      <td>ALL</td>\n",
              "      <td>OTSU</td>\n",
              "      <td>False</td>\n",
              "      <td>False</td>\n",
              "      <td>False</td>\n",
              "      <td>False</td>\n",
              "      <td>0.306773</td>\n",
              "      <td>52.768589</td>\n",
              "    </tr>\n",
              "    <tr>\n",
              "      <th>18</th>\n",
              "      <td>cropped_images_manual_full</td>\n",
              "      <td>AgencyFB</td>\n",
              "      <td>ALL</td>\n",
              "      <td>OTSU2</td>\n",
              "      <td>True</td>\n",
              "      <td>False</td>\n",
              "      <td>False</td>\n",
              "      <td>False</td>\n",
              "      <td>0.334661</td>\n",
              "      <td>53.212097</td>\n",
              "    </tr>\n",
              "    <tr>\n",
              "      <th>15</th>\n",
              "      <td>cropped_images_manual_full</td>\n",
              "      <td>AgencyFB</td>\n",
              "      <td>ALL</td>\n",
              "      <td>OTSU</td>\n",
              "      <td>True</td>\n",
              "      <td>False</td>\n",
              "      <td>False</td>\n",
              "      <td>False</td>\n",
              "      <td>0.334661</td>\n",
              "      <td>53.212097</td>\n",
              "    </tr>\n",
              "    <tr>\n",
              "      <th>11</th>\n",
              "      <td>cropped_images_manual_full</td>\n",
              "      <td>AgencyFB</td>\n",
              "      <td>ALL</td>\n",
              "      <td>False</td>\n",
              "      <td>False</td>\n",
              "      <td>False</td>\n",
              "      <td>False</td>\n",
              "      <td>True</td>\n",
              "      <td>0.330677</td>\n",
              "      <td>53.505726</td>\n",
              "    </tr>\n",
              "    <tr>\n",
              "      <th>17</th>\n",
              "      <td>cropped_images_manual_full</td>\n",
              "      <td>AgencyFB</td>\n",
              "      <td>ALL</td>\n",
              "      <td>OTSU</td>\n",
              "      <td>False</td>\n",
              "      <td>False</td>\n",
              "      <td>True</td>\n",
              "      <td>False</td>\n",
              "      <td>0.298805</td>\n",
              "      <td>53.898105</td>\n",
              "    </tr>\n",
              "    <tr>\n",
              "      <th>6</th>\n",
              "      <td>cropped_images_manual_full</td>\n",
              "      <td>AgencyFB</td>\n",
              "      <td>ALL</td>\n",
              "      <td>None</td>\n",
              "      <td>True</td>\n",
              "      <td>False</td>\n",
              "      <td>False</td>\n",
              "      <td>False</td>\n",
              "      <td>0.338645</td>\n",
              "      <td>54.246331</td>\n",
              "    </tr>\n",
              "    <tr>\n",
              "      <th>16</th>\n",
              "      <td>cropped_images_manual_full</td>\n",
              "      <td>AgencyFB</td>\n",
              "      <td>ALL</td>\n",
              "      <td>OTSU</td>\n",
              "      <td>False</td>\n",
              "      <td>True</td>\n",
              "      <td>False</td>\n",
              "      <td>False</td>\n",
              "      <td>0.286853</td>\n",
              "      <td>54.957540</td>\n",
              "    </tr>\n",
              "    <tr>\n",
              "      <th>0</th>\n",
              "      <td>cropped_images_manual_full</td>\n",
              "      <td>AgencyFB</td>\n",
              "      <td>ALL</td>\n",
              "      <td>None</td>\n",
              "      <td>False</td>\n",
              "      <td>False</td>\n",
              "      <td>False</td>\n",
              "      <td>False</td>\n",
              "      <td>0.334661</td>\n",
              "      <td>56.623629</td>\n",
              "    </tr>\n",
              "    <tr>\n",
              "      <th>5</th>\n",
              "      <td>cropped_images_manual_full</td>\n",
              "      <td>AgencyFB</td>\n",
              "      <td>ALL</td>\n",
              "      <td>None</td>\n",
              "      <td>False</td>\n",
              "      <td>False</td>\n",
              "      <td>True</td>\n",
              "      <td>False</td>\n",
              "      <td>0.314741</td>\n",
              "      <td>57.439073</td>\n",
              "    </tr>\n",
              "    <tr>\n",
              "      <th>7</th>\n",
              "      <td>cropped_images_manual_full</td>\n",
              "      <td>AgencyFB</td>\n",
              "      <td>ALL</td>\n",
              "      <td>None</td>\n",
              "      <td>False</td>\n",
              "      <td>True</td>\n",
              "      <td>False</td>\n",
              "      <td>False</td>\n",
              "      <td>0.350598</td>\n",
              "      <td>58.730202</td>\n",
              "    </tr>\n",
              "    <tr>\n",
              "      <th>2</th>\n",
              "      <td>cropped_images_manual_full</td>\n",
              "      <td>AgencyFB</td>\n",
              "      <td>username</td>\n",
              "      <td>None</td>\n",
              "      <td>False</td>\n",
              "      <td>False</td>\n",
              "      <td>False</td>\n",
              "      <td>False</td>\n",
              "      <td>0.571429</td>\n",
              "      <td>63.970476</td>\n",
              "    </tr>\n",
              "    <tr>\n",
              "      <th>23</th>\n",
              "      <td>cropped_images_manual_full</td>\n",
              "      <td>AgencyFB</td>\n",
              "      <td>ALL</td>\n",
              "      <td>BINARY_INV</td>\n",
              "      <td>True</td>\n",
              "      <td>False</td>\n",
              "      <td>True</td>\n",
              "      <td>False</td>\n",
              "      <td>0.478088</td>\n",
              "      <td>73.730121</td>\n",
              "    </tr>\n",
              "    <tr>\n",
              "      <th>24</th>\n",
              "      <td>cropped_images_manual_full</td>\n",
              "      <td>AgencyFB</td>\n",
              "      <td>ALL</td>\n",
              "      <td>BINARY_INV</td>\n",
              "      <td>True</td>\n",
              "      <td>True</td>\n",
              "      <td>False</td>\n",
              "      <td>False</td>\n",
              "      <td>0.450199</td>\n",
              "      <td>74.206331</td>\n",
              "    </tr>\n",
              "    <tr>\n",
              "      <th>22</th>\n",
              "      <td>cropped_images_manual_full</td>\n",
              "      <td>AgencyFB</td>\n",
              "      <td>ALL</td>\n",
              "      <td>BINARY_INV</td>\n",
              "      <td>True</td>\n",
              "      <td>True</td>\n",
              "      <td>False</td>\n",
              "      <td>False</td>\n",
              "      <td>0.450199</td>\n",
              "      <td>74.206331</td>\n",
              "    </tr>\n",
              "    <tr>\n",
              "      <th>21</th>\n",
              "      <td>cropped_images_manual_full</td>\n",
              "      <td>AgencyFB</td>\n",
              "      <td>ALL</td>\n",
              "      <td>BINARY_INV</td>\n",
              "      <td>False</td>\n",
              "      <td>False</td>\n",
              "      <td>True</td>\n",
              "      <td>False</td>\n",
              "      <td>0.486056</td>\n",
              "      <td>74.655000</td>\n",
              "    </tr>\n",
              "    <tr>\n",
              "      <th>19</th>\n",
              "      <td>cropped_images_manual_full</td>\n",
              "      <td>AgencyFB</td>\n",
              "      <td>ALL</td>\n",
              "      <td>BINARY_INV</td>\n",
              "      <td>True</td>\n",
              "      <td>False</td>\n",
              "      <td>False</td>\n",
              "      <td>False</td>\n",
              "      <td>0.498008</td>\n",
              "      <td>75.024355</td>\n",
              "    </tr>\n",
              "    <tr>\n",
              "      <th>3</th>\n",
              "      <td>cropped_images_manual_full</td>\n",
              "      <td>AgencyFB</td>\n",
              "      <td>stat</td>\n",
              "      <td>None</td>\n",
              "      <td>False</td>\n",
              "      <td>False</td>\n",
              "      <td>False</td>\n",
              "      <td>False</td>\n",
              "      <td>0.418605</td>\n",
              "      <td>75.233253</td>\n",
              "    </tr>\n",
              "    <tr>\n",
              "      <th>9</th>\n",
              "      <td>cropped_images_manual_full</td>\n",
              "      <td>AgencyFB</td>\n",
              "      <td>ALL</td>\n",
              "      <td>BINARY_INV</td>\n",
              "      <td>False</td>\n",
              "      <td>False</td>\n",
              "      <td>False</td>\n",
              "      <td>False</td>\n",
              "      <td>0.517928</td>\n",
              "      <td>75.237984</td>\n",
              "    </tr>\n",
              "    <tr>\n",
              "      <th>20</th>\n",
              "      <td>cropped_images_manual_full</td>\n",
              "      <td>AgencyFB</td>\n",
              "      <td>ALL</td>\n",
              "      <td>BINARY_INV</td>\n",
              "      <td>False</td>\n",
              "      <td>True</td>\n",
              "      <td>False</td>\n",
              "      <td>False</td>\n",
              "      <td>0.486056</td>\n",
              "      <td>75.266129</td>\n",
              "    </tr>\n",
              "  </tbody>\n",
              "</table>\n",
              "</div>"
            ],
            "text/plain": [
              "                       Dataset     Model  ... FullTextScore LevenshteinScore\n",
              "1   cropped_images_manual_full  AgencyFB  ...      0.000000        29.935556\n",
              "25  cropped_images_manual_full  AgencyFB  ...      0.247012        44.228790\n",
              "12  cropped_images_manual_full  AgencyFB  ...      0.294821        46.288669\n",
              "8   cropped_images_manual_full  AgencyFB  ...      0.306773        48.933065\n",
              "14  cropped_images_manual_full  AgencyFB  ...      0.302789        49.352702\n",
              "4   cropped_images_manual_full   Default  ...      0.270916        52.026694\n",
              "13  cropped_images_manual_full  AgencyFB  ...      0.302789        52.738427\n",
              "10  cropped_images_manual_full  AgencyFB  ...      0.306773        52.768589\n",
              "18  cropped_images_manual_full  AgencyFB  ...      0.334661        53.212097\n",
              "15  cropped_images_manual_full  AgencyFB  ...      0.334661        53.212097\n",
              "11  cropped_images_manual_full  AgencyFB  ...      0.330677        53.505726\n",
              "17  cropped_images_manual_full  AgencyFB  ...      0.298805        53.898105\n",
              "6   cropped_images_manual_full  AgencyFB  ...      0.338645        54.246331\n",
              "16  cropped_images_manual_full  AgencyFB  ...      0.286853        54.957540\n",
              "0   cropped_images_manual_full  AgencyFB  ...      0.334661        56.623629\n",
              "5   cropped_images_manual_full  AgencyFB  ...      0.314741        57.439073\n",
              "7   cropped_images_manual_full  AgencyFB  ...      0.350598        58.730202\n",
              "2   cropped_images_manual_full  AgencyFB  ...      0.571429        63.970476\n",
              "23  cropped_images_manual_full  AgencyFB  ...      0.478088        73.730121\n",
              "24  cropped_images_manual_full  AgencyFB  ...      0.450199        74.206331\n",
              "22  cropped_images_manual_full  AgencyFB  ...      0.450199        74.206331\n",
              "21  cropped_images_manual_full  AgencyFB  ...      0.486056        74.655000\n",
              "19  cropped_images_manual_full  AgencyFB  ...      0.498008        75.024355\n",
              "3   cropped_images_manual_full  AgencyFB  ...      0.418605        75.233253\n",
              "9   cropped_images_manual_full  AgencyFB  ...      0.517928        75.237984\n",
              "20  cropped_images_manual_full  AgencyFB  ...      0.486056        75.266129\n",
              "\n",
              "[26 rows x 10 columns]"
            ]
          },
          "metadata": {
            "tags": []
          },
          "execution_count": 48
        }
      ]
    },
    {
      "cell_type": "markdown",
      "metadata": {
        "id": "BUN7DNlU7cxD",
        "colab_type": "text"
      },
      "source": [
        "### Execution of best model for PC images dataset only"
      ]
    },
    {
      "cell_type": "code",
      "metadata": {
        "id": "Es4eBD3V7pQL",
        "colab_type": "code",
        "colab": {
          "base_uri": "https://localhost:8080/",
          "height": 51
        },
        "outputId": "15efd7d7-f109-41d4-dbde-1e1b0d5cf5d9"
      },
      "source": [
        "#resultTable[resultTable['Value']==resultTable['Value'].max()]\n",
        "#resultTable.loc[resultTable['LevenshteinScore'].idxmax()]\n",
        "\n",
        "# Get image filter\n",
        "filter_list_pc = []\n",
        "for r, d, f in os.walk(os.path.join(WORKDIR, 'datasets', 'pubg_only_pc')):\n",
        "        for file in f:\n",
        "            if '.jpg' in file:\n",
        "              filter_list_pc.append(file.split(\"_\",1)[1][0:3])\n",
        "\n",
        "paramTable = resultTable.drop(resultTable[resultTable.Class != 'ALL'].index)\n",
        "\n",
        "x = TextProcessor(os.path.join(WORKDIR, 'datasets', 'pubg', 'cropped_images_manual'), \n",
        "                  preprocessing             = paramTable.loc[paramTable['LevenshteinScore'].idxmax()]['Preprocessing'], \n",
        "                  preprocessing_add_border  = paramTable.loc[paramTable['LevenshteinScore'].idxmax()]['Border'], \n",
        "                  improve_quality_for_small = paramTable.loc[paramTable['LevenshteinScore'].idxmax()]['ImproveQualityForSmall'],\n",
        "                  preprocessing_resize_3033 = paramTable.loc[paramTable['LevenshteinScore'].idxmax()]['Resize_3033'],\n",
        "                  use_grayscale             = paramTable.loc[paramTable['LevenshteinScore'].idxmax()]['GrayScale'],\n",
        "                  filter_list = filter_list_pc)\n",
        "\n",
        "x.image_text_to_strings(paramTable.loc[paramTable['LevenshteinScore'].idxmax()]['Model'])\n",
        "\n",
        "#for item in x.text_boxes:\n",
        "#  print(x.text_boxes[item])\n",
        "\n",
        "fulltext_score = x.evaluate_manual('ALL')\n",
        "lev_score = x.calculate_eval_Levenshtein('ALL')\n",
        "\n",
        "print(fulltext_score)\n",
        "print(lev_score)\n",
        "\n",
        "resultTable = resultTable.append({'Dataset' : 'PC_only', \n",
        "                    'Model' : 'AgencyFB', \n",
        "                    'Class' : 'ALL', \n",
        "                    'Preprocessing' : x.preprocessing if x.preprocessing != None else False,\n",
        "                    'Border' : True if x.preprocessing_add_border != None else False,\n",
        "                    'Resize_3033' : True if x.preprocessing_resize_3033 != None else False,\n",
        "                    'ImproveQualityForSmall' : True if x.improve_quality_for_small != None else False,\n",
        "                    'GrayScale' : True if x.grayscale != None else False,\n",
        "                    'FullTextScore' : fulltext_score, \n",
        "                    'LevenshteinScore' : lev_score} , ignore_index=True)"
      ],
      "execution_count": 49,
      "outputs": [
        {
          "output_type": "stream",
          "text": [
            "0.43089430894308944\n",
            "74.55634146341464\n"
          ],
          "name": "stdout"
        }
      ]
    },
    {
      "cell_type": "markdown",
      "metadata": {
        "id": "JEteATpXx2iv",
        "colab_type": "text"
      },
      "source": [
        "#### Summary with execution for PC only"
      ]
    },
    {
      "cell_type": "code",
      "metadata": {
        "id": "Xr5cr5i4xzmi",
        "colab_type": "code",
        "colab": {
          "base_uri": "https://localhost:8080/",
          "height": 886
        },
        "outputId": "f0f71ba2-2975-4962-c179-9edb2020ad75"
      },
      "source": [
        "resultTable.sort_values('LevenshteinScore')"
      ],
      "execution_count": 50,
      "outputs": [
        {
          "output_type": "execute_result",
          "data": {
            "text/html": [
              "<div>\n",
              "<style scoped>\n",
              "    .dataframe tbody tr th:only-of-type {\n",
              "        vertical-align: middle;\n",
              "    }\n",
              "\n",
              "    .dataframe tbody tr th {\n",
              "        vertical-align: top;\n",
              "    }\n",
              "\n",
              "    .dataframe thead th {\n",
              "        text-align: right;\n",
              "    }\n",
              "</style>\n",
              "<table border=\"1\" class=\"dataframe\">\n",
              "  <thead>\n",
              "    <tr style=\"text-align: right;\">\n",
              "      <th></th>\n",
              "      <th>Dataset</th>\n",
              "      <th>Model</th>\n",
              "      <th>Class</th>\n",
              "      <th>Preprocessing</th>\n",
              "      <th>Border</th>\n",
              "      <th>Resize_3033</th>\n",
              "      <th>ImproveQualityForSmall</th>\n",
              "      <th>GrayScale</th>\n",
              "      <th>FullTextScore</th>\n",
              "      <th>LevenshteinScore</th>\n",
              "    </tr>\n",
              "  </thead>\n",
              "  <tbody>\n",
              "    <tr>\n",
              "      <th>1</th>\n",
              "      <td>cropped_images_manual_full</td>\n",
              "      <td>AgencyFB</td>\n",
              "      <td>score</td>\n",
              "      <td>None</td>\n",
              "      <td>False</td>\n",
              "      <td>False</td>\n",
              "      <td>False</td>\n",
              "      <td>False</td>\n",
              "      <td>0.000000</td>\n",
              "      <td>29.935556</td>\n",
              "    </tr>\n",
              "    <tr>\n",
              "      <th>25</th>\n",
              "      <td>cropped_images_manual_full</td>\n",
              "      <td>AgencyFB</td>\n",
              "      <td>ALL</td>\n",
              "      <td>BINARY</td>\n",
              "      <td>True</td>\n",
              "      <td>False</td>\n",
              "      <td>True</td>\n",
              "      <td>False</td>\n",
              "      <td>0.247012</td>\n",
              "      <td>44.228790</td>\n",
              "    </tr>\n",
              "    <tr>\n",
              "      <th>12</th>\n",
              "      <td>cropped_images_manual_full</td>\n",
              "      <td>AgencyFB</td>\n",
              "      <td>ALL</td>\n",
              "      <td>BINARY</td>\n",
              "      <td>True</td>\n",
              "      <td>False</td>\n",
              "      <td>False</td>\n",
              "      <td>False</td>\n",
              "      <td>0.294821</td>\n",
              "      <td>46.288669</td>\n",
              "    </tr>\n",
              "    <tr>\n",
              "      <th>8</th>\n",
              "      <td>cropped_images_manual_full</td>\n",
              "      <td>AgencyFB</td>\n",
              "      <td>ALL</td>\n",
              "      <td>BINARY</td>\n",
              "      <td>False</td>\n",
              "      <td>False</td>\n",
              "      <td>False</td>\n",
              "      <td>False</td>\n",
              "      <td>0.306773</td>\n",
              "      <td>48.933065</td>\n",
              "    </tr>\n",
              "    <tr>\n",
              "      <th>14</th>\n",
              "      <td>cropped_images_manual_full</td>\n",
              "      <td>AgencyFB</td>\n",
              "      <td>ALL</td>\n",
              "      <td>BINARY</td>\n",
              "      <td>False</td>\n",
              "      <td>False</td>\n",
              "      <td>True</td>\n",
              "      <td>False</td>\n",
              "      <td>0.302789</td>\n",
              "      <td>49.352702</td>\n",
              "    </tr>\n",
              "    <tr>\n",
              "      <th>4</th>\n",
              "      <td>cropped_images_manual_full</td>\n",
              "      <td>Default</td>\n",
              "      <td>ALL</td>\n",
              "      <td>None</td>\n",
              "      <td>False</td>\n",
              "      <td>False</td>\n",
              "      <td>False</td>\n",
              "      <td>False</td>\n",
              "      <td>0.270916</td>\n",
              "      <td>52.026694</td>\n",
              "    </tr>\n",
              "    <tr>\n",
              "      <th>13</th>\n",
              "      <td>cropped_images_manual_full</td>\n",
              "      <td>AgencyFB</td>\n",
              "      <td>ALL</td>\n",
              "      <td>BINARY</td>\n",
              "      <td>False</td>\n",
              "      <td>True</td>\n",
              "      <td>False</td>\n",
              "      <td>False</td>\n",
              "      <td>0.302789</td>\n",
              "      <td>52.738427</td>\n",
              "    </tr>\n",
              "    <tr>\n",
              "      <th>10</th>\n",
              "      <td>cropped_images_manual_full</td>\n",
              "      <td>AgencyFB</td>\n",
              "      <td>ALL</td>\n",
              "      <td>OTSU</td>\n",
              "      <td>False</td>\n",
              "      <td>False</td>\n",
              "      <td>False</td>\n",
              "      <td>False</td>\n",
              "      <td>0.306773</td>\n",
              "      <td>52.768589</td>\n",
              "    </tr>\n",
              "    <tr>\n",
              "      <th>18</th>\n",
              "      <td>cropped_images_manual_full</td>\n",
              "      <td>AgencyFB</td>\n",
              "      <td>ALL</td>\n",
              "      <td>OTSU2</td>\n",
              "      <td>True</td>\n",
              "      <td>False</td>\n",
              "      <td>False</td>\n",
              "      <td>False</td>\n",
              "      <td>0.334661</td>\n",
              "      <td>53.212097</td>\n",
              "    </tr>\n",
              "    <tr>\n",
              "      <th>15</th>\n",
              "      <td>cropped_images_manual_full</td>\n",
              "      <td>AgencyFB</td>\n",
              "      <td>ALL</td>\n",
              "      <td>OTSU</td>\n",
              "      <td>True</td>\n",
              "      <td>False</td>\n",
              "      <td>False</td>\n",
              "      <td>False</td>\n",
              "      <td>0.334661</td>\n",
              "      <td>53.212097</td>\n",
              "    </tr>\n",
              "    <tr>\n",
              "      <th>11</th>\n",
              "      <td>cropped_images_manual_full</td>\n",
              "      <td>AgencyFB</td>\n",
              "      <td>ALL</td>\n",
              "      <td>False</td>\n",
              "      <td>False</td>\n",
              "      <td>False</td>\n",
              "      <td>False</td>\n",
              "      <td>True</td>\n",
              "      <td>0.330677</td>\n",
              "      <td>53.505726</td>\n",
              "    </tr>\n",
              "    <tr>\n",
              "      <th>17</th>\n",
              "      <td>cropped_images_manual_full</td>\n",
              "      <td>AgencyFB</td>\n",
              "      <td>ALL</td>\n",
              "      <td>OTSU</td>\n",
              "      <td>False</td>\n",
              "      <td>False</td>\n",
              "      <td>True</td>\n",
              "      <td>False</td>\n",
              "      <td>0.298805</td>\n",
              "      <td>53.898105</td>\n",
              "    </tr>\n",
              "    <tr>\n",
              "      <th>6</th>\n",
              "      <td>cropped_images_manual_full</td>\n",
              "      <td>AgencyFB</td>\n",
              "      <td>ALL</td>\n",
              "      <td>None</td>\n",
              "      <td>True</td>\n",
              "      <td>False</td>\n",
              "      <td>False</td>\n",
              "      <td>False</td>\n",
              "      <td>0.338645</td>\n",
              "      <td>54.246331</td>\n",
              "    </tr>\n",
              "    <tr>\n",
              "      <th>16</th>\n",
              "      <td>cropped_images_manual_full</td>\n",
              "      <td>AgencyFB</td>\n",
              "      <td>ALL</td>\n",
              "      <td>OTSU</td>\n",
              "      <td>False</td>\n",
              "      <td>True</td>\n",
              "      <td>False</td>\n",
              "      <td>False</td>\n",
              "      <td>0.286853</td>\n",
              "      <td>54.957540</td>\n",
              "    </tr>\n",
              "    <tr>\n",
              "      <th>0</th>\n",
              "      <td>cropped_images_manual_full</td>\n",
              "      <td>AgencyFB</td>\n",
              "      <td>ALL</td>\n",
              "      <td>None</td>\n",
              "      <td>False</td>\n",
              "      <td>False</td>\n",
              "      <td>False</td>\n",
              "      <td>False</td>\n",
              "      <td>0.334661</td>\n",
              "      <td>56.623629</td>\n",
              "    </tr>\n",
              "    <tr>\n",
              "      <th>5</th>\n",
              "      <td>cropped_images_manual_full</td>\n",
              "      <td>AgencyFB</td>\n",
              "      <td>ALL</td>\n",
              "      <td>None</td>\n",
              "      <td>False</td>\n",
              "      <td>False</td>\n",
              "      <td>True</td>\n",
              "      <td>False</td>\n",
              "      <td>0.314741</td>\n",
              "      <td>57.439073</td>\n",
              "    </tr>\n",
              "    <tr>\n",
              "      <th>7</th>\n",
              "      <td>cropped_images_manual_full</td>\n",
              "      <td>AgencyFB</td>\n",
              "      <td>ALL</td>\n",
              "      <td>None</td>\n",
              "      <td>False</td>\n",
              "      <td>True</td>\n",
              "      <td>False</td>\n",
              "      <td>False</td>\n",
              "      <td>0.350598</td>\n",
              "      <td>58.730202</td>\n",
              "    </tr>\n",
              "    <tr>\n",
              "      <th>2</th>\n",
              "      <td>cropped_images_manual_full</td>\n",
              "      <td>AgencyFB</td>\n",
              "      <td>username</td>\n",
              "      <td>None</td>\n",
              "      <td>False</td>\n",
              "      <td>False</td>\n",
              "      <td>False</td>\n",
              "      <td>False</td>\n",
              "      <td>0.571429</td>\n",
              "      <td>63.970476</td>\n",
              "    </tr>\n",
              "    <tr>\n",
              "      <th>23</th>\n",
              "      <td>cropped_images_manual_full</td>\n",
              "      <td>AgencyFB</td>\n",
              "      <td>ALL</td>\n",
              "      <td>BINARY_INV</td>\n",
              "      <td>True</td>\n",
              "      <td>False</td>\n",
              "      <td>True</td>\n",
              "      <td>False</td>\n",
              "      <td>0.478088</td>\n",
              "      <td>73.730121</td>\n",
              "    </tr>\n",
              "    <tr>\n",
              "      <th>22</th>\n",
              "      <td>cropped_images_manual_full</td>\n",
              "      <td>AgencyFB</td>\n",
              "      <td>ALL</td>\n",
              "      <td>BINARY_INV</td>\n",
              "      <td>True</td>\n",
              "      <td>True</td>\n",
              "      <td>False</td>\n",
              "      <td>False</td>\n",
              "      <td>0.450199</td>\n",
              "      <td>74.206331</td>\n",
              "    </tr>\n",
              "    <tr>\n",
              "      <th>24</th>\n",
              "      <td>cropped_images_manual_full</td>\n",
              "      <td>AgencyFB</td>\n",
              "      <td>ALL</td>\n",
              "      <td>BINARY_INV</td>\n",
              "      <td>True</td>\n",
              "      <td>True</td>\n",
              "      <td>False</td>\n",
              "      <td>False</td>\n",
              "      <td>0.450199</td>\n",
              "      <td>74.206331</td>\n",
              "    </tr>\n",
              "    <tr>\n",
              "      <th>26</th>\n",
              "      <td>PC_only</td>\n",
              "      <td>AgencyFB</td>\n",
              "      <td>ALL</td>\n",
              "      <td>False</td>\n",
              "      <td>True</td>\n",
              "      <td>True</td>\n",
              "      <td>True</td>\n",
              "      <td>True</td>\n",
              "      <td>0.430894</td>\n",
              "      <td>74.556341</td>\n",
              "    </tr>\n",
              "    <tr>\n",
              "      <th>21</th>\n",
              "      <td>cropped_images_manual_full</td>\n",
              "      <td>AgencyFB</td>\n",
              "      <td>ALL</td>\n",
              "      <td>BINARY_INV</td>\n",
              "      <td>False</td>\n",
              "      <td>False</td>\n",
              "      <td>True</td>\n",
              "      <td>False</td>\n",
              "      <td>0.486056</td>\n",
              "      <td>74.655000</td>\n",
              "    </tr>\n",
              "    <tr>\n",
              "      <th>19</th>\n",
              "      <td>cropped_images_manual_full</td>\n",
              "      <td>AgencyFB</td>\n",
              "      <td>ALL</td>\n",
              "      <td>BINARY_INV</td>\n",
              "      <td>True</td>\n",
              "      <td>False</td>\n",
              "      <td>False</td>\n",
              "      <td>False</td>\n",
              "      <td>0.498008</td>\n",
              "      <td>75.024355</td>\n",
              "    </tr>\n",
              "    <tr>\n",
              "      <th>3</th>\n",
              "      <td>cropped_images_manual_full</td>\n",
              "      <td>AgencyFB</td>\n",
              "      <td>stat</td>\n",
              "      <td>None</td>\n",
              "      <td>False</td>\n",
              "      <td>False</td>\n",
              "      <td>False</td>\n",
              "      <td>False</td>\n",
              "      <td>0.418605</td>\n",
              "      <td>75.233253</td>\n",
              "    </tr>\n",
              "    <tr>\n",
              "      <th>9</th>\n",
              "      <td>cropped_images_manual_full</td>\n",
              "      <td>AgencyFB</td>\n",
              "      <td>ALL</td>\n",
              "      <td>BINARY_INV</td>\n",
              "      <td>False</td>\n",
              "      <td>False</td>\n",
              "      <td>False</td>\n",
              "      <td>False</td>\n",
              "      <td>0.517928</td>\n",
              "      <td>75.237984</td>\n",
              "    </tr>\n",
              "    <tr>\n",
              "      <th>20</th>\n",
              "      <td>cropped_images_manual_full</td>\n",
              "      <td>AgencyFB</td>\n",
              "      <td>ALL</td>\n",
              "      <td>BINARY_INV</td>\n",
              "      <td>False</td>\n",
              "      <td>True</td>\n",
              "      <td>False</td>\n",
              "      <td>False</td>\n",
              "      <td>0.486056</td>\n",
              "      <td>75.266129</td>\n",
              "    </tr>\n",
              "  </tbody>\n",
              "</table>\n",
              "</div>"
            ],
            "text/plain": [
              "                       Dataset     Model  ... FullTextScore LevenshteinScore\n",
              "1   cropped_images_manual_full  AgencyFB  ...      0.000000        29.935556\n",
              "25  cropped_images_manual_full  AgencyFB  ...      0.247012        44.228790\n",
              "12  cropped_images_manual_full  AgencyFB  ...      0.294821        46.288669\n",
              "8   cropped_images_manual_full  AgencyFB  ...      0.306773        48.933065\n",
              "14  cropped_images_manual_full  AgencyFB  ...      0.302789        49.352702\n",
              "4   cropped_images_manual_full   Default  ...      0.270916        52.026694\n",
              "13  cropped_images_manual_full  AgencyFB  ...      0.302789        52.738427\n",
              "10  cropped_images_manual_full  AgencyFB  ...      0.306773        52.768589\n",
              "18  cropped_images_manual_full  AgencyFB  ...      0.334661        53.212097\n",
              "15  cropped_images_manual_full  AgencyFB  ...      0.334661        53.212097\n",
              "11  cropped_images_manual_full  AgencyFB  ...      0.330677        53.505726\n",
              "17  cropped_images_manual_full  AgencyFB  ...      0.298805        53.898105\n",
              "6   cropped_images_manual_full  AgencyFB  ...      0.338645        54.246331\n",
              "16  cropped_images_manual_full  AgencyFB  ...      0.286853        54.957540\n",
              "0   cropped_images_manual_full  AgencyFB  ...      0.334661        56.623629\n",
              "5   cropped_images_manual_full  AgencyFB  ...      0.314741        57.439073\n",
              "7   cropped_images_manual_full  AgencyFB  ...      0.350598        58.730202\n",
              "2   cropped_images_manual_full  AgencyFB  ...      0.571429        63.970476\n",
              "23  cropped_images_manual_full  AgencyFB  ...      0.478088        73.730121\n",
              "22  cropped_images_manual_full  AgencyFB  ...      0.450199        74.206331\n",
              "24  cropped_images_manual_full  AgencyFB  ...      0.450199        74.206331\n",
              "26                     PC_only  AgencyFB  ...      0.430894        74.556341\n",
              "21  cropped_images_manual_full  AgencyFB  ...      0.486056        74.655000\n",
              "19  cropped_images_manual_full  AgencyFB  ...      0.498008        75.024355\n",
              "3   cropped_images_manual_full  AgencyFB  ...      0.418605        75.233253\n",
              "9   cropped_images_manual_full  AgencyFB  ...      0.517928        75.237984\n",
              "20  cropped_images_manual_full  AgencyFB  ...      0.486056        75.266129\n",
              "\n",
              "[27 rows x 10 columns]"
            ]
          },
          "metadata": {
            "tags": []
          },
          "execution_count": 50
        }
      ]
    },
    {
      "cell_type": "markdown",
      "metadata": {
        "id": "--uDU1ZI4U15",
        "colab_type": "text"
      },
      "source": [
        "# Tesseract run using installed module from unix console"
      ]
    },
    {
      "cell_type": "code",
      "metadata": {
        "id": "kkXqrLHNOec5",
        "colab_type": "code",
        "outputId": "07ea7a25-edd3-42a8-a066-3684c3df6ad8",
        "colab": {
          "base_uri": "https://localhost:8080/",
          "height": 51
        }
      },
      "source": [
        "!tesseract segmentation/datasets/pubg/cropped_images_manual/username_pubg_141.png username_141 --psm 6 -c tessedit_char_whitelist=0123456789abcdefghijklmnopqrstuvwxyzABCDEFGHIJKLMNOPQRSTUVWXYZ[]_- lstmbox"
      ],
      "execution_count": 51,
      "outputs": [
        {
          "output_type": "stream",
          "text": [
            "Tesseract Open Source OCR Engine v5.0.0-alpha-689-ga06d with Leptonica\n",
            "Warning: Invalid resolution 0 dpi. Using 70 instead.\n"
          ],
          "name": "stdout"
        }
      ]
    }
  ]
}